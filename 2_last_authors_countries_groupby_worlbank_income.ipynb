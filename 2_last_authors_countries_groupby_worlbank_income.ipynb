{
  "cells": [
    {
      "cell_type": "markdown",
      "metadata": {
        "id": "view-in-github",
        "colab_type": "text"
      },
      "source": [
        "<a href=\"https://colab.research.google.com/github/descartesmbogning/Marburg-virus-research/blob/main/2_last_authors_countries_groupby_worlbank_income.ipynb\" target=\"_parent\"><img src=\"https://colab.research.google.com/assets/colab-badge.svg\" alt=\"Open In Colab\"/></a>"
      ]
    },
    {
      "cell_type": "code",
      "execution_count": null,
      "id": "caa9113d-04c0-44e0-aa21-c8643ac4acae",
      "metadata": {
        "id": "caa9113d-04c0-44e0-aa21-c8643ac4acae"
      },
      "outputs": [],
      "source": [
        "import pandas as pd\n",
        "import numpy as np\n",
        "import re\n",
        "from functools import reduce\n",
        "import seaborn as sns\n",
        "import missingno as msno\n",
        "%matplotlib inline\n",
        "\n",
        "import matplotlib.pyplot as plt\n",
        "from scipy.stats import norm\n"
      ]
    },
    {
      "cell_type": "code",
      "execution_count": null,
      "id": "3789f8f0",
      "metadata": {
        "id": "3789f8f0"
      },
      "outputs": [],
      "source": [
        "# Set the figure size - handy for larger output\n",
        "from matplotlib import pyplot as plt\n",
        "plt.rcParams[\"figure.figsize\"] = [10, 6]\n",
        "# Set up with a higher resolution screen (useful on Mac)\n",
        "%config InlineBackend.figure_format = 'retina'"
      ]
    },
    {
      "cell_type": "code",
      "execution_count": null,
      "id": "86f13843",
      "metadata": {
        "id": "86f13843"
      },
      "outputs": [],
      "source": []
    },
    {
      "cell_type": "markdown",
      "id": "54cf1ec1",
      "metadata": {
        "id": "54cf1ec1"
      },
      "source": [
        "## import data"
      ]
    },
    {
      "cell_type": "code",
      "execution_count": null,
      "id": "99a4b053",
      "metadata": {
        "scrolled": true,
        "id": "99a4b053",
        "outputId": "68fa0b04-669c-4c72-8b74-a3efe3cfe4ab"
      },
      "outputs": [
        {
          "data": {
            "text/html": [
              "<div>\n",
              "<style scoped>\n",
              "    .dataframe tbody tr th:only-of-type {\n",
              "        vertical-align: middle;\n",
              "    }\n",
              "\n",
              "    .dataframe tbody tr th {\n",
              "        vertical-align: top;\n",
              "    }\n",
              "\n",
              "    .dataframe thead th {\n",
              "        text-align: right;\n",
              "    }\n",
              "</style>\n",
              "<table border=\"1\" class=\"dataframe\">\n",
              "  <thead>\n",
              "    <tr style=\"text-align: right;\">\n",
              "      <th></th>\n",
              "      <th>wos_ID</th>\n",
              "      <th>Author Full Names</th>\n",
              "      <th>Addresses</th>\n",
              "      <th>last_author</th>\n",
              "      <th>Australia</th>\n",
              "      <th>Bangladesh</th>\n",
              "      <th>Belgium</th>\n",
              "      <th>United States</th>\n",
              "      <th>Canada</th>\n",
              "      <th>Colombia</th>\n",
              "      <th>...</th>\n",
              "      <th>Slovakia</th>\n",
              "      <th>South Africa</th>\n",
              "      <th>Spain</th>\n",
              "      <th>Sweden</th>\n",
              "      <th>Switzerland</th>\n",
              "      <th>Tanzania</th>\n",
              "      <th>Thailand</th>\n",
              "      <th>Turkey</th>\n",
              "      <th>Uganda</th>\n",
              "      <th>Zambia</th>\n",
              "    </tr>\n",
              "  </thead>\n",
              "  <tbody>\n",
              "    <tr>\n",
              "      <th>0</th>\n",
              "      <td>wos:a1973q658600007</td>\n",
              "      <td>MARTINI, GA</td>\n",
              "      <td>UNIV MARBURG,MARBURG,WEST GERMANY</td>\n",
              "      <td>MARTINI, GA</td>\n",
              "      <td>NaN</td>\n",
              "      <td>NaN</td>\n",
              "      <td>NaN</td>\n",
              "      <td>NaN</td>\n",
              "      <td>NaN</td>\n",
              "      <td>NaN</td>\n",
              "      <td>...</td>\n",
              "      <td>NaN</td>\n",
              "      <td>NaN</td>\n",
              "      <td>NaN</td>\n",
              "      <td>NaN</td>\n",
              "      <td>NaN</td>\n",
              "      <td>NaN</td>\n",
              "      <td>NaN</td>\n",
              "      <td>NaN</td>\n",
              "      <td>NaN</td>\n",
              "      <td>NaN</td>\n",
              "    </tr>\n",
              "    <tr>\n",
              "      <th>1</th>\n",
              "      <td>wos:a1974t169200002</td>\n",
              "      <td>MONATH, TP</td>\n",
              "      <td>WORLD HLTH ORG,CTR DIS CONTROL,REG REFER CTR A...</td>\n",
              "      <td>MONATH, TP</td>\n",
              "      <td>NaN</td>\n",
              "      <td>NaN</td>\n",
              "      <td>NaN</td>\n",
              "      <td>NaN</td>\n",
              "      <td>NaN</td>\n",
              "      <td>NaN</td>\n",
              "      <td>...</td>\n",
              "      <td>NaN</td>\n",
              "      <td>NaN</td>\n",
              "      <td>NaN</td>\n",
              "      <td>NaN</td>\n",
              "      <td>NaN</td>\n",
              "      <td>NaN</td>\n",
              "      <td>NaN</td>\n",
              "      <td>NaN</td>\n",
              "      <td>NaN</td>\n",
              "      <td>NaN</td>\n",
              "    </tr>\n",
              "    <tr>\n",
              "      <th>2</th>\n",
              "      <td>wos:a1975ax37800009</td>\n",
              "      <td>GEAR, JSS; CASSEL, GA; GEAR, AJ; TRAPPLER, B; ...</td>\n",
              "      <td>JOHANNESBURG GEN HOSP,JOHANNESBURG,SOUTH AFRIC...</td>\n",
              "      <td>GEAR, JHS</td>\n",
              "      <td>NaN</td>\n",
              "      <td>NaN</td>\n",
              "      <td>NaN</td>\n",
              "      <td>NaN</td>\n",
              "      <td>NaN</td>\n",
              "      <td>NaN</td>\n",
              "      <td>...</td>\n",
              "      <td>NaN</td>\n",
              "      <td>NaN</td>\n",
              "      <td>NaN</td>\n",
              "      <td>NaN</td>\n",
              "      <td>NaN</td>\n",
              "      <td>NaN</td>\n",
              "      <td>NaN</td>\n",
              "      <td>NaN</td>\n",
              "      <td>NaN</td>\n",
              "      <td>NaN</td>\n",
              "    </tr>\n",
              "    <tr>\n",
              "      <th>3</th>\n",
              "      <td>wos:a1977de18800006</td>\n",
              "      <td>KUMING, BS; KOKORIS, N</td>\n",
              "      <td>JOHANNESBURG GEN HOSP,DEPT OPHTHALMOL,JOHANNES...</td>\n",
              "      <td>KOKORIS, N</td>\n",
              "      <td>NaN</td>\n",
              "      <td>NaN</td>\n",
              "      <td>NaN</td>\n",
              "      <td>NaN</td>\n",
              "      <td>NaN</td>\n",
              "      <td>NaN</td>\n",
              "      <td>...</td>\n",
              "      <td>NaN</td>\n",
              "      <td>NaN</td>\n",
              "      <td>NaN</td>\n",
              "      <td>NaN</td>\n",
              "      <td>NaN</td>\n",
              "      <td>NaN</td>\n",
              "      <td>NaN</td>\n",
              "      <td>NaN</td>\n",
              "      <td>NaN</td>\n",
              "      <td>NaN</td>\n",
              "    </tr>\n",
              "    <tr>\n",
              "      <th>4</th>\n",
              "      <td>wos:a1977cx78300009</td>\n",
              "      <td>PATTYN, S; JACOB, W; VANDERGROEN, G; PIOT, P; ...</td>\n",
              "      <td>UNIV ANTWERP, ANTWERP, BELGIUM; INST TROP MED,...</td>\n",
              "      <td>COURTEILLE, G</td>\n",
              "      <td>NaN</td>\n",
              "      <td>NaN</td>\n",
              "      <td>NaN</td>\n",
              "      <td>NaN</td>\n",
              "      <td>NaN</td>\n",
              "      <td>NaN</td>\n",
              "      <td>...</td>\n",
              "      <td>NaN</td>\n",
              "      <td>NaN</td>\n",
              "      <td>NaN</td>\n",
              "      <td>NaN</td>\n",
              "      <td>NaN</td>\n",
              "      <td>NaN</td>\n",
              "      <td>NaN</td>\n",
              "      <td>NaN</td>\n",
              "      <td>NaN</td>\n",
              "      <td>NaN</td>\n",
              "    </tr>\n",
              "    <tr>\n",
              "      <th>...</th>\n",
              "      <td>...</td>\n",
              "      <td>...</td>\n",
              "      <td>...</td>\n",
              "      <td>...</td>\n",
              "      <td>...</td>\n",
              "      <td>...</td>\n",
              "      <td>...</td>\n",
              "      <td>...</td>\n",
              "      <td>...</td>\n",
              "      <td>...</td>\n",
              "      <td>...</td>\n",
              "      <td>...</td>\n",
              "      <td>...</td>\n",
              "      <td>...</td>\n",
              "      <td>...</td>\n",
              "      <td>...</td>\n",
              "      <td>...</td>\n",
              "      <td>...</td>\n",
              "      <td>...</td>\n",
              "      <td>...</td>\n",
              "      <td>...</td>\n",
              "    </tr>\n",
              "    <tr>\n",
              "      <th>871</th>\n",
              "      <td>wos:000398598700003</td>\n",
              "      <td>Rojek, Amanda M.; Horby, Peter W.</td>\n",
              "      <td>[Rojek, Amanda M.; Horby, Peter W.] Univ Oxfor...</td>\n",
              "      <td>Horby, Peter W.</td>\n",
              "      <td>NaN</td>\n",
              "      <td>NaN</td>\n",
              "      <td>NaN</td>\n",
              "      <td>NaN</td>\n",
              "      <td>NaN</td>\n",
              "      <td>NaN</td>\n",
              "      <td>...</td>\n",
              "      <td>NaN</td>\n",
              "      <td>NaN</td>\n",
              "      <td>NaN</td>\n",
              "      <td>NaN</td>\n",
              "      <td>NaN</td>\n",
              "      <td>NaN</td>\n",
              "      <td>NaN</td>\n",
              "      <td>NaN</td>\n",
              "      <td>NaN</td>\n",
              "      <td>NaN</td>\n",
              "    </tr>\n",
              "    <tr>\n",
              "      <th>872</th>\n",
              "      <td>wos:000309742800063</td>\n",
              "      <td>Paweska, Janusz T.; van Vuren, Petrus Jansen; ...</td>\n",
              "      <td>[Paweska, Janusz T.; van Vuren, Petrus Jansen;...</td>\n",
              "      <td>Kemp, Alan</td>\n",
              "      <td>NaN</td>\n",
              "      <td>NaN</td>\n",
              "      <td>NaN</td>\n",
              "      <td>NaN</td>\n",
              "      <td>NaN</td>\n",
              "      <td>NaN</td>\n",
              "      <td>...</td>\n",
              "      <td>NaN</td>\n",
              "      <td>1.0</td>\n",
              "      <td>NaN</td>\n",
              "      <td>NaN</td>\n",
              "      <td>NaN</td>\n",
              "      <td>NaN</td>\n",
              "      <td>NaN</td>\n",
              "      <td>NaN</td>\n",
              "      <td>NaN</td>\n",
              "      <td>NaN</td>\n",
              "    </tr>\n",
              "    <tr>\n",
              "      <th>873</th>\n",
              "      <td>wos:000460640400002</td>\n",
              "      <td>Evans, Tierra Smiley; Tutaryebwa, Leonard; Gil...</td>\n",
              "      <td>[Evans, Tierra Smiley; Gilardi, Kirsten V.; Ma...</td>\n",
              "      <td>Johnson, Christine K.</td>\n",
              "      <td>NaN</td>\n",
              "      <td>NaN</td>\n",
              "      <td>NaN</td>\n",
              "      <td>1.0</td>\n",
              "      <td>NaN</td>\n",
              "      <td>NaN</td>\n",
              "      <td>...</td>\n",
              "      <td>NaN</td>\n",
              "      <td>NaN</td>\n",
              "      <td>NaN</td>\n",
              "      <td>NaN</td>\n",
              "      <td>NaN</td>\n",
              "      <td>NaN</td>\n",
              "      <td>NaN</td>\n",
              "      <td>NaN</td>\n",
              "      <td>NaN</td>\n",
              "      <td>NaN</td>\n",
              "    </tr>\n",
              "    <tr>\n",
              "      <th>874</th>\n",
              "      <td>wos:000460640400054</td>\n",
              "      <td>Selvaraj, Saranya A.; Lee, Karen E.; Harrell, ...</td>\n",
              "      <td>[Selvaraj, Saranya A.] Univ Maryland, Med Ctr,...</td>\n",
              "      <td>Allegranzi, Benedetta</td>\n",
              "      <td>NaN</td>\n",
              "      <td>NaN</td>\n",
              "      <td>NaN</td>\n",
              "      <td>NaN</td>\n",
              "      <td>NaN</td>\n",
              "      <td>NaN</td>\n",
              "      <td>...</td>\n",
              "      <td>NaN</td>\n",
              "      <td>NaN</td>\n",
              "      <td>NaN</td>\n",
              "      <td>NaN</td>\n",
              "      <td>1.0</td>\n",
              "      <td>NaN</td>\n",
              "      <td>NaN</td>\n",
              "      <td>NaN</td>\n",
              "      <td>NaN</td>\n",
              "      <td>NaN</td>\n",
              "    </tr>\n",
              "    <tr>\n",
              "      <th>875</th>\n",
              "      <td>wos:000385597400009</td>\n",
              "      <td>Kouadio, Koffi; Okeibunor, Joseph; Nsubuga, Pe...</td>\n",
              "      <td>[Kouadio, Koffi; Okeibunor, Joseph; Mihigo, Ri...</td>\n",
              "      <td>Mkanda, Pascal</td>\n",
              "      <td>NaN</td>\n",
              "      <td>NaN</td>\n",
              "      <td>NaN</td>\n",
              "      <td>NaN</td>\n",
              "      <td>NaN</td>\n",
              "      <td>NaN</td>\n",
              "      <td>...</td>\n",
              "      <td>NaN</td>\n",
              "      <td>NaN</td>\n",
              "      <td>NaN</td>\n",
              "      <td>NaN</td>\n",
              "      <td>NaN</td>\n",
              "      <td>NaN</td>\n",
              "      <td>NaN</td>\n",
              "      <td>NaN</td>\n",
              "      <td>NaN</td>\n",
              "      <td>NaN</td>\n",
              "    </tr>\n",
              "  </tbody>\n",
              "</table>\n",
              "<p>876 rows × 52 columns</p>\n",
              "</div>"
            ],
            "text/plain": [
              "                  wos_ID                                  Author Full Names  \\\n",
              "0    wos:a1973q658600007                                        MARTINI, GA   \n",
              "1    wos:a1974t169200002                                         MONATH, TP   \n",
              "2    wos:a1975ax37800009  GEAR, JSS; CASSEL, GA; GEAR, AJ; TRAPPLER, B; ...   \n",
              "3    wos:a1977de18800006                             KUMING, BS; KOKORIS, N   \n",
              "4    wos:a1977cx78300009  PATTYN, S; JACOB, W; VANDERGROEN, G; PIOT, P; ...   \n",
              "..                   ...                                                ...   \n",
              "871  wos:000398598700003                  Rojek, Amanda M.; Horby, Peter W.   \n",
              "872  wos:000309742800063  Paweska, Janusz T.; van Vuren, Petrus Jansen; ...   \n",
              "873  wos:000460640400002  Evans, Tierra Smiley; Tutaryebwa, Leonard; Gil...   \n",
              "874  wos:000460640400054  Selvaraj, Saranya A.; Lee, Karen E.; Harrell, ...   \n",
              "875  wos:000385597400009  Kouadio, Koffi; Okeibunor, Joseph; Nsubuga, Pe...   \n",
              "\n",
              "                                             Addresses            last_author  \\\n",
              "0                    UNIV MARBURG,MARBURG,WEST GERMANY            MARTINI, GA   \n",
              "1    WORLD HLTH ORG,CTR DIS CONTROL,REG REFER CTR A...             MONATH, TP   \n",
              "2    JOHANNESBURG GEN HOSP,JOHANNESBURG,SOUTH AFRIC...              GEAR, JHS   \n",
              "3    JOHANNESBURG GEN HOSP,DEPT OPHTHALMOL,JOHANNES...             KOKORIS, N   \n",
              "4    UNIV ANTWERP, ANTWERP, BELGIUM; INST TROP MED,...          COURTEILLE, G   \n",
              "..                                                 ...                    ...   \n",
              "871  [Rojek, Amanda M.; Horby, Peter W.] Univ Oxfor...        Horby, Peter W.   \n",
              "872  [Paweska, Janusz T.; van Vuren, Petrus Jansen;...             Kemp, Alan   \n",
              "873  [Evans, Tierra Smiley; Gilardi, Kirsten V.; Ma...  Johnson, Christine K.   \n",
              "874  [Selvaraj, Saranya A.] Univ Maryland, Med Ctr,...  Allegranzi, Benedetta   \n",
              "875  [Kouadio, Koffi; Okeibunor, Joseph; Mihigo, Ri...         Mkanda, Pascal   \n",
              "\n",
              "     Australia  Bangladesh  Belgium  United States  Canada  Colombia  ...  \\\n",
              "0          NaN         NaN      NaN            NaN     NaN       NaN  ...   \n",
              "1          NaN         NaN      NaN            NaN     NaN       NaN  ...   \n",
              "2          NaN         NaN      NaN            NaN     NaN       NaN  ...   \n",
              "3          NaN         NaN      NaN            NaN     NaN       NaN  ...   \n",
              "4          NaN         NaN      NaN            NaN     NaN       NaN  ...   \n",
              "..         ...         ...      ...            ...     ...       ...  ...   \n",
              "871        NaN         NaN      NaN            NaN     NaN       NaN  ...   \n",
              "872        NaN         NaN      NaN            NaN     NaN       NaN  ...   \n",
              "873        NaN         NaN      NaN            1.0     NaN       NaN  ...   \n",
              "874        NaN         NaN      NaN            NaN     NaN       NaN  ...   \n",
              "875        NaN         NaN      NaN            NaN     NaN       NaN  ...   \n",
              "\n",
              "     Slovakia  South Africa  Spain  Sweden  Switzerland  Tanzania  Thailand  \\\n",
              "0         NaN           NaN    NaN     NaN          NaN       NaN       NaN   \n",
              "1         NaN           NaN    NaN     NaN          NaN       NaN       NaN   \n",
              "2         NaN           NaN    NaN     NaN          NaN       NaN       NaN   \n",
              "3         NaN           NaN    NaN     NaN          NaN       NaN       NaN   \n",
              "4         NaN           NaN    NaN     NaN          NaN       NaN       NaN   \n",
              "..        ...           ...    ...     ...          ...       ...       ...   \n",
              "871       NaN           NaN    NaN     NaN          NaN       NaN       NaN   \n",
              "872       NaN           1.0    NaN     NaN          NaN       NaN       NaN   \n",
              "873       NaN           NaN    NaN     NaN          NaN       NaN       NaN   \n",
              "874       NaN           NaN    NaN     NaN          1.0       NaN       NaN   \n",
              "875       NaN           NaN    NaN     NaN          NaN       NaN       NaN   \n",
              "\n",
              "     Turkey  Uganda  Zambia  \n",
              "0       NaN     NaN     NaN  \n",
              "1       NaN     NaN     NaN  \n",
              "2       NaN     NaN     NaN  \n",
              "3       NaN     NaN     NaN  \n",
              "4       NaN     NaN     NaN  \n",
              "..      ...     ...     ...  \n",
              "871     NaN     NaN     NaN  \n",
              "872     NaN     NaN     NaN  \n",
              "873     NaN     NaN     NaN  \n",
              "874     NaN     NaN     NaN  \n",
              "875     NaN     NaN     NaN  \n",
              "\n",
              "[876 rows x 52 columns]"
            ]
          },
          "execution_count": 3,
          "metadata": {},
          "output_type": "execute_result"
        }
      ],
      "source": [
        "data = pd.read_csv('D:\\MARBURG VIRUS DISEASES\\DATA_PREPROCESSING/countries_last_author.csv').drop(['Unnamed: 0'], axis=1)\n",
        "\n",
        "data2 = data.rename(columns={\"UT (Unique WOS ID)\": \"wos_ID\"})\n",
        "data2['wos_ID'] = data2['wos_ID'].str.lower()\n",
        "data2"
      ]
    },
    {
      "cell_type": "code",
      "execution_count": null,
      "id": "8c8fb7b7-e1af-427d-8fb9-40059059fa24",
      "metadata": {
        "id": "8c8fb7b7-e1af-427d-8fb9-40059059fa24",
        "outputId": "a71799c4-4d8d-473f-9036-ccd90450529e"
      },
      "outputs": [
        {
          "data": {
            "text/plain": [
              "Index(['wos_ID', 'Author Full Names', 'Addresses', 'last_author', 'Australia',\n",
              "       'Bangladesh', 'Belgium', 'United States', 'Canada', 'Colombia',\n",
              "       'Czech Republic', 'Denmark', 'Egypt', 'United Kingdom', 'Finland',\n",
              "       'France', 'Gabon', 'Germany', 'Ghana', 'Greece', 'Guinea', 'India',\n",
              "       'Indonesia', 'Italy', 'Japan', 'Jordan', 'Morocco', 'Netherlands',\n",
              "       'New Zealand', 'Nigeria', 'Norway', 'Pakistan', 'Palestine', 'China',\n",
              "       'Peru', 'Poland', 'Congo Republic', 'Russia', 'Saudi Arabia', 'Serbia',\n",
              "       'Sierra Leone', 'Singapore', 'Slovakia', 'South Africa', 'Spain',\n",
              "       'Sweden', 'Switzerland', 'Tanzania', 'Thailand', 'Turkey', 'Uganda',\n",
              "       'Zambia'],\n",
              "      dtype='object')"
            ]
          },
          "execution_count": 4,
          "metadata": {},
          "output_type": "execute_result"
        }
      ],
      "source": [
        "data2.columns"
      ]
    },
    {
      "cell_type": "code",
      "execution_count": null,
      "id": "1f11477c",
      "metadata": {
        "id": "1f11477c",
        "outputId": "91f233c9-0410-4d16-929c-568235d2908c"
      },
      "outputs": [
        {
          "data": {
            "text/plain": [
              "('Morocco',)"
            ]
          },
          "execution_count": 5,
          "metadata": {},
          "output_type": "execute_result"
        }
      ],
      "source": []
    },
    {
      "cell_type": "markdown",
      "id": "9196657a",
      "metadata": {
        "id": "9196657a"
      },
      "source": [
        "## list of countries"
      ]
    },
    {
      "cell_type": "code",
      "execution_count": null,
      "id": "95b5bdaa",
      "metadata": {
        "id": "95b5bdaa",
        "outputId": "219bd09b-7793-4d08-97de-db575c4f0e25"
      },
      "outputs": [
        {
          "data": {
            "text/plain": [
              "Index(['wos_ID', 'Author Full Names', 'Addresses', 'last_author', 'Australia',\n",
              "       'Bangladesh', 'Belgium', 'United States', 'Canada', 'Colombia',\n",
              "       'Czech Republic', 'Denmark', 'Egypt', 'United Kingdom', 'Finland',\n",
              "       'France', 'Gabon', 'Germany', 'Ghana', 'Greece', 'Guinea', 'India',\n",
              "       'Indonesia', 'Italy', 'Japan', 'Jordan', 'Morocco', 'Netherlands',\n",
              "       'New Zealand', 'Nigeria', 'Norway', 'Pakistan', 'Palestine', 'China',\n",
              "       'Peru', 'Poland', 'Congo Republic', 'Russia', 'Saudi Arabia', 'Serbia',\n",
              "       'Sierra Leone', 'Singapore', 'Slovakia', 'South Africa', 'Spain',\n",
              "       'Sweden', 'Switzerland', 'Tanzania', 'Thailand', 'Turkey', 'Uganda',\n",
              "       'Zambia'],\n",
              "      dtype='object')"
            ]
          },
          "execution_count": 6,
          "metadata": {},
          "output_type": "execute_result"
        }
      ],
      "source": [
        "data2.columns#.to_list()#[:20]"
      ]
    },
    {
      "cell_type": "code",
      "execution_count": null,
      "id": "c6424391",
      "metadata": {
        "id": "c6424391"
      },
      "outputs": [],
      "source": [
        "list_african_countries =  [  'Ghana',  'Central African Republic',\n",
        " 'Uganda', \"Cote d'Ivoire\",   'Congo Republic',\n",
        " 'Tanzania',  'Zambia',   'Guinea', 'Senegal', 'Egypt',  'Zimbabwe',\n",
        " 'DR Congo',  'Nigeria',       'Malawi', 'Morocco',\n",
        " 'Mali', 'South Africa',        'Angola',\n",
        "  'Sierra Leone',    'Burkina Faso', 'Gabon']"
      ]
    },
    {
      "cell_type": "code",
      "execution_count": null,
      "id": "29923c58",
      "metadata": {
        "id": "29923c58",
        "outputId": "73eba385-9486-4e69-80b7-a2c0c725e371"
      },
      "outputs": [
        {
          "data": {
            "text/plain": [
              "21"
            ]
          },
          "execution_count": 8,
          "metadata": {},
          "output_type": "execute_result"
        }
      ],
      "source": [
        "len(list_african_countries)"
      ]
    },
    {
      "cell_type": "code",
      "execution_count": null,
      "id": "9c1c83d9",
      "metadata": {
        "id": "9c1c83d9"
      },
      "outputs": [],
      "source": []
    },
    {
      "cell_type": "code",
      "execution_count": null,
      "id": "33af6900",
      "metadata": {
        "id": "33af6900"
      },
      "outputs": [],
      "source": [
        "north_africa = ['Morocco','Egypt']"
      ]
    },
    {
      "cell_type": "code",
      "execution_count": null,
      "id": "65679e3f",
      "metadata": {
        "id": "65679e3f"
      },
      "outputs": [],
      "source": [
        "eastern_africa = [ 'Uganda', 'Tanzania']"
      ]
    },
    {
      "cell_type": "code",
      "execution_count": null,
      "id": "3c74e14e",
      "metadata": {
        "id": "3c74e14e"
      },
      "outputs": [],
      "source": [
        "Southern_africa = ['South Africa','Zambia','Malawi','Zimbabwe','Angola']"
      ]
    },
    {
      "cell_type": "code",
      "execution_count": null,
      "id": "e78c8cf3",
      "metadata": {
        "id": "e78c8cf3"
      },
      "outputs": [],
      "source": [
        "Western_africa = ['Ghana',\"Cote d'Ivoire\",'Guinea','Senegal', 'Sierra Leone',\n",
        "                  'Burkina Faso','Mali','Nigeria']"
      ]
    },
    {
      "cell_type": "code",
      "execution_count": null,
      "id": "efce4df3",
      "metadata": {
        "id": "efce4df3"
      },
      "outputs": [],
      "source": [
        "Central_africa = ['Congo Republic','Central African Republic',\n",
        "                  'DR Congo','Gabon']"
      ]
    },
    {
      "cell_type": "code",
      "execution_count": null,
      "id": "8be67165",
      "metadata": {
        "id": "8be67165"
      },
      "outputs": [],
      "source": [
        "non_african_countries = ['United States','Australia','Belgium','Brazil', 'Canada', 'Czech Republic', 'Denmark',\n",
        " 'United Kingdom', 'Germany','France', 'Hungary','India', 'Israel','Italy', 'Japan','Lebanon',\n",
        "'Netherlands','New Zealand','Norway','Serbia','Singapore','Sweden','Switzerland',\n",
        "'Russia','Afghanistan','Austria','Bulgaria','Finland','China', 'Indonesia', 'Iran', 'Iraq',\n",
        "  'Poland', 'Portugal',  'Saudi Arabia', 'Spain','Ukraine', 'Venezuela', 'Greece',\n",
        " 'Bangladesh', 'Malaysia', 'Pakistan',   'Thailand',  'Colombia',\n",
        "   'Jordan',    'United Arab Emirates',\n",
        "  'Peru',     'Argentina', 'South Korea',\n",
        " 'Nepal', 'Philippines', 'Belize',\n",
        "  'Costa Rica', 'Honduras',  'Ecuador',    'Panama',\n",
        "        'Vietnam', 'Croatia',\n",
        "  'Slovakia',\n",
        "     'Kazakhstan',\n",
        "     'Palestine',\n",
        "\n",
        "   'Turkey']"
      ]
    },
    {
      "cell_type": "code",
      "execution_count": null,
      "id": "297098e5",
      "metadata": {
        "id": "297098e5"
      },
      "outputs": [],
      "source": []
    },
    {
      "cell_type": "code",
      "execution_count": null,
      "id": "9eecc97e",
      "metadata": {
        "id": "9eecc97e"
      },
      "outputs": [],
      "source": []
    },
    {
      "cell_type": "code",
      "execution_count": null,
      "id": "f81e1dad",
      "metadata": {
        "id": "f81e1dad"
      },
      "outputs": [],
      "source": [
        "#https://datahelpdesk.worldbank.org/knowledgebase/articles/906519-world-bank-country-and-lending-groups\n",
        "\n",
        "# BY REGION"
      ]
    },
    {
      "cell_type": "code",
      "execution_count": null,
      "id": "118d5825",
      "metadata": {
        "id": "118d5825"
      },
      "outputs": [],
      "source": [
        "wb_east_asia_and_pacific = ['South Korea','Philippines','Australia',  'Singapore',\n",
        "                         'Malaysia','China',\n",
        "                         'Thailand','Indonesia',\n",
        "                         'Japan','New Zealand','Vietnam']\n",
        "#Kiribati  French Polynesia Guam Nauru Tuvalu Palau  Northern Mariana Islands"
      ]
    },
    {
      "cell_type": "code",
      "execution_count": null,
      "id": "67d33bed",
      "metadata": {
        "id": "67d33bed"
      },
      "outputs": [],
      "source": [
        "wb_europe_and_central_asia = ['Norway','Greece','Poland','Portugal','Austria','Hungary',\n",
        "                           'Russia','Belgium','Serbia',\n",
        "                           'Italy','Slovakia','Bulgaria','Kazakhstan','Spain',\n",
        "                           'Croatia','Sweden','Switzerland','Czech Republic',\n",
        "                           'Denmark','Turkey',\n",
        "                           'Ukraine','Finland','United Kingdom','France',\n",
        "                           'Netherlands','Germany']\n",
        "# Gibraltar ,Greenland   Isle of Man  Channel Islands    Faroe Islands"
      ]
    },
    {
      "cell_type": "code",
      "execution_count": null,
      "id": "b597e202",
      "metadata": {
        "id": "b597e202"
      },
      "outputs": [],
      "source": [
        "wb_latin_america_and_the_caribbean = ['Argentina','Peru',\n",
        "                                   'Ecuador','Belize',\n",
        "                                    'Brazil',\n",
        "                                   'Honduras','Colombia',\n",
        "                                   'Costa Rica','Venezuela','Panama']\n",
        "# Puerto Rico  \tSint Maarten (Dutch part) \tSt. Martin (French part) \tVirgin Islands (U.S.)\n",
        "# British Virgin Islands  Cayman Islands  Turks and Caicos Islands"
      ]
    },
    {
      "cell_type": "code",
      "execution_count": null,
      "id": "272a596e",
      "metadata": {
        "id": "272a596e"
      },
      "outputs": [],
      "source": [
        "wb_middle_east_and_north_africa = ['Jordan','Saudi Arabia','Lebanon','Egypt',\n",
        "                                'Iran','United Arab Emirates','Iraq','Morocco','Israel']\n",
        "# \tWest Bank and Gaza"
      ]
    },
    {
      "cell_type": "code",
      "execution_count": null,
      "id": "08c80b0d",
      "metadata": {
        "id": "08c80b0d"
      },
      "outputs": [],
      "source": [
        "wb_middle_east_and_north_africa_africa = ['Morocco','Egypt']\n",
        "# \tWest Bank and Gaza"
      ]
    },
    {
      "cell_type": "code",
      "execution_count": null,
      "id": "6965b424",
      "metadata": {
        "id": "6965b424"
      },
      "outputs": [],
      "source": [
        "wb_middle_east_and_north_africa_others = ['Jordan','Saudi Arabia','Lebanon','Iran',\n",
        "                                       'United Arab Emirates','Iraq','Israel']\n"
      ]
    },
    {
      "cell_type": "code",
      "execution_count": null,
      "id": "c95b9d8a",
      "metadata": {
        "id": "c95b9d8a"
      },
      "outputs": [],
      "source": [
        "wb_north_america = ['Canada','United States']"
      ]
    },
    {
      "cell_type": "code",
      "execution_count": null,
      "id": "96a03d94",
      "metadata": {
        "id": "96a03d94"
      },
      "outputs": [],
      "source": [
        "wb_south_asia = ['Afghanistan','India','Pakistan','Bangladesh','Nepal']"
      ]
    },
    {
      "cell_type": "code",
      "execution_count": null,
      "id": "9a3c0791",
      "metadata": {
        "id": "9a3c0791"
      },
      "outputs": [],
      "source": [
        "wb_sub_saharan_africa = ['Angola','Gabon', 'Nigeria', 'Burkina Faso','Ghana',\n",
        "                      'Guinea','Senegal', 'Central African Republic','Congo Republic',\n",
        "                      'Sierra Leone','South Africa',\n",
        "                      'DR Congo','Malawi','Mali','Tanzania',\n",
        "                      \"Cote d'Ivoire\",'Uganda','Zambia',\n",
        "                      'Zimbabwe']"
      ]
    },
    {
      "cell_type": "code",
      "execution_count": null,
      "id": "df0b138c",
      "metadata": {
        "id": "df0b138c"
      },
      "outputs": [],
      "source": [
        "# BY INCOME"
      ]
    },
    {
      "cell_type": "code",
      "execution_count": null,
      "id": "e13c1ec1",
      "metadata": {
        "id": "e13c1ec1"
      },
      "outputs": [],
      "source": [
        "wb_low_income_economies = ['Afghanistan','Burkina Faso','Central African Republic',\n",
        "                        'Malawi','DR Congo','Mali','Uganda','Congo Republic',\n",
        "                        'Zambia', 'Guinea','Sierra Leone']"
      ]
    },
    {
      "cell_type": "code",
      "execution_count": null,
      "id": "6cc24511",
      "metadata": {
        "id": "6cc24511"
      },
      "outputs": [],
      "source": [
        "wb_low_income_economies_africa = ['Burkina Faso',\n",
        "                        'Malawi','DR Congo','Mali','Uganda',\n",
        "                        'Zambia', 'Guinea','Sierra Leone']"
      ]
    },
    {
      "cell_type": "code",
      "execution_count": null,
      "id": "e21f321f",
      "metadata": {
        "id": "e21f321f"
      },
      "outputs": [],
      "source": [
        "wb_low_income_economies_others = ['Afghanistan']"
      ]
    },
    {
      "cell_type": "code",
      "execution_count": null,
      "id": "77dbfe76",
      "metadata": {
        "id": "77dbfe76"
      },
      "outputs": [],
      "source": []
    },
    {
      "cell_type": "code",
      "execution_count": null,
      "id": "24e9d289",
      "metadata": {
        "id": "24e9d289"
      },
      "outputs": [],
      "source": [
        "wb_lower_middle_income_economies = ['Angola', 'India', 'Philippines', 'Indonesia','Bangladesh', 'Iran',\n",
        "                                  'Senegal','Morocco',\n",
        "                                  'Tanzania', 'Lebanon',\n",
        "\n",
        "                                 'Ukraine',\"Cote d'Ivoire\",\n",
        "                                 'Egypt','Vietnam','Nepal','Zimbabwe',\n",
        "                                 'Ghana','Nigeria','Pakistan','Honduras']\n",
        "#Kiribati \tWest Bank and Gaza"
      ]
    },
    {
      "cell_type": "code",
      "execution_count": null,
      "id": "09371796",
      "metadata": {
        "id": "09371796"
      },
      "outputs": [],
      "source": [
        "wb_lower_middle_income_economies_africa = ['Angola', 'Senegal',\n",
        "                                        'Tanzania','Morocco',\n",
        "                                        \"Cote d'Ivoire\",'Egypt','Zimbabwe','Ghana','Nigeria']\n",
        "# \tWest Bank and Gaza"
      ]
    },
    {
      "cell_type": "code",
      "execution_count": null,
      "id": "9fe527ea",
      "metadata": {
        "id": "9fe527ea"
      },
      "outputs": [],
      "source": [
        "wb_lower_middle_income_economies_others = ['India','Philippines','Indonesia','Bangladesh','Iran',\n",
        "                                        'Lebanon',\n",
        "                                        'Ukraine',\n",
        "                                        'Vietnam','Nepal','Pakistan','Honduras']\n",
        "#Kiribati \tWest Bank and Gaza"
      ]
    },
    {
      "cell_type": "code",
      "execution_count": null,
      "id": "35352d1e",
      "metadata": {
        "id": "35352d1e"
      },
      "outputs": [],
      "source": []
    },
    {
      "cell_type": "code",
      "execution_count": null,
      "id": "3c4f38c7",
      "metadata": {
        "id": "3c4f38c7"
      },
      "outputs": [],
      "source": [
        "wb_upper_middle_income_economies = ['Gabon','Argentina',\n",
        "                                 'Peru','Russia','Belize','Iraq','Serbia',\n",
        "                                 'South Africa','Jordan','Brazil',\n",
        "                                 'Kazakhstan','Bulgaria','China',\n",
        "                                 'Thailand','Colombia','Malaysia','Costa Rica','Turkey',\n",
        "\n",
        "                                 'Ecuador']\n",
        "# 'Tuvalu' \tPalau"
      ]
    },
    {
      "cell_type": "code",
      "execution_count": null,
      "id": "6fce9aec",
      "metadata": {
        "id": "6fce9aec"
      },
      "outputs": [],
      "source": [
        "wb_upper_middle_income_economies_africa = ['Gabon','South Africa']"
      ]
    },
    {
      "cell_type": "code",
      "execution_count": null,
      "id": "5382045c",
      "metadata": {
        "id": "5382045c"
      },
      "outputs": [],
      "source": [
        "wb_upper_middle_income_economies_others = ['Argentina',\n",
        "                                        'Peru','Russia','Belize','Iraq','Serbia',\n",
        "                                        'Jordan','Brazil','Kazakhstan',\n",
        "                                        'Bulgaria','China','Thailand',\n",
        "                                        'Colombia','Malaysia','Costa Rica','Turkey',\n",
        "                                         'Ecuador']\n",
        "# 'Tuvalu' \tPalau"
      ]
    },
    {
      "cell_type": "code",
      "execution_count": null,
      "id": "5f583a35",
      "metadata": {
        "id": "5f583a35"
      },
      "outputs": [],
      "source": []
    },
    {
      "cell_type": "code",
      "execution_count": null,
      "id": "952acc90",
      "metadata": {
        "id": "952acc90"
      },
      "outputs": [],
      "source": [
        "wb_high_income_economies = [ 'Greece','Poland', 'Portugal','Australia','Austria','Hungary',\n",
        "                         'Saudi Arabia',\n",
        "                         'Belgium','Israel','Singapore','Italy','Japan','Slovakia','South Korea',\n",
        "                         'Canada','Spain',\n",
        "                         'Sweden','Croatia','Switzerland',\n",
        "                         'Czech Republic','Denmark','United Arab Emirates','Netherlands','United Kingdom',\n",
        "                         'United States','Finland','New Zealand','France','Norway','Germany',\n",
        "                         'Panama']\n",
        "# Channel Islands \tGibraltar Aruba \tNorthern Mariana Islands \tVirgin Islands (U.S.)\tNauru \tSint Maarten (Dutch part) \tIsle of Man \tBritish Virgin Islands\n",
        "# Cayman Islands \tFrench Polynesia  Faroe Islands  \tTurks and Caicos Islands \tSt. Martin (French part)\t'Guam' \tPuerto Rico, Greenland,"
      ]
    },
    {
      "cell_type": "code",
      "execution_count": null,
      "id": "8324e05f",
      "metadata": {
        "id": "8324e05f"
      },
      "outputs": [],
      "source": [
        "#wb_high_income_economies_africa = []"
      ]
    },
    {
      "cell_type": "code",
      "execution_count": null,
      "id": "10cc68ab",
      "metadata": {
        "id": "10cc68ab"
      },
      "outputs": [],
      "source": [
        "wb_high_income_economies_others = [ 'Greece','Poland', 'Portugal','Australia','Austria','Hungary',\n",
        "                         'Saudi Arabia',\n",
        "                         'Belgium','Israel','Singapore','Italy','Japan','Slovakia','South Korea',\n",
        "                         'Canada','Spain',\n",
        "                         'Sweden','Croatia','Switzerland',\n",
        "                         'Czech Republic','Denmark','United Arab Emirates','Netherlands','United Kingdom',\n",
        "                         'United States','Finland','New Zealand','France','Norway','Germany',\n",
        "                         'Panama']\n",
        "# Channel Islands \tGibraltar Aruba \tNorthern Mariana Islands \tVirgin Islands (U.S.)\tNauru \tSint Maarten (Dutch part) \tIsle of Man \tBritish Virgin Islands\n",
        "# Cayman Islands \tFrench Polynesia  Faroe Islands  \tTurks and Caicos Islands \tSt. Martin (French part)\t'Guam' \tPuerto Rico, Greenland,"
      ]
    },
    {
      "cell_type": "code",
      "execution_count": null,
      "id": "cae12603",
      "metadata": {
        "id": "cae12603"
      },
      "outputs": [],
      "source": []
    },
    {
      "cell_type": "code",
      "execution_count": null,
      "id": "a5de24d9",
      "metadata": {
        "id": "a5de24d9"
      },
      "outputs": [],
      "source": [
        "# BY LENDING"
      ]
    },
    {
      "cell_type": "code",
      "execution_count": null,
      "id": "a9703e01",
      "metadata": {
        "id": "a9703e01"
      },
      "outputs": [],
      "source": []
    },
    {
      "cell_type": "code",
      "execution_count": null,
      "id": "cfd7b388",
      "metadata": {
        "id": "cfd7b388"
      },
      "outputs": [],
      "source": []
    },
    {
      "cell_type": "markdown",
      "id": "0fef5e5f",
      "metadata": {
        "id": "0fef5e5f"
      },
      "source": [
        "### count group"
      ]
    },
    {
      "cell_type": "code",
      "execution_count": null,
      "id": "e47a2a9d",
      "metadata": {
        "id": "e47a2a9d"
      },
      "outputs": [],
      "source": [
        "groups_values = [north_africa, eastern_africa, Southern_africa, Western_africa, Central_africa, non_african_countries,\n",
        "                 wb_east_asia_and_pacific, wb_europe_and_central_asia, wb_latin_america_and_the_caribbean, wb_middle_east_and_north_africa, wb_middle_east_and_north_africa_africa, wb_middle_east_and_north_africa_others, wb_north_america, wb_south_asia, wb_sub_saharan_africa,\n",
        "                 wb_low_income_economies, wb_low_income_economies_africa, wb_low_income_economies_others, wb_lower_middle_income_economies, wb_lower_middle_income_economies_africa, wb_lower_middle_income_economies_others, wb_upper_middle_income_economies, wb_upper_middle_income_economies_africa, wb_upper_middle_income_economies_others, wb_high_income_economies,  wb_high_income_economies_others\n",
        "                 ]"
      ]
    },
    {
      "cell_type": "code",
      "execution_count": null,
      "id": "5fbf96ba",
      "metadata": {
        "id": "5fbf96ba"
      },
      "outputs": [],
      "source": [
        "#groups_values"
      ]
    },
    {
      "cell_type": "code",
      "execution_count": null,
      "id": "9cae71da",
      "metadata": {
        "id": "9cae71da"
      },
      "outputs": [],
      "source": [
        "groups_keys = ['north_africa', 'eastern_africa', 'Southern_africa', 'Western_africa', 'Central_africa', 'non_african_countries',\n",
        "\n",
        "               'wb_east_asia_and_pacific', 'wb_europe_and_central_asia', 'wb_latin_america_and_the_caribbean', 'wb_middle_east_and_north_africa', 'wb_middle_east_and_north_africa_africa', 'wb_middle_east_and_north_africa_others', 'wb_north_america', 'wb_south_asia', 'wb_sub_saharan_africa',\n",
        "                 'wb_low_income_economies', 'wb_low_income_economies_africa', 'wb_low_income_economies_others', 'wb_lower_middle_income_economies', 'wb_lower_middle_income_economies_africa', 'wb_lower_middle_income_economies_others', 'wb_upper_middle_income_economies', 'wb_upper_middle_income_economies_africa', 'wb_upper_middle_income_economies_others', 'wb_high_income_economies',  'wb_high_income_economies_others'\n",
        "                  ]"
      ]
    },
    {
      "cell_type": "code",
      "execution_count": null,
      "id": "4b83681f",
      "metadata": {
        "scrolled": true,
        "id": "4b83681f",
        "outputId": "e424487c-e4f2-4b4c-dc37-039c503a80c6"
      },
      "outputs": [
        {
          "data": {
            "text/plain": [
              "['north_africa',\n",
              " 'eastern_africa',\n",
              " 'Southern_africa',\n",
              " 'Western_africa',\n",
              " 'Central_africa',\n",
              " 'non_african_countries',\n",
              " 'wb_east_asia_and_pacific',\n",
              " 'wb_europe_and_central_asia',\n",
              " 'wb_latin_america_and_the_caribbean',\n",
              " 'wb_middle_east_and_north_africa',\n",
              " 'wb_middle_east_and_north_africa_africa',\n",
              " 'wb_middle_east_and_north_africa_others',\n",
              " 'wb_north_america',\n",
              " 'wb_south_asia',\n",
              " 'wb_sub_saharan_africa',\n",
              " 'wb_low_income_economies',\n",
              " 'wb_low_income_economies_africa',\n",
              " 'wb_low_income_economies_others',\n",
              " 'wb_lower_middle_income_economies',\n",
              " 'wb_lower_middle_income_economies_africa',\n",
              " 'wb_lower_middle_income_economies_others',\n",
              " 'wb_upper_middle_income_economies',\n",
              " 'wb_upper_middle_income_economies_africa',\n",
              " 'wb_upper_middle_income_economies_others',\n",
              " 'wb_high_income_economies',\n",
              " 'wb_high_income_economies_others']"
            ]
          },
          "execution_count": 42,
          "metadata": {},
          "output_type": "execute_result"
        }
      ],
      "source": [
        "groups_keys"
      ]
    },
    {
      "cell_type": "code",
      "execution_count": null,
      "id": "9b2dabc7",
      "metadata": {
        "id": "9b2dabc7"
      },
      "outputs": [],
      "source": [
        "# using zip()\n",
        "# to convert lists to dictionary\n",
        "groups_keys_values = dict(zip(groups_keys, groups_values))"
      ]
    },
    {
      "cell_type": "code",
      "execution_count": null,
      "id": "90ec4dd9",
      "metadata": {
        "tags": [],
        "id": "90ec4dd9"
      },
      "outputs": [],
      "source": [
        "#groups_keys_values"
      ]
    },
    {
      "cell_type": "code",
      "execution_count": null,
      "id": "316a4c35",
      "metadata": {
        "id": "316a4c35",
        "outputId": "e20789eb-65e4-4daa-e081-e0c59acc167a"
      },
      "outputs": [
        {
          "data": {
            "text/plain": [
              "['Morocco', 'Egypt']"
            ]
          },
          "execution_count": 45,
          "metadata": {},
          "output_type": "execute_result"
        }
      ],
      "source": [
        "groups_keys_values['north_africa']"
      ]
    },
    {
      "cell_type": "code",
      "execution_count": null,
      "id": "aef6e3c8",
      "metadata": {
        "id": "aef6e3c8"
      },
      "outputs": [],
      "source": []
    },
    {
      "cell_type": "code",
      "execution_count": null,
      "id": "18e2a9ae",
      "metadata": {
        "scrolled": true,
        "id": "18e2a9ae"
      },
      "outputs": [],
      "source": [
        "# for group_key in groups_keys:\n",
        "#     data2[group_key] = data2[groups_keys_values[group_key]].count(axis=1)"
      ]
    },
    {
      "cell_type": "code",
      "execution_count": null,
      "id": "95bf4bb5-033c-4456-be7d-52153d20720f",
      "metadata": {
        "id": "95bf4bb5-033c-4456-be7d-52153d20720f",
        "outputId": "3633ce22-7fe9-44fb-88df-1c348fdf87d7"
      },
      "outputs": [
        {
          "data": {
            "text/plain": [
              "['Uganda', 'Tanzania']"
            ]
          },
          "execution_count": 47,
          "metadata": {},
          "output_type": "execute_result"
        }
      ],
      "source": [
        "groups_keys_values['eastern_africa']"
      ]
    },
    {
      "cell_type": "code",
      "execution_count": null,
      "id": "9a35c673-c0f9-4aba-b8ed-086f21d2e78b",
      "metadata": {
        "id": "9a35c673-c0f9-4aba-b8ed-086f21d2e78b"
      },
      "outputs": [],
      "source": [
        "# # create a dictionary mapping group keys to a list of valid column names\n",
        "# # groups_keys_values = {}\n",
        "# for group_key in groups_keys:\n",
        "#     valid_columns = [col for col in groups_keys_values[group_key] if col in data2.columns]\n",
        "#     groups_keys_values[group_key] = valid_columns\n",
        "# groups_keys_values"
      ]
    },
    {
      "cell_type": "code",
      "execution_count": null,
      "id": "6a9a3c97-1179-4ec5-b33d-c9b288564b1f",
      "metadata": {
        "id": "6a9a3c97-1179-4ec5-b33d-c9b288564b1f"
      },
      "outputs": [],
      "source": [
        "def merge_count_columns(data2, groups_keys):\n",
        "    # create a dictionary mapping group keys to a list of valid column names\n",
        "#     groups_keys_values = {}\n",
        "    for group_key in groups_keys:\n",
        "        valid_columns = [col for col in groups_keys_values[group_key] if col in data2.columns]\n",
        "        groups_keys_values[group_key] = valid_columns\n",
        "\n",
        "    # iterate over group keys and count the values in data2\n",
        "    for group_key in groups_keys:\n",
        "        data2_cols = groups_keys_values[group_key]\n",
        "        if len(data2_cols) == 0:\n",
        "            print(f\"No valid columns found for group_key: {group_key}. Skipping...\")\n",
        "            continue\n",
        "        data2[group_key] = data2[data2_cols].count(axis=1)\n",
        "\n",
        "    # merge data1 and data2 on the group keys\n",
        "#     merged_data = pd.merge(data1, data2, on=groups_keys)\n",
        "\n",
        "    return data2"
      ]
    },
    {
      "cell_type": "code",
      "execution_count": null,
      "id": "5f649a1d-4ba5-4797-a9d6-5b5b1fb4d0cc",
      "metadata": {
        "id": "5f649a1d-4ba5-4797-a9d6-5b5b1fb4d0cc",
        "outputId": "11a8bb1d-6fcb-4052-c401-d0f532d6d871"
      },
      "outputs": [
        {
          "name": "stdout",
          "output_type": "stream",
          "text": [
            "No valid columns found for group_key: wb_low_income_economies_others. Skipping...\n"
          ]
        },
        {
          "data": {
            "text/html": [
              "<div>\n",
              "<style scoped>\n",
              "    .dataframe tbody tr th:only-of-type {\n",
              "        vertical-align: middle;\n",
              "    }\n",
              "\n",
              "    .dataframe tbody tr th {\n",
              "        vertical-align: top;\n",
              "    }\n",
              "\n",
              "    .dataframe thead th {\n",
              "        text-align: right;\n",
              "    }\n",
              "</style>\n",
              "<table border=\"1\" class=\"dataframe\">\n",
              "  <thead>\n",
              "    <tr style=\"text-align: right;\">\n",
              "      <th></th>\n",
              "      <th>wos_ID</th>\n",
              "      <th>Author Full Names</th>\n",
              "      <th>Addresses</th>\n",
              "      <th>last_author</th>\n",
              "      <th>Australia</th>\n",
              "      <th>Bangladesh</th>\n",
              "      <th>Belgium</th>\n",
              "      <th>United States</th>\n",
              "      <th>Canada</th>\n",
              "      <th>Colombia</th>\n",
              "      <th>...</th>\n",
              "      <th>wb_low_income_economies</th>\n",
              "      <th>wb_low_income_economies_africa</th>\n",
              "      <th>wb_lower_middle_income_economies</th>\n",
              "      <th>wb_lower_middle_income_economies_africa</th>\n",
              "      <th>wb_lower_middle_income_economies_others</th>\n",
              "      <th>wb_upper_middle_income_economies</th>\n",
              "      <th>wb_upper_middle_income_economies_africa</th>\n",
              "      <th>wb_upper_middle_income_economies_others</th>\n",
              "      <th>wb_high_income_economies</th>\n",
              "      <th>wb_high_income_economies_others</th>\n",
              "    </tr>\n",
              "  </thead>\n",
              "  <tbody>\n",
              "    <tr>\n",
              "      <th>0</th>\n",
              "      <td>wos:a1973q658600007</td>\n",
              "      <td>MARTINI, GA</td>\n",
              "      <td>UNIV MARBURG,MARBURG,WEST GERMANY</td>\n",
              "      <td>MARTINI, GA</td>\n",
              "      <td>NaN</td>\n",
              "      <td>NaN</td>\n",
              "      <td>NaN</td>\n",
              "      <td>NaN</td>\n",
              "      <td>NaN</td>\n",
              "      <td>NaN</td>\n",
              "      <td>...</td>\n",
              "      <td>0</td>\n",
              "      <td>0</td>\n",
              "      <td>0</td>\n",
              "      <td>0</td>\n",
              "      <td>0</td>\n",
              "      <td>0</td>\n",
              "      <td>0</td>\n",
              "      <td>0</td>\n",
              "      <td>0</td>\n",
              "      <td>0</td>\n",
              "    </tr>\n",
              "    <tr>\n",
              "      <th>1</th>\n",
              "      <td>wos:a1974t169200002</td>\n",
              "      <td>MONATH, TP</td>\n",
              "      <td>WORLD HLTH ORG,CTR DIS CONTROL,REG REFER CTR A...</td>\n",
              "      <td>MONATH, TP</td>\n",
              "      <td>NaN</td>\n",
              "      <td>NaN</td>\n",
              "      <td>NaN</td>\n",
              "      <td>NaN</td>\n",
              "      <td>NaN</td>\n",
              "      <td>NaN</td>\n",
              "      <td>...</td>\n",
              "      <td>0</td>\n",
              "      <td>0</td>\n",
              "      <td>0</td>\n",
              "      <td>0</td>\n",
              "      <td>0</td>\n",
              "      <td>0</td>\n",
              "      <td>0</td>\n",
              "      <td>0</td>\n",
              "      <td>0</td>\n",
              "      <td>0</td>\n",
              "    </tr>\n",
              "  </tbody>\n",
              "</table>\n",
              "<p>2 rows × 77 columns</p>\n",
              "</div>"
            ],
            "text/plain": [
              "                wos_ID Author Full Names  \\\n",
              "0  wos:a1973q658600007       MARTINI, GA   \n",
              "1  wos:a1974t169200002        MONATH, TP   \n",
              "\n",
              "                                           Addresses  last_author  Australia  \\\n",
              "0                  UNIV MARBURG,MARBURG,WEST GERMANY  MARTINI, GA        NaN   \n",
              "1  WORLD HLTH ORG,CTR DIS CONTROL,REG REFER CTR A...   MONATH, TP        NaN   \n",
              "\n",
              "   Bangladesh  Belgium  United States  Canada  Colombia  ...  \\\n",
              "0         NaN      NaN            NaN     NaN       NaN  ...   \n",
              "1         NaN      NaN            NaN     NaN       NaN  ...   \n",
              "\n",
              "   wb_low_income_economies  wb_low_income_economies_africa  \\\n",
              "0                        0                               0   \n",
              "1                        0                               0   \n",
              "\n",
              "   wb_lower_middle_income_economies  wb_lower_middle_income_economies_africa  \\\n",
              "0                                 0                                        0   \n",
              "1                                 0                                        0   \n",
              "\n",
              "   wb_lower_middle_income_economies_others  wb_upper_middle_income_economies  \\\n",
              "0                                        0                                 0   \n",
              "1                                        0                                 0   \n",
              "\n",
              "   wb_upper_middle_income_economies_africa  \\\n",
              "0                                        0   \n",
              "1                                        0   \n",
              "\n",
              "   wb_upper_middle_income_economies_others  wb_high_income_economies  \\\n",
              "0                                        0                         0   \n",
              "1                                        0                         0   \n",
              "\n",
              "   wb_high_income_economies_others  \n",
              "0                                0  \n",
              "1                                0  \n",
              "\n",
              "[2 rows x 77 columns]"
            ]
          },
          "execution_count": 50,
          "metadata": {},
          "output_type": "execute_result"
        }
      ],
      "source": [
        "data_group = merge_count_columns(data2, groups_keys)\n",
        "data_group.head(2)"
      ]
    },
    {
      "cell_type": "code",
      "execution_count": null,
      "id": "c963acc4",
      "metadata": {
        "id": "c963acc4",
        "outputId": "97b0284e-db6f-496c-d6c0-4c6df1d26c0d"
      },
      "outputs": [
        {
          "data": {
            "text/plain": [
              "(876, 77)"
            ]
          },
          "execution_count": 51,
          "metadata": {},
          "output_type": "execute_result"
        }
      ],
      "source": [
        "data_group.shape"
      ]
    },
    {
      "cell_type": "code",
      "execution_count": null,
      "id": "36dd39d1",
      "metadata": {
        "id": "36dd39d1"
      },
      "outputs": [],
      "source": [
        "data_group = data_group.replace({0: np.nan})"
      ]
    },
    {
      "cell_type": "code",
      "execution_count": null,
      "id": "052c742c",
      "metadata": {
        "id": "052c742c",
        "outputId": "591c687f-4973-4d81-eb13-9c1bbd95e854"
      },
      "outputs": [
        {
          "data": {
            "text/html": [
              "<div>\n",
              "<style scoped>\n",
              "    .dataframe tbody tr th:only-of-type {\n",
              "        vertical-align: middle;\n",
              "    }\n",
              "\n",
              "    .dataframe tbody tr th {\n",
              "        vertical-align: top;\n",
              "    }\n",
              "\n",
              "    .dataframe thead th {\n",
              "        text-align: right;\n",
              "    }\n",
              "</style>\n",
              "<table border=\"1\" class=\"dataframe\">\n",
              "  <thead>\n",
              "    <tr style=\"text-align: right;\">\n",
              "      <th></th>\n",
              "      <th>wos_ID</th>\n",
              "      <th>Author Full Names</th>\n",
              "      <th>Addresses</th>\n",
              "      <th>last_author</th>\n",
              "      <th>Australia</th>\n",
              "      <th>Bangladesh</th>\n",
              "      <th>Belgium</th>\n",
              "      <th>United States</th>\n",
              "      <th>Canada</th>\n",
              "      <th>Colombia</th>\n",
              "      <th>...</th>\n",
              "      <th>wb_low_income_economies</th>\n",
              "      <th>wb_low_income_economies_africa</th>\n",
              "      <th>wb_lower_middle_income_economies</th>\n",
              "      <th>wb_lower_middle_income_economies_africa</th>\n",
              "      <th>wb_lower_middle_income_economies_others</th>\n",
              "      <th>wb_upper_middle_income_economies</th>\n",
              "      <th>wb_upper_middle_income_economies_africa</th>\n",
              "      <th>wb_upper_middle_income_economies_others</th>\n",
              "      <th>wb_high_income_economies</th>\n",
              "      <th>wb_high_income_economies_others</th>\n",
              "    </tr>\n",
              "  </thead>\n",
              "  <tbody>\n",
              "    <tr>\n",
              "      <th>0</th>\n",
              "      <td>wos:a1973q658600007</td>\n",
              "      <td>MARTINI, GA</td>\n",
              "      <td>UNIV MARBURG,MARBURG,WEST GERMANY</td>\n",
              "      <td>MARTINI, GA</td>\n",
              "      <td>NaN</td>\n",
              "      <td>NaN</td>\n",
              "      <td>NaN</td>\n",
              "      <td>NaN</td>\n",
              "      <td>NaN</td>\n",
              "      <td>NaN</td>\n",
              "      <td>...</td>\n",
              "      <td>NaN</td>\n",
              "      <td>NaN</td>\n",
              "      <td>NaN</td>\n",
              "      <td>NaN</td>\n",
              "      <td>NaN</td>\n",
              "      <td>NaN</td>\n",
              "      <td>NaN</td>\n",
              "      <td>NaN</td>\n",
              "      <td>NaN</td>\n",
              "      <td>NaN</td>\n",
              "    </tr>\n",
              "    <tr>\n",
              "      <th>1</th>\n",
              "      <td>wos:a1974t169200002</td>\n",
              "      <td>MONATH, TP</td>\n",
              "      <td>WORLD HLTH ORG,CTR DIS CONTROL,REG REFER CTR A...</td>\n",
              "      <td>MONATH, TP</td>\n",
              "      <td>NaN</td>\n",
              "      <td>NaN</td>\n",
              "      <td>NaN</td>\n",
              "      <td>NaN</td>\n",
              "      <td>NaN</td>\n",
              "      <td>NaN</td>\n",
              "      <td>...</td>\n",
              "      <td>NaN</td>\n",
              "      <td>NaN</td>\n",
              "      <td>NaN</td>\n",
              "      <td>NaN</td>\n",
              "      <td>NaN</td>\n",
              "      <td>NaN</td>\n",
              "      <td>NaN</td>\n",
              "      <td>NaN</td>\n",
              "      <td>NaN</td>\n",
              "      <td>NaN</td>\n",
              "    </tr>\n",
              "    <tr>\n",
              "      <th>2</th>\n",
              "      <td>wos:a1975ax37800009</td>\n",
              "      <td>GEAR, JSS; CASSEL, GA; GEAR, AJ; TRAPPLER, B; ...</td>\n",
              "      <td>JOHANNESBURG GEN HOSP,JOHANNESBURG,SOUTH AFRIC...</td>\n",
              "      <td>GEAR, JHS</td>\n",
              "      <td>NaN</td>\n",
              "      <td>NaN</td>\n",
              "      <td>NaN</td>\n",
              "      <td>NaN</td>\n",
              "      <td>NaN</td>\n",
              "      <td>NaN</td>\n",
              "      <td>...</td>\n",
              "      <td>NaN</td>\n",
              "      <td>NaN</td>\n",
              "      <td>NaN</td>\n",
              "      <td>NaN</td>\n",
              "      <td>NaN</td>\n",
              "      <td>NaN</td>\n",
              "      <td>NaN</td>\n",
              "      <td>NaN</td>\n",
              "      <td>NaN</td>\n",
              "      <td>NaN</td>\n",
              "    </tr>\n",
              "    <tr>\n",
              "      <th>3</th>\n",
              "      <td>wos:a1977de18800006</td>\n",
              "      <td>KUMING, BS; KOKORIS, N</td>\n",
              "      <td>JOHANNESBURG GEN HOSP,DEPT OPHTHALMOL,JOHANNES...</td>\n",
              "      <td>KOKORIS, N</td>\n",
              "      <td>NaN</td>\n",
              "      <td>NaN</td>\n",
              "      <td>NaN</td>\n",
              "      <td>NaN</td>\n",
              "      <td>NaN</td>\n",
              "      <td>NaN</td>\n",
              "      <td>...</td>\n",
              "      <td>NaN</td>\n",
              "      <td>NaN</td>\n",
              "      <td>NaN</td>\n",
              "      <td>NaN</td>\n",
              "      <td>NaN</td>\n",
              "      <td>NaN</td>\n",
              "      <td>NaN</td>\n",
              "      <td>NaN</td>\n",
              "      <td>NaN</td>\n",
              "      <td>NaN</td>\n",
              "    </tr>\n",
              "    <tr>\n",
              "      <th>4</th>\n",
              "      <td>wos:a1977cx78300009</td>\n",
              "      <td>PATTYN, S; JACOB, W; VANDERGROEN, G; PIOT, P; ...</td>\n",
              "      <td>UNIV ANTWERP, ANTWERP, BELGIUM; INST TROP MED,...</td>\n",
              "      <td>COURTEILLE, G</td>\n",
              "      <td>NaN</td>\n",
              "      <td>NaN</td>\n",
              "      <td>NaN</td>\n",
              "      <td>NaN</td>\n",
              "      <td>NaN</td>\n",
              "      <td>NaN</td>\n",
              "      <td>...</td>\n",
              "      <td>NaN</td>\n",
              "      <td>NaN</td>\n",
              "      <td>NaN</td>\n",
              "      <td>NaN</td>\n",
              "      <td>NaN</td>\n",
              "      <td>NaN</td>\n",
              "      <td>NaN</td>\n",
              "      <td>NaN</td>\n",
              "      <td>NaN</td>\n",
              "      <td>NaN</td>\n",
              "    </tr>\n",
              "    <tr>\n",
              "      <th>...</th>\n",
              "      <td>...</td>\n",
              "      <td>...</td>\n",
              "      <td>...</td>\n",
              "      <td>...</td>\n",
              "      <td>...</td>\n",
              "      <td>...</td>\n",
              "      <td>...</td>\n",
              "      <td>...</td>\n",
              "      <td>...</td>\n",
              "      <td>...</td>\n",
              "      <td>...</td>\n",
              "      <td>...</td>\n",
              "      <td>...</td>\n",
              "      <td>...</td>\n",
              "      <td>...</td>\n",
              "      <td>...</td>\n",
              "      <td>...</td>\n",
              "      <td>...</td>\n",
              "      <td>...</td>\n",
              "      <td>...</td>\n",
              "      <td>...</td>\n",
              "    </tr>\n",
              "    <tr>\n",
              "      <th>871</th>\n",
              "      <td>wos:000398598700003</td>\n",
              "      <td>Rojek, Amanda M.; Horby, Peter W.</td>\n",
              "      <td>[Rojek, Amanda M.; Horby, Peter W.] Univ Oxfor...</td>\n",
              "      <td>Horby, Peter W.</td>\n",
              "      <td>NaN</td>\n",
              "      <td>NaN</td>\n",
              "      <td>NaN</td>\n",
              "      <td>NaN</td>\n",
              "      <td>NaN</td>\n",
              "      <td>NaN</td>\n",
              "      <td>...</td>\n",
              "      <td>NaN</td>\n",
              "      <td>NaN</td>\n",
              "      <td>NaN</td>\n",
              "      <td>NaN</td>\n",
              "      <td>NaN</td>\n",
              "      <td>NaN</td>\n",
              "      <td>NaN</td>\n",
              "      <td>NaN</td>\n",
              "      <td>1.0</td>\n",
              "      <td>1.0</td>\n",
              "    </tr>\n",
              "    <tr>\n",
              "      <th>872</th>\n",
              "      <td>wos:000309742800063</td>\n",
              "      <td>Paweska, Janusz T.; van Vuren, Petrus Jansen; ...</td>\n",
              "      <td>[Paweska, Janusz T.; van Vuren, Petrus Jansen;...</td>\n",
              "      <td>Kemp, Alan</td>\n",
              "      <td>NaN</td>\n",
              "      <td>NaN</td>\n",
              "      <td>NaN</td>\n",
              "      <td>NaN</td>\n",
              "      <td>NaN</td>\n",
              "      <td>NaN</td>\n",
              "      <td>...</td>\n",
              "      <td>NaN</td>\n",
              "      <td>NaN</td>\n",
              "      <td>NaN</td>\n",
              "      <td>NaN</td>\n",
              "      <td>NaN</td>\n",
              "      <td>1.0</td>\n",
              "      <td>1.0</td>\n",
              "      <td>NaN</td>\n",
              "      <td>NaN</td>\n",
              "      <td>NaN</td>\n",
              "    </tr>\n",
              "    <tr>\n",
              "      <th>873</th>\n",
              "      <td>wos:000460640400002</td>\n",
              "      <td>Evans, Tierra Smiley; Tutaryebwa, Leonard; Gil...</td>\n",
              "      <td>[Evans, Tierra Smiley; Gilardi, Kirsten V.; Ma...</td>\n",
              "      <td>Johnson, Christine K.</td>\n",
              "      <td>NaN</td>\n",
              "      <td>NaN</td>\n",
              "      <td>NaN</td>\n",
              "      <td>1.0</td>\n",
              "      <td>NaN</td>\n",
              "      <td>NaN</td>\n",
              "      <td>...</td>\n",
              "      <td>NaN</td>\n",
              "      <td>NaN</td>\n",
              "      <td>NaN</td>\n",
              "      <td>NaN</td>\n",
              "      <td>NaN</td>\n",
              "      <td>NaN</td>\n",
              "      <td>NaN</td>\n",
              "      <td>NaN</td>\n",
              "      <td>1.0</td>\n",
              "      <td>1.0</td>\n",
              "    </tr>\n",
              "    <tr>\n",
              "      <th>874</th>\n",
              "      <td>wos:000460640400054</td>\n",
              "      <td>Selvaraj, Saranya A.; Lee, Karen E.; Harrell, ...</td>\n",
              "      <td>[Selvaraj, Saranya A.] Univ Maryland, Med Ctr,...</td>\n",
              "      <td>Allegranzi, Benedetta</td>\n",
              "      <td>NaN</td>\n",
              "      <td>NaN</td>\n",
              "      <td>NaN</td>\n",
              "      <td>NaN</td>\n",
              "      <td>NaN</td>\n",
              "      <td>NaN</td>\n",
              "      <td>...</td>\n",
              "      <td>NaN</td>\n",
              "      <td>NaN</td>\n",
              "      <td>NaN</td>\n",
              "      <td>NaN</td>\n",
              "      <td>NaN</td>\n",
              "      <td>NaN</td>\n",
              "      <td>NaN</td>\n",
              "      <td>NaN</td>\n",
              "      <td>1.0</td>\n",
              "      <td>1.0</td>\n",
              "    </tr>\n",
              "    <tr>\n",
              "      <th>875</th>\n",
              "      <td>wos:000385597400009</td>\n",
              "      <td>Kouadio, Koffi; Okeibunor, Joseph; Nsubuga, Pe...</td>\n",
              "      <td>[Kouadio, Koffi; Okeibunor, Joseph; Mihigo, Ri...</td>\n",
              "      <td>Mkanda, Pascal</td>\n",
              "      <td>NaN</td>\n",
              "      <td>NaN</td>\n",
              "      <td>NaN</td>\n",
              "      <td>NaN</td>\n",
              "      <td>NaN</td>\n",
              "      <td>NaN</td>\n",
              "      <td>...</td>\n",
              "      <td>1.0</td>\n",
              "      <td>NaN</td>\n",
              "      <td>NaN</td>\n",
              "      <td>NaN</td>\n",
              "      <td>NaN</td>\n",
              "      <td>NaN</td>\n",
              "      <td>NaN</td>\n",
              "      <td>NaN</td>\n",
              "      <td>NaN</td>\n",
              "      <td>NaN</td>\n",
              "    </tr>\n",
              "  </tbody>\n",
              "</table>\n",
              "<p>876 rows × 77 columns</p>\n",
              "</div>"
            ],
            "text/plain": [
              "                  wos_ID                                  Author Full Names  \\\n",
              "0    wos:a1973q658600007                                        MARTINI, GA   \n",
              "1    wos:a1974t169200002                                         MONATH, TP   \n",
              "2    wos:a1975ax37800009  GEAR, JSS; CASSEL, GA; GEAR, AJ; TRAPPLER, B; ...   \n",
              "3    wos:a1977de18800006                             KUMING, BS; KOKORIS, N   \n",
              "4    wos:a1977cx78300009  PATTYN, S; JACOB, W; VANDERGROEN, G; PIOT, P; ...   \n",
              "..                   ...                                                ...   \n",
              "871  wos:000398598700003                  Rojek, Amanda M.; Horby, Peter W.   \n",
              "872  wos:000309742800063  Paweska, Janusz T.; van Vuren, Petrus Jansen; ...   \n",
              "873  wos:000460640400002  Evans, Tierra Smiley; Tutaryebwa, Leonard; Gil...   \n",
              "874  wos:000460640400054  Selvaraj, Saranya A.; Lee, Karen E.; Harrell, ...   \n",
              "875  wos:000385597400009  Kouadio, Koffi; Okeibunor, Joseph; Nsubuga, Pe...   \n",
              "\n",
              "                                             Addresses            last_author  \\\n",
              "0                    UNIV MARBURG,MARBURG,WEST GERMANY            MARTINI, GA   \n",
              "1    WORLD HLTH ORG,CTR DIS CONTROL,REG REFER CTR A...             MONATH, TP   \n",
              "2    JOHANNESBURG GEN HOSP,JOHANNESBURG,SOUTH AFRIC...              GEAR, JHS   \n",
              "3    JOHANNESBURG GEN HOSP,DEPT OPHTHALMOL,JOHANNES...             KOKORIS, N   \n",
              "4    UNIV ANTWERP, ANTWERP, BELGIUM; INST TROP MED,...          COURTEILLE, G   \n",
              "..                                                 ...                    ...   \n",
              "871  [Rojek, Amanda M.; Horby, Peter W.] Univ Oxfor...        Horby, Peter W.   \n",
              "872  [Paweska, Janusz T.; van Vuren, Petrus Jansen;...             Kemp, Alan   \n",
              "873  [Evans, Tierra Smiley; Gilardi, Kirsten V.; Ma...  Johnson, Christine K.   \n",
              "874  [Selvaraj, Saranya A.] Univ Maryland, Med Ctr,...  Allegranzi, Benedetta   \n",
              "875  [Kouadio, Koffi; Okeibunor, Joseph; Mihigo, Ri...         Mkanda, Pascal   \n",
              "\n",
              "     Australia  Bangladesh  Belgium  United States  Canada  Colombia  ...  \\\n",
              "0          NaN         NaN      NaN            NaN     NaN       NaN  ...   \n",
              "1          NaN         NaN      NaN            NaN     NaN       NaN  ...   \n",
              "2          NaN         NaN      NaN            NaN     NaN       NaN  ...   \n",
              "3          NaN         NaN      NaN            NaN     NaN       NaN  ...   \n",
              "4          NaN         NaN      NaN            NaN     NaN       NaN  ...   \n",
              "..         ...         ...      ...            ...     ...       ...  ...   \n",
              "871        NaN         NaN      NaN            NaN     NaN       NaN  ...   \n",
              "872        NaN         NaN      NaN            NaN     NaN       NaN  ...   \n",
              "873        NaN         NaN      NaN            1.0     NaN       NaN  ...   \n",
              "874        NaN         NaN      NaN            NaN     NaN       NaN  ...   \n",
              "875        NaN         NaN      NaN            NaN     NaN       NaN  ...   \n",
              "\n",
              "     wb_low_income_economies  wb_low_income_economies_africa  \\\n",
              "0                        NaN                             NaN   \n",
              "1                        NaN                             NaN   \n",
              "2                        NaN                             NaN   \n",
              "3                        NaN                             NaN   \n",
              "4                        NaN                             NaN   \n",
              "..                       ...                             ...   \n",
              "871                      NaN                             NaN   \n",
              "872                      NaN                             NaN   \n",
              "873                      NaN                             NaN   \n",
              "874                      NaN                             NaN   \n",
              "875                      1.0                             NaN   \n",
              "\n",
              "     wb_lower_middle_income_economies  \\\n",
              "0                                 NaN   \n",
              "1                                 NaN   \n",
              "2                                 NaN   \n",
              "3                                 NaN   \n",
              "4                                 NaN   \n",
              "..                                ...   \n",
              "871                               NaN   \n",
              "872                               NaN   \n",
              "873                               NaN   \n",
              "874                               NaN   \n",
              "875                               NaN   \n",
              "\n",
              "     wb_lower_middle_income_economies_africa  \\\n",
              "0                                        NaN   \n",
              "1                                        NaN   \n",
              "2                                        NaN   \n",
              "3                                        NaN   \n",
              "4                                        NaN   \n",
              "..                                       ...   \n",
              "871                                      NaN   \n",
              "872                                      NaN   \n",
              "873                                      NaN   \n",
              "874                                      NaN   \n",
              "875                                      NaN   \n",
              "\n",
              "     wb_lower_middle_income_economies_others  \\\n",
              "0                                        NaN   \n",
              "1                                        NaN   \n",
              "2                                        NaN   \n",
              "3                                        NaN   \n",
              "4                                        NaN   \n",
              "..                                       ...   \n",
              "871                                      NaN   \n",
              "872                                      NaN   \n",
              "873                                      NaN   \n",
              "874                                      NaN   \n",
              "875                                      NaN   \n",
              "\n",
              "     wb_upper_middle_income_economies  \\\n",
              "0                                 NaN   \n",
              "1                                 NaN   \n",
              "2                                 NaN   \n",
              "3                                 NaN   \n",
              "4                                 NaN   \n",
              "..                                ...   \n",
              "871                               NaN   \n",
              "872                               1.0   \n",
              "873                               NaN   \n",
              "874                               NaN   \n",
              "875                               NaN   \n",
              "\n",
              "     wb_upper_middle_income_economies_africa  \\\n",
              "0                                        NaN   \n",
              "1                                        NaN   \n",
              "2                                        NaN   \n",
              "3                                        NaN   \n",
              "4                                        NaN   \n",
              "..                                       ...   \n",
              "871                                      NaN   \n",
              "872                                      1.0   \n",
              "873                                      NaN   \n",
              "874                                      NaN   \n",
              "875                                      NaN   \n",
              "\n",
              "     wb_upper_middle_income_economies_others  wb_high_income_economies  \\\n",
              "0                                        NaN                       NaN   \n",
              "1                                        NaN                       NaN   \n",
              "2                                        NaN                       NaN   \n",
              "3                                        NaN                       NaN   \n",
              "4                                        NaN                       NaN   \n",
              "..                                       ...                       ...   \n",
              "871                                      NaN                       1.0   \n",
              "872                                      NaN                       NaN   \n",
              "873                                      NaN                       1.0   \n",
              "874                                      NaN                       1.0   \n",
              "875                                      NaN                       NaN   \n",
              "\n",
              "     wb_high_income_economies_others  \n",
              "0                                NaN  \n",
              "1                                NaN  \n",
              "2                                NaN  \n",
              "3                                NaN  \n",
              "4                                NaN  \n",
              "..                               ...  \n",
              "871                              1.0  \n",
              "872                              NaN  \n",
              "873                              1.0  \n",
              "874                              1.0  \n",
              "875                              NaN  \n",
              "\n",
              "[876 rows x 77 columns]"
            ]
          },
          "execution_count": 53,
          "metadata": {},
          "output_type": "execute_result"
        }
      ],
      "source": [
        "#save data\n",
        "data_group.to_pickle('D:\\MARBURG VIRUS DISEASES\\DATA_PREPROCESSING/data_concat_countries_and_wb_groups_income_last_authors.pkl')\n",
        "data_group.to_csv('D:\\MARBURG VIRUS DISEASES\\DATA_PREPROCESSING/data_concat_countries_and_wb_groups_income_last_authors.csv')\n",
        "data_group"
      ]
    },
    {
      "cell_type": "code",
      "execution_count": null,
      "id": "576f526f",
      "metadata": {
        "id": "576f526f"
      },
      "outputs": [],
      "source": []
    }
  ],
  "metadata": {
    "kernelspec": {
      "display_name": "KERAS_GPU_BON",
      "language": "python",
      "name": "keras_gpu"
    },
    "language_info": {
      "codemirror_mode": {
        "name": "ipython",
        "version": 3
      },
      "file_extension": ".py",
      "mimetype": "text/x-python",
      "name": "python",
      "nbconvert_exporter": "python",
      "pygments_lexer": "ipython3",
      "version": "3.8.8"
    },
    "toc-autonumbering": true,
    "toc-showmarkdowntxt": false,
    "colab": {
      "provenance": [],
      "include_colab_link": true
    }
  },
  "nbformat": 4,
  "nbformat_minor": 5
}