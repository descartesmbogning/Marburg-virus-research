{
  "cells": [
    {
      "cell_type": "markdown",
      "metadata": {
        "id": "view-in-github",
        "colab_type": "text"
      },
      "source": [
        "<a href=\"https://colab.research.google.com/github/descartesmbogning/Marburg-virus-research/blob/main/3_analysis_accessibility_open_access.ipynb\" target=\"_parent\"><img src=\"https://colab.research.google.com/assets/colab-badge.svg\" alt=\"Open In Colab\"/></a>"
      ]
    },
    {
      "cell_type": "code",
      "execution_count": null,
      "id": "3dc7f689-773e-4971-a55f-d3c09667b68a",
      "metadata": {
        "id": "3dc7f689-773e-4971-a55f-d3c09667b68a"
      },
      "outputs": [],
      "source": [
        "import pandas as pd\n",
        "import numpy as np\n",
        "import re\n",
        "from functools import reduce\n",
        "import seaborn as sns\n",
        "import missingno as msno\n",
        "%matplotlib inline\n",
        "\n",
        "import matplotlib.pyplot as plt\n",
        "from scipy.stats import norm\n"
      ]
    },
    {
      "cell_type": "code",
      "execution_count": null,
      "id": "5fc276f9-95ac-4a3a-8e66-d6fbe79e78ab",
      "metadata": {
        "id": "5fc276f9-95ac-4a3a-8e66-d6fbe79e78ab"
      },
      "outputs": [],
      "source": [
        "# Set the figure size - handy for larger output\n",
        "from matplotlib import pyplot as plt\n",
        "plt.rcParams[\"figure.figsize\"] = [10, 6]\n",
        "# Set up with a higher resolution screen (useful on Mac)\n",
        "%config InlineBackend.figure_format = 'retina'"
      ]
    },
    {
      "cell_type": "code",
      "execution_count": null,
      "id": "933ef059-e908-4062-8d42-e359dec00daf",
      "metadata": {
        "id": "933ef059-e908-4062-8d42-e359dec00daf"
      },
      "outputs": [],
      "source": []
    },
    {
      "cell_type": "code",
      "execution_count": null,
      "id": "ea87c42b-0d46-4673-a121-fd0b06904aef",
      "metadata": {
        "id": "ea87c42b-0d46-4673-a121-fd0b06904aef"
      },
      "outputs": [],
      "source": [
        "from scipy import stats #the only import you actually need for this\n",
        "import numpy as np\n",
        "import seaborn as sns\n",
        "import pandas as pd\n",
        "import matplotlib.pyplot as plt\n",
        "%config InlineBackend.print_figure_kwargs={'facecolor' : \"w\"}"
      ]
    },
    {
      "cell_type": "code",
      "execution_count": null,
      "id": "986f2a4f-3d55-42ac-8463-7509b25eab99",
      "metadata": {
        "id": "986f2a4f-3d55-42ac-8463-7509b25eab99"
      },
      "outputs": [],
      "source": [
        "# function that tests distribution then picks test accordingly\n",
        "def test_sig(x, y):\n",
        "    if stats.shapiro(x).pvalue >= 0.05 and stats.shapiro(y).pvalue >= 0.05: #if they are normally distriuted\n",
        "        print(\"t-test\")\n",
        "        return stats.ttest_ind(x,y)\n",
        "    else:\n",
        "        print(\"mann-whitney\")\n",
        "        return stats.mannwhitneyu(x, y)"
      ]
    },
    {
      "cell_type": "code",
      "execution_count": null,
      "id": "f7a81784-9bd7-463f-b171-616893aa9082",
      "metadata": {
        "id": "f7a81784-9bd7-463f-b171-616893aa9082"
      },
      "outputs": [],
      "source": []
    },
    {
      "cell_type": "markdown",
      "id": "b72503cc-2c5c-45dd-8c0f-00f07b71bb10",
      "metadata": {
        "id": "b72503cc-2c5c-45dd-8c0f-00f07b71bb10"
      },
      "source": [
        "## import data"
      ]
    },
    {
      "cell_type": "code",
      "execution_count": null,
      "id": "89a5c933-26d3-4542-9b36-4c15e0d31483",
      "metadata": {
        "id": "89a5c933-26d3-4542-9b36-4c15e0d31483",
        "outputId": "da7355a4-1aff-43b6-880d-8969c242443f"
      },
      "outputs": [
        {
          "data": {
            "text/html": [
              "<div>\n",
              "<style scoped>\n",
              "    .dataframe tbody tr th:only-of-type {\n",
              "        vertical-align: middle;\n",
              "    }\n",
              "\n",
              "    .dataframe tbody tr th {\n",
              "        vertical-align: top;\n",
              "    }\n",
              "\n",
              "    .dataframe thead th {\n",
              "        text-align: right;\n",
              "    }\n",
              "</style>\n",
              "<table border=\"1\" class=\"dataframe\">\n",
              "  <thead>\n",
              "    <tr style=\"text-align: right;\">\n",
              "      <th></th>\n",
              "      <th>Unnamed: 0</th>\n",
              "      <th>wos_ID</th>\n",
              "      <th>funding_yes</th>\n",
              "      <th>open_access_yes</th>\n",
              "      <th>Funding Name Preferred</th>\n",
              "      <th>europe and central asia</th>\n",
              "      <th>north america</th>\n",
              "      <th>africa</th>\n",
              "      <th>sub-saharan africa</th>\n",
              "      <th>east asia and pacific</th>\n",
              "      <th>...</th>\n",
              "      <th>fulbright foundation - usa</th>\n",
              "      <th>world bank - multilateral</th>\n",
              "      <th>china association for science and technology - china</th>\n",
              "      <th>zhejiang university - china</th>\n",
              "      <th>Funding Orgs</th>\n",
              "      <th>Open Access Designations</th>\n",
              "      <th>Times Cited, All Databases</th>\n",
              "      <th>180 Day Usage Count</th>\n",
              "      <th>Since 2013 Usage Count</th>\n",
              "      <th>Publication Year</th>\n",
              "    </tr>\n",
              "  </thead>\n",
              "  <tbody>\n",
              "    <tr>\n",
              "      <th>1</th>\n",
              "      <td>1</td>\n",
              "      <td>wos:000921279800001</td>\n",
              "      <td>1</td>\n",
              "      <td>1</td>\n",
              "      <td>National Institutes of Health (NIH)(United Sta...</td>\n",
              "      <td>NaN</td>\n",
              "      <td>2.0</td>\n",
              "      <td>NaN</td>\n",
              "      <td>NaN</td>\n",
              "      <td>NaN</td>\n",
              "      <td>...</td>\n",
              "      <td>NaN</td>\n",
              "      <td>NaN</td>\n",
              "      <td>NaN</td>\n",
              "      <td>NaN</td>\n",
              "      <td>national institutes of health (nih) [u19ai1427...</td>\n",
              "      <td>hybrid</td>\n",
              "      <td>NaN</td>\n",
              "      <td>NaN</td>\n",
              "      <td>NaN</td>\n",
              "      <td>2023.0</td>\n",
              "    </tr>\n",
              "    <tr>\n",
              "      <th>2</th>\n",
              "      <td>2</td>\n",
              "      <td>wos:000909001200001</td>\n",
              "      <td>1</td>\n",
              "      <td>1</td>\n",
              "      <td>Russian Science Foundation(Russian Science Fou...</td>\n",
              "      <td>1.0</td>\n",
              "      <td>NaN</td>\n",
              "      <td>NaN</td>\n",
              "      <td>NaN</td>\n",
              "      <td>NaN</td>\n",
              "      <td>...</td>\n",
              "      <td>NaN</td>\n",
              "      <td>NaN</td>\n",
              "      <td>NaN</td>\n",
              "      <td>NaN</td>\n",
              "      <td>russian science foundation;  [22-13-00036]</td>\n",
              "      <td>gold, green accepted</td>\n",
              "      <td>NaN</td>\n",
              "      <td>3.0</td>\n",
              "      <td>3.0</td>\n",
              "      <td>2023.0</td>\n",
              "    </tr>\n",
              "  </tbody>\n",
              "</table>\n",
              "<p>2 rows × 521 columns</p>\n",
              "</div>"
            ],
            "text/plain": [
              "   Unnamed: 0               wos_ID  funding_yes  open_access_yes  \\\n",
              "1           1  wos:000921279800001            1                1   \n",
              "2           2  wos:000909001200001            1                1   \n",
              "\n",
              "                              Funding Name Preferred  europe and central asia  \\\n",
              "1  National Institutes of Health (NIH)(United Sta...                      NaN   \n",
              "2  Russian Science Foundation(Russian Science Fou...                      1.0   \n",
              "\n",
              "   north america  africa  sub-saharan africa  east asia and pacific  ...  \\\n",
              "1            2.0     NaN                 NaN                    NaN  ...   \n",
              "2            NaN     NaN                 NaN                    NaN  ...   \n",
              "\n",
              "   fulbright foundation - usa  world bank - multilateral  \\\n",
              "1                         NaN                        NaN   \n",
              "2                         NaN                        NaN   \n",
              "\n",
              "   china association for science and technology - china  \\\n",
              "1                                                NaN      \n",
              "2                                                NaN      \n",
              "\n",
              "   zhejiang university - china  \\\n",
              "1                          NaN   \n",
              "2                          NaN   \n",
              "\n",
              "                                        Funding Orgs  \\\n",
              "1  national institutes of health (nih) [u19ai1427...   \n",
              "2         russian science foundation;  [22-13-00036]   \n",
              "\n",
              "   Open Access Designations  Times Cited, All Databases  180 Day Usage Count  \\\n",
              "1                    hybrid                         NaN                  NaN   \n",
              "2      gold, green accepted                         NaN                  3.0   \n",
              "\n",
              "   Since 2013 Usage Count  Publication Year  \n",
              "1                     NaN            2023.0  \n",
              "2                     3.0            2023.0  \n",
              "\n",
              "[2 rows x 521 columns]"
            ]
          },
          "execution_count": 5,
          "metadata": {},
          "output_type": "execute_result"
        }
      ],
      "source": [
        "data = pd.read_csv('D:\\MARBURG VIRUS DISEASES\\TABLES/data_fund_region_country_and_org_clean_dummies_col_replace_grp.csv')#.drop(['Addresses'], axis=1)\n",
        "data = data.loc[data['funding_yes'] == 1]\n",
        "data.head(2)"
      ]
    },
    {
      "cell_type": "code",
      "execution_count": null,
      "id": "a4c50669-8420-4f39-b602-0ed9cb9c56db",
      "metadata": {
        "id": "a4c50669-8420-4f39-b602-0ed9cb9c56db",
        "outputId": "e035ac82-03d5-4a8c-c8e3-27fdf90fca13"
      },
      "outputs": [
        {
          "data": {
            "text/plain": [
              "Unnamed: 0                 577\n",
              "wos_ID                     577\n",
              "funding_yes                577\n",
              "open_access_yes            577\n",
              "Funding Name Preferred     575\n",
              "europe and central asia    125\n",
              "north america              431\n",
              "africa                       2\n",
              "sub-saharan africa          20\n",
              "east asia and pacific       78\n",
              "dtype: int64"
            ]
          },
          "execution_count": 6,
          "metadata": {},
          "output_type": "execute_result"
        }
      ],
      "source": [
        "data.count().head(10)"
      ]
    },
    {
      "cell_type": "code",
      "execution_count": null,
      "id": "709bae1e-241d-48ad-9ae4-e2d4192dc710",
      "metadata": {
        "id": "709bae1e-241d-48ad-9ae4-e2d4192dc710",
        "outputId": "2a15f0f7-cbdf-4988-c2c8-608669ae9f5c"
      },
      "outputs": [
        {
          "data": {
            "text/plain": [
              "1    577\n",
              "Name: funding_yes, dtype: int64"
            ]
          },
          "execution_count": 7,
          "metadata": {},
          "output_type": "execute_result"
        }
      ],
      "source": [
        "data['funding_yes'].value_counts()"
      ]
    },
    {
      "cell_type": "code",
      "execution_count": null,
      "id": "dcf3cc89-e1d4-49cb-b0b0-1cebfc6f0d51",
      "metadata": {
        "id": "dcf3cc89-e1d4-49cb-b0b0-1cebfc6f0d51",
        "outputId": "7ed9be4d-cf7b-421a-a33a-8ea0244b03e3"
      },
      "outputs": [
        {
          "data": {
            "text/html": [
              "<div>\n",
              "<style scoped>\n",
              "    .dataframe tbody tr th:only-of-type {\n",
              "        vertical-align: middle;\n",
              "    }\n",
              "\n",
              "    .dataframe tbody tr th {\n",
              "        vertical-align: top;\n",
              "    }\n",
              "\n",
              "    .dataframe thead th {\n",
              "        text-align: right;\n",
              "    }\n",
              "</style>\n",
              "<table border=\"1\" class=\"dataframe\">\n",
              "  <thead>\n",
              "    <tr style=\"text-align: right;\">\n",
              "      <th></th>\n",
              "      <th>Unnamed: 0</th>\n",
              "      <th>wos_ID</th>\n",
              "      <th>funding_yes</th>\n",
              "      <th>Funding Name Preferred</th>\n",
              "      <th>europe and central asia</th>\n",
              "      <th>north america</th>\n",
              "      <th>africa</th>\n",
              "      <th>sub-saharan africa</th>\n",
              "      <th>east asia and pacific</th>\n",
              "      <th>/</th>\n",
              "      <th>...</th>\n",
              "      <th>fulbright foundation - usa</th>\n",
              "      <th>world bank - multilateral</th>\n",
              "      <th>china association for science and technology - china</th>\n",
              "      <th>zhejiang university - china</th>\n",
              "      <th>Funding Orgs</th>\n",
              "      <th>Open Access Designations</th>\n",
              "      <th>Times Cited, All Databases</th>\n",
              "      <th>180 Day Usage Count</th>\n",
              "      <th>Since 2013 Usage Count</th>\n",
              "      <th>Publication Year</th>\n",
              "    </tr>\n",
              "    <tr>\n",
              "      <th>open_access_yes</th>\n",
              "      <th></th>\n",
              "      <th></th>\n",
              "      <th></th>\n",
              "      <th></th>\n",
              "      <th></th>\n",
              "      <th></th>\n",
              "      <th></th>\n",
              "      <th></th>\n",
              "      <th></th>\n",
              "      <th></th>\n",
              "      <th></th>\n",
              "      <th></th>\n",
              "      <th></th>\n",
              "      <th></th>\n",
              "      <th></th>\n",
              "      <th></th>\n",
              "      <th></th>\n",
              "      <th></th>\n",
              "      <th></th>\n",
              "      <th></th>\n",
              "      <th></th>\n",
              "    </tr>\n",
              "  </thead>\n",
              "  <tbody>\n",
              "    <tr>\n",
              "      <th>0</th>\n",
              "      <td>78</td>\n",
              "      <td>78</td>\n",
              "      <td>78</td>\n",
              "      <td>78</td>\n",
              "      <td>21</td>\n",
              "      <td>45</td>\n",
              "      <td>2</td>\n",
              "      <td>5</td>\n",
              "      <td>14</td>\n",
              "      <td>1</td>\n",
              "      <td>...</td>\n",
              "      <td>0</td>\n",
              "      <td>0</td>\n",
              "      <td>0</td>\n",
              "      <td>0</td>\n",
              "      <td>78</td>\n",
              "      <td>0</td>\n",
              "      <td>68</td>\n",
              "      <td>27</td>\n",
              "      <td>75</td>\n",
              "      <td>75</td>\n",
              "    </tr>\n",
              "    <tr>\n",
              "      <th>1</th>\n",
              "      <td>499</td>\n",
              "      <td>499</td>\n",
              "      <td>499</td>\n",
              "      <td>497</td>\n",
              "      <td>104</td>\n",
              "      <td>386</td>\n",
              "      <td>0</td>\n",
              "      <td>15</td>\n",
              "      <td>64</td>\n",
              "      <td>9</td>\n",
              "      <td>...</td>\n",
              "      <td>1</td>\n",
              "      <td>1</td>\n",
              "      <td>1</td>\n",
              "      <td>1</td>\n",
              "      <td>499</td>\n",
              "      <td>499</td>\n",
              "      <td>479</td>\n",
              "      <td>209</td>\n",
              "      <td>485</td>\n",
              "      <td>498</td>\n",
              "    </tr>\n",
              "  </tbody>\n",
              "</table>\n",
              "<p>2 rows × 520 columns</p>\n",
              "</div>"
            ],
            "text/plain": [
              "                 Unnamed: 0  wos_ID  funding_yes  Funding Name Preferred  \\\n",
              "open_access_yes                                                            \n",
              "0                        78      78           78                      78   \n",
              "1                       499     499          499                     497   \n",
              "\n",
              "                 europe and central asia  north america  africa  \\\n",
              "open_access_yes                                                   \n",
              "0                                     21             45       2   \n",
              "1                                    104            386       0   \n",
              "\n",
              "                 sub-saharan africa  east asia and pacific  /  ...  \\\n",
              "open_access_yes                                                ...   \n",
              "0                                 5                     14  1  ...   \n",
              "1                                15                     64  9  ...   \n",
              "\n",
              "                 fulbright foundation - usa  world bank - multilateral  \\\n",
              "open_access_yes                                                          \n",
              "0                                         0                          0   \n",
              "1                                         1                          1   \n",
              "\n",
              "                 china association for science and technology - china  \\\n",
              "open_access_yes                                                         \n",
              "0                                                                0      \n",
              "1                                                                1      \n",
              "\n",
              "                 zhejiang university - china  Funding Orgs  \\\n",
              "open_access_yes                                              \n",
              "0                                          0            78   \n",
              "1                                          1           499   \n",
              "\n",
              "                 Open Access Designations  Times Cited, All Databases  \\\n",
              "open_access_yes                                                         \n",
              "0                                       0                          68   \n",
              "1                                     499                         479   \n",
              "\n",
              "                 180 Day Usage Count  Since 2013 Usage Count  Publication Year  \n",
              "open_access_yes                                                                 \n",
              "0                                 27                      75                75  \n",
              "1                                209                     485               498  \n",
              "\n",
              "[2 rows x 520 columns]"
            ]
          },
          "execution_count": 8,
          "metadata": {},
          "output_type": "execute_result"
        }
      ],
      "source": [
        "data.groupby(['open_access_yes']).count()"
      ]
    },
    {
      "cell_type": "markdown",
      "id": "bfeda60a",
      "metadata": {
        "id": "bfeda60a"
      },
      "source": [
        "# The accessibility of Marburg Virus Diseases publications (open access)"
      ]
    },
    {
      "cell_type": "markdown",
      "id": "3f3ee6ab",
      "metadata": {
        "id": "3f3ee6ab"
      },
      "source": [
        "## proportion all"
      ]
    },
    {
      "cell_type": "code",
      "execution_count": null,
      "id": "a196d968-3e35-4b5e-a880-d24203148395",
      "metadata": {
        "id": "a196d968-3e35-4b5e-a880-d24203148395",
        "outputId": "7a8f3b0b-115f-4586-91b1-3f2ef590a1b4"
      },
      "outputs": [
        {
          "data": {
            "text/html": [
              "<div>\n",
              "<style scoped>\n",
              "    .dataframe tbody tr th:only-of-type {\n",
              "        vertical-align: middle;\n",
              "    }\n",
              "\n",
              "    .dataframe tbody tr th {\n",
              "        vertical-align: top;\n",
              "    }\n",
              "\n",
              "    .dataframe thead th {\n",
              "        text-align: right;\n",
              "    }\n",
              "</style>\n",
              "<table border=\"1\" class=\"dataframe\">\n",
              "  <thead>\n",
              "    <tr style=\"text-align: right;\">\n",
              "      <th>open_access_yes</th>\n",
              "      <th>all_is_no_oa</th>\n",
              "      <th>all_is_oa</th>\n",
              "      <th>all_total</th>\n",
              "      <th>%all_is_no_oa</th>\n",
              "      <th>%all_is_oa</th>\n",
              "      <th>%all_total</th>\n",
              "      <th>%_diff(%all_is_oa-%all_is_no_oa)</th>\n",
              "    </tr>\n",
              "  </thead>\n",
              "  <tbody>\n",
              "    <tr>\n",
              "      <th>index</th>\n",
              "      <td>78</td>\n",
              "      <td>499</td>\n",
              "      <td>577</td>\n",
              "      <td>13.518198</td>\n",
              "      <td>86.481802</td>\n",
              "      <td>100.0</td>\n",
              "      <td>72.963605</td>\n",
              "    </tr>\n",
              "    <tr>\n",
              "      <th>Unnamed: 0</th>\n",
              "      <td>78</td>\n",
              "      <td>499</td>\n",
              "      <td>577</td>\n",
              "      <td>13.518198</td>\n",
              "      <td>86.481802</td>\n",
              "      <td>100.0</td>\n",
              "      <td>72.963605</td>\n",
              "    </tr>\n",
              "    <tr>\n",
              "      <th>wos_ID</th>\n",
              "      <td>78</td>\n",
              "      <td>499</td>\n",
              "      <td>577</td>\n",
              "      <td>13.518198</td>\n",
              "      <td>86.481802</td>\n",
              "      <td>100.0</td>\n",
              "      <td>72.963605</td>\n",
              "    </tr>\n",
              "    <tr>\n",
              "      <th>funding_yes</th>\n",
              "      <td>78</td>\n",
              "      <td>499</td>\n",
              "      <td>577</td>\n",
              "      <td>13.518198</td>\n",
              "      <td>86.481802</td>\n",
              "      <td>100.0</td>\n",
              "      <td>72.963605</td>\n",
              "    </tr>\n",
              "    <tr>\n",
              "      <th>Funding Name Preferred</th>\n",
              "      <td>78</td>\n",
              "      <td>497</td>\n",
              "      <td>575</td>\n",
              "      <td>13.565217</td>\n",
              "      <td>86.434783</td>\n",
              "      <td>100.0</td>\n",
              "      <td>72.869565</td>\n",
              "    </tr>\n",
              "    <tr>\n",
              "      <th>...</th>\n",
              "      <td>...</td>\n",
              "      <td>...</td>\n",
              "      <td>...</td>\n",
              "      <td>...</td>\n",
              "      <td>...</td>\n",
              "      <td>...</td>\n",
              "      <td>...</td>\n",
              "    </tr>\n",
              "    <tr>\n",
              "      <th>Open Access Designations</th>\n",
              "      <td>0</td>\n",
              "      <td>499</td>\n",
              "      <td>499</td>\n",
              "      <td>0.000000</td>\n",
              "      <td>100.000000</td>\n",
              "      <td>100.0</td>\n",
              "      <td>100.000000</td>\n",
              "    </tr>\n",
              "    <tr>\n",
              "      <th>Times Cited, All Databases</th>\n",
              "      <td>68</td>\n",
              "      <td>479</td>\n",
              "      <td>547</td>\n",
              "      <td>12.431444</td>\n",
              "      <td>87.568556</td>\n",
              "      <td>100.0</td>\n",
              "      <td>75.137112</td>\n",
              "    </tr>\n",
              "    <tr>\n",
              "      <th>180 Day Usage Count</th>\n",
              "      <td>27</td>\n",
              "      <td>209</td>\n",
              "      <td>236</td>\n",
              "      <td>11.440678</td>\n",
              "      <td>88.559322</td>\n",
              "      <td>100.0</td>\n",
              "      <td>77.118644</td>\n",
              "    </tr>\n",
              "    <tr>\n",
              "      <th>Since 2013 Usage Count</th>\n",
              "      <td>75</td>\n",
              "      <td>485</td>\n",
              "      <td>560</td>\n",
              "      <td>13.392857</td>\n",
              "      <td>86.607143</td>\n",
              "      <td>100.0</td>\n",
              "      <td>73.214286</td>\n",
              "    </tr>\n",
              "    <tr>\n",
              "      <th>Publication Year</th>\n",
              "      <td>75</td>\n",
              "      <td>498</td>\n",
              "      <td>573</td>\n",
              "      <td>13.089005</td>\n",
              "      <td>86.910995</td>\n",
              "      <td>100.0</td>\n",
              "      <td>73.821990</td>\n",
              "    </tr>\n",
              "  </tbody>\n",
              "</table>\n",
              "<p>521 rows × 7 columns</p>\n",
              "</div>"
            ],
            "text/plain": [
              "open_access_yes             all_is_no_oa  all_is_oa  all_total  %all_is_no_oa  \\\n",
              "index                                 78        499        577      13.518198   \n",
              "Unnamed: 0                            78        499        577      13.518198   \n",
              "wos_ID                                78        499        577      13.518198   \n",
              "funding_yes                           78        499        577      13.518198   \n",
              "Funding Name Preferred                78        497        575      13.565217   \n",
              "...                                  ...        ...        ...            ...   \n",
              "Open Access Designations               0        499        499       0.000000   \n",
              "Times Cited, All Databases            68        479        547      12.431444   \n",
              "180 Day Usage Count                   27        209        236      11.440678   \n",
              "Since 2013 Usage Count                75        485        560      13.392857   \n",
              "Publication Year                      75        498        573      13.089005   \n",
              "\n",
              "open_access_yes             %all_is_oa  %all_total  \\\n",
              "index                        86.481802       100.0   \n",
              "Unnamed: 0                   86.481802       100.0   \n",
              "wos_ID                       86.481802       100.0   \n",
              "funding_yes                  86.481802       100.0   \n",
              "Funding Name Preferred       86.434783       100.0   \n",
              "...                                ...         ...   \n",
              "Open Access Designations    100.000000       100.0   \n",
              "Times Cited, All Databases   87.568556       100.0   \n",
              "180 Day Usage Count          88.559322       100.0   \n",
              "Since 2013 Usage Count       86.607143       100.0   \n",
              "Publication Year             86.910995       100.0   \n",
              "\n",
              "open_access_yes             %_diff(%all_is_oa-%all_is_no_oa)  \n",
              "index                                              72.963605  \n",
              "Unnamed: 0                                         72.963605  \n",
              "wos_ID                                             72.963605  \n",
              "funding_yes                                        72.963605  \n",
              "Funding Name Preferred                             72.869565  \n",
              "...                                                      ...  \n",
              "Open Access Designations                          100.000000  \n",
              "Times Cited, All Databases                         75.137112  \n",
              "180 Day Usage Count                                77.118644  \n",
              "Since 2013 Usage Count                             73.214286  \n",
              "Publication Year                                   73.821990  \n",
              "\n",
              "[521 rows x 7 columns]"
            ]
          },
          "execution_count": 9,
          "metadata": {},
          "output_type": "execute_result"
        }
      ],
      "source": [
        "countries_oa_list_all = data.reset_index().groupby(['open_access_yes']).count().T\n",
        "countries_oa_list_all.rename(columns = {0:'all_is_no_oa',\n",
        "                              1:'all_is_oa'}, inplace = True)\n",
        "\n",
        "countries_oa_list_all['all_total'] = countries_oa_list_all['all_is_no_oa'] + countries_oa_list_all['all_is_oa']\n",
        "\n",
        "for col in countries_oa_list_all.columns:\n",
        "    countries_oa_list_all['%'+col] = countries_oa_list_all[col]/countries_oa_list_all['all_total']*100\n",
        "\n",
        "countries_oa_list_all['%_diff(%all_is_oa-%all_is_no_oa)'] = countries_oa_list_all['%all_is_oa'] - countries_oa_list_all['%all_is_no_oa']\n",
        "\n",
        "# save data\n",
        "countries_oa_list_all.to_csv(f'../TABLES/region_countries_org_all_oa_list.csv')\n",
        "\n",
        "countries_oa_list_all"
      ]
    },
    {
      "cell_type": "code",
      "execution_count": null,
      "id": "9dd22a44-3367-482a-9140-81513d4b10ad",
      "metadata": {
        "id": "9dd22a44-3367-482a-9140-81513d4b10ad",
        "outputId": "da1d6e9d-f0f2-44d0-ed35-3b7953afb723"
      },
      "outputs": [
        {
          "ename": "NameError",
          "evalue": "name 'xxxxx' is not defined",
          "output_type": "error",
          "traceback": [
            "\u001b[1;31m---------------------------------------------------------------------------\u001b[0m",
            "\u001b[1;31mNameError\u001b[0m                                 Traceback (most recent call last)",
            "Input \u001b[1;32mIn [10]\u001b[0m, in \u001b[0;36m<cell line: 1>\u001b[1;34m()\u001b[0m\n\u001b[1;32m----> 1\u001b[0m \u001b[43mxxxxx\u001b[49m\n",
            "\u001b[1;31mNameError\u001b[0m: name 'xxxxx' is not defined"
          ]
        }
      ],
      "source": [
        "xxxxx"
      ]
    },
    {
      "cell_type": "code",
      "execution_count": null,
      "id": "aaba3e40-79a1-4115-b867-6766a117aed4",
      "metadata": {
        "id": "aaba3e40-79a1-4115-b867-6766a117aed4"
      },
      "outputs": [],
      "source": [
        "countries_oa_list_all[['all_is_no_oa','all_is_oa','all_total']].describe()"
      ]
    },
    {
      "cell_type": "markdown",
      "id": "c3ee744c",
      "metadata": {
        "id": "c3ee744c"
      },
      "source": [
        "### significance"
      ]
    },
    {
      "cell_type": "code",
      "execution_count": null,
      "id": "3c072c4b",
      "metadata": {
        "id": "3c072c4b"
      },
      "outputs": [],
      "source": [
        "all_OA = data['funding_yes'].loc[data['open_access_yes'] == 1].to_list()\n",
        "all_no_OA = data['funding_yes'].loc[data['open_access_yes'] == 0].to_list()\n",
        "\n",
        "test_sig(all_OA, all_no_OA)"
      ]
    },
    {
      "cell_type": "code",
      "execution_count": null,
      "id": "b2e209a9-55a0-4f47-8221-5aa5e7ed5e5f",
      "metadata": {
        "id": "b2e209a9-55a0-4f47-8221-5aa5e7ed5e5f"
      },
      "outputs": [],
      "source": []
    },
    {
      "cell_type": "markdown",
      "id": "0e212057",
      "metadata": {
        "id": "0e212057"
      },
      "source": [
        "## proportion fund"
      ]
    },
    {
      "cell_type": "code",
      "execution_count": null,
      "id": "f900b9cd-02a3-4f01-b7cf-17e56a3063f6",
      "metadata": {
        "id": "f900b9cd-02a3-4f01-b7cf-17e56a3063f6"
      },
      "outputs": [],
      "source": [
        "data_fund = data.loc[data['funding_yes'] == 1]\n",
        "data_fund.shape"
      ]
    },
    {
      "cell_type": "code",
      "execution_count": null,
      "id": "936be8c1",
      "metadata": {
        "id": "936be8c1"
      },
      "outputs": [],
      "source": [
        "countries_oa_list_fund = data_fund.reset_index().groupby(['open_access_yes']).count().T\n",
        "countries_oa_list_fund.rename(columns = {0:'fund_is_no_oa',\n",
        "                              1:'fund_is_oa'}, inplace = True)\n",
        "\n",
        "countries_oa_list_fund['fund_total'] = countries_oa_list_fund['fund_is_no_oa'] + countries_oa_list_fund['fund_is_oa']\n",
        "\n",
        "for col in countries_oa_list_fund.columns:\n",
        "    countries_oa_list_fund['%'+col] = countries_oa_list_fund[col]/countries_oa_list_fund['fund_total']*100\n",
        "\n",
        "countries_oa_list_fund['%_diff(%fund_is_oa-%fund_is_no_oa)'] = countries_oa_list_fund['%fund_is_oa'] - countries_oa_list_fund['%fund_is_no_oa']\n",
        "\n",
        "# save data\n",
        "# countries_oa_list_fund.to_csv(f'../TABLES/countries_fund_oa_list.csv')\n",
        "\n",
        "countries_oa_list_fund"
      ]
    },
    {
      "cell_type": "code",
      "execution_count": null,
      "id": "2f60c022-f6b3-4bce-95cb-9d8178bd7c70",
      "metadata": {
        "id": "2f60c022-f6b3-4bce-95cb-9d8178bd7c70"
      },
      "outputs": [],
      "source": []
    },
    {
      "cell_type": "markdown",
      "id": "f23fa23c",
      "metadata": {
        "id": "f23fa23c"
      },
      "source": [
        "## proportion no fund"
      ]
    },
    {
      "cell_type": "code",
      "execution_count": null,
      "id": "5084a048-4508-445d-a810-ab725528494d",
      "metadata": {
        "id": "5084a048-4508-445d-a810-ab725528494d"
      },
      "outputs": [],
      "source": [
        "data_no_fund = data.loc[data['funding_yes'] == 0]\n",
        "data_no_fund.head(2)"
      ]
    },
    {
      "cell_type": "code",
      "execution_count": null,
      "id": "e17334b7",
      "metadata": {
        "id": "e17334b7"
      },
      "outputs": [],
      "source": [
        "countries_oa_list_no_fund = data_no_fund.reset_index().groupby(['open_access_yes']).count().T\n",
        "countries_oa_list_no_fund.rename(columns = {0:'no_fund_is_no_oa',\n",
        "                              1:'no_fund_is_oa'}, inplace = True)\n",
        "\n",
        "countries_oa_list_no_fund['no_fund_total'] = countries_oa_list_no_fund['no_fund_is_no_oa'] + countries_oa_list_no_fund['no_fund_is_oa']\n",
        "\n",
        "for col in countries_oa_list_no_fund.columns:\n",
        "    countries_oa_list_no_fund['%'+col] = countries_oa_list_no_fund[col]/countries_oa_list_no_fund['no_fund_total']*100\n",
        "\n",
        "countries_oa_list_no_fund['%_diff(%no_fund_is_oa-%no_fund_is_no_oa)'] = countries_oa_list_no_fund['%no_fund_is_oa'] - countries_oa_list_no_fund['%no_fund_is_no_oa']\n",
        "\n",
        "# save data\n",
        "# countries_oa_list_no_fund.to_csv(f'../TABLES/countries_fund_no_oa_list.csv')\n",
        "\n",
        "countries_oa_list_no_fund"
      ]
    },
    {
      "cell_type": "code",
      "execution_count": null,
      "id": "b03eac5f",
      "metadata": {
        "id": "b03eac5f"
      },
      "outputs": [],
      "source": []
    },
    {
      "cell_type": "markdown",
      "id": "041c8d32-c9f5-442c-9df7-87b87dee707e",
      "metadata": {
        "id": "041c8d32-c9f5-442c-9df7-87b87dee707e"
      },
      "source": [
        "## concat all dataframe and save"
      ]
    },
    {
      "cell_type": "code",
      "execution_count": null,
      "id": "51c5e7f4-081f-467d-8634-98c4a3e7c292",
      "metadata": {
        "id": "51c5e7f4-081f-467d-8634-98c4a3e7c292"
      },
      "outputs": [],
      "source": [
        "# concatenate dataframes on index\n",
        "concat_countries_oa_list = pd.concat([countries_oa_list_all,\n",
        "                                        countries_oa_list_fund,\n",
        "                                        countries_oa_list_no_fund],\n",
        "                                       axis=1)\n",
        "# save data\n",
        "concat_countries_oa_list.to_csv(f'../TABLES/concat_countries_oa_list.csv')\n",
        "concat_countries_oa_list"
      ]
    },
    {
      "cell_type": "code",
      "execution_count": null,
      "id": "c7e7b0b5-90ec-42e5-a8a6-c0f7980849e0",
      "metadata": {
        "id": "c7e7b0b5-90ec-42e5-a8a6-c0f7980849e0"
      },
      "outputs": [],
      "source": []
    },
    {
      "cell_type": "code",
      "execution_count": null,
      "id": "dca650dc-e459-434b-8ffa-ba8fd1eeaf13",
      "metadata": {
        "id": "dca650dc-e459-434b-8ffa-ba8fd1eeaf13"
      },
      "outputs": [],
      "source": []
    }
  ],
  "metadata": {
    "kernelspec": {
      "display_name": "Python 3 (ipykernel)",
      "language": "python",
      "name": "python3"
    },
    "language_info": {
      "codemirror_mode": {
        "name": "ipython",
        "version": 3
      },
      "file_extension": ".py",
      "mimetype": "text/x-python",
      "name": "python",
      "nbconvert_exporter": "python",
      "pygments_lexer": "ipython3",
      "version": "3.8.8"
    },
    "colab": {
      "provenance": [],
      "include_colab_link": true
    }
  },
  "nbformat": 4,
  "nbformat_minor": 5
}