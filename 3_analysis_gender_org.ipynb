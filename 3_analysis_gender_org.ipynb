{
  "cells": [
    {
      "cell_type": "markdown",
      "metadata": {
        "id": "view-in-github",
        "colab_type": "text"
      },
      "source": [
        "<a href=\"https://colab.research.google.com/github/descartesmbogning/Marburg-virus-research/blob/main/3_analysis_gender_org.ipynb\" target=\"_parent\"><img src=\"https://colab.research.google.com/assets/colab-badge.svg\" alt=\"Open In Colab\"/></a>"
      ]
    },
    {
      "cell_type": "code",
      "execution_count": null,
      "id": "3dc7f689-773e-4971-a55f-d3c09667b68a",
      "metadata": {
        "id": "3dc7f689-773e-4971-a55f-d3c09667b68a"
      },
      "outputs": [],
      "source": [
        "import pandas as pd\n",
        "import numpy as np\n",
        "import re\n",
        "from functools import reduce\n",
        "import seaborn as sns\n",
        "import missingno as msno\n",
        "%matplotlib inline\n",
        "\n",
        "import matplotlib.pyplot as plt\n",
        "from scipy.stats import norm\n"
      ]
    },
    {
      "cell_type": "code",
      "execution_count": null,
      "id": "5fc276f9-95ac-4a3a-8e66-d6fbe79e78ab",
      "metadata": {
        "id": "5fc276f9-95ac-4a3a-8e66-d6fbe79e78ab"
      },
      "outputs": [],
      "source": [
        "# Set the figure size - handy for larger output\n",
        "from matplotlib import pyplot as plt\n",
        "plt.rcParams[\"figure.figsize\"] = [10, 6]\n",
        "# Set up with a higher resolution screen (useful on Mac)\n",
        "%config InlineBackend.figure_format = 'retina'"
      ]
    },
    {
      "cell_type": "code",
      "execution_count": null,
      "id": "933ef059-e908-4062-8d42-e359dec00daf",
      "metadata": {
        "id": "933ef059-e908-4062-8d42-e359dec00daf"
      },
      "outputs": [],
      "source": []
    },
    {
      "cell_type": "code",
      "execution_count": null,
      "id": "4c6fb9cf-c407-4c62-b436-250be7fe417b",
      "metadata": {
        "id": "4c6fb9cf-c407-4c62-b436-250be7fe417b"
      },
      "outputs": [],
      "source": []
    },
    {
      "cell_type": "markdown",
      "id": "b72503cc-2c5c-45dd-8c0f-00f07b71bb10",
      "metadata": {
        "id": "b72503cc-2c5c-45dd-8c0f-00f07b71bb10"
      },
      "source": [
        "## import data"
      ]
    },
    {
      "cell_type": "code",
      "execution_count": null,
      "id": "89a5c933-26d3-4542-9b36-4c15e0d31483",
      "metadata": {
        "id": "89a5c933-26d3-4542-9b36-4c15e0d31483",
        "outputId": "70043cb6-5519-448d-f5e5-611656b13ba2"
      },
      "outputs": [
        {
          "data": {
            "text/html": [
              "<div>\n",
              "<style scoped>\n",
              "    .dataframe tbody tr th:only-of-type {\n",
              "        vertical-align: middle;\n",
              "    }\n",
              "\n",
              "    .dataframe tbody tr th {\n",
              "        vertical-align: top;\n",
              "    }\n",
              "\n",
              "    .dataframe thead th {\n",
              "        text-align: right;\n",
              "    }\n",
              "</style>\n",
              "<table border=\"1\" class=\"dataframe\">\n",
              "  <thead>\n",
              "    <tr style=\"text-align: right;\">\n",
              "      <th></th>\n",
              "      <th>Unnamed: 0</th>\n",
              "      <th>wos_ID</th>\n",
              "      <th>funding_yes</th>\n",
              "      <th>open_access_yes</th>\n",
              "      <th>Funding Name Preferred</th>\n",
              "      <th>europe and central asia</th>\n",
              "      <th>north america</th>\n",
              "      <th>africa</th>\n",
              "      <th>sub-saharan africa</th>\n",
              "      <th>east asia and pacific</th>\n",
              "      <th>...</th>\n",
              "      <th>fulbright foundation - usa</th>\n",
              "      <th>world bank - multilateral</th>\n",
              "      <th>china association for science and technology - china</th>\n",
              "      <th>zhejiang university - china</th>\n",
              "      <th>Funding Orgs</th>\n",
              "      <th>Open Access Designations</th>\n",
              "      <th>Times Cited, All Databases</th>\n",
              "      <th>180 Day Usage Count</th>\n",
              "      <th>Since 2013 Usage Count</th>\n",
              "      <th>Publication Year</th>\n",
              "    </tr>\n",
              "  </thead>\n",
              "  <tbody>\n",
              "    <tr>\n",
              "      <th>1</th>\n",
              "      <td>1</td>\n",
              "      <td>wos:000921279800001</td>\n",
              "      <td>1</td>\n",
              "      <td>1</td>\n",
              "      <td>National Institutes of Health (NIH)(United Sta...</td>\n",
              "      <td>NaN</td>\n",
              "      <td>2.0</td>\n",
              "      <td>NaN</td>\n",
              "      <td>NaN</td>\n",
              "      <td>NaN</td>\n",
              "      <td>...</td>\n",
              "      <td>NaN</td>\n",
              "      <td>NaN</td>\n",
              "      <td>NaN</td>\n",
              "      <td>NaN</td>\n",
              "      <td>national institutes of health (nih) [u19ai1427...</td>\n",
              "      <td>hybrid</td>\n",
              "      <td>NaN</td>\n",
              "      <td>NaN</td>\n",
              "      <td>NaN</td>\n",
              "      <td>2023.0</td>\n",
              "    </tr>\n",
              "    <tr>\n",
              "      <th>2</th>\n",
              "      <td>2</td>\n",
              "      <td>wos:000909001200001</td>\n",
              "      <td>1</td>\n",
              "      <td>1</td>\n",
              "      <td>Russian Science Foundation(Russian Science Fou...</td>\n",
              "      <td>1.0</td>\n",
              "      <td>NaN</td>\n",
              "      <td>NaN</td>\n",
              "      <td>NaN</td>\n",
              "      <td>NaN</td>\n",
              "      <td>...</td>\n",
              "      <td>NaN</td>\n",
              "      <td>NaN</td>\n",
              "      <td>NaN</td>\n",
              "      <td>NaN</td>\n",
              "      <td>russian science foundation;  [22-13-00036]</td>\n",
              "      <td>gold, green accepted</td>\n",
              "      <td>NaN</td>\n",
              "      <td>3.0</td>\n",
              "      <td>3.0</td>\n",
              "      <td>2023.0</td>\n",
              "    </tr>\n",
              "  </tbody>\n",
              "</table>\n",
              "<p>2 rows × 521 columns</p>\n",
              "</div>"
            ],
            "text/plain": [
              "   Unnamed: 0               wos_ID  funding_yes  open_access_yes  \\\n",
              "1           1  wos:000921279800001            1                1   \n",
              "2           2  wos:000909001200001            1                1   \n",
              "\n",
              "                              Funding Name Preferred  europe and central asia  \\\n",
              "1  National Institutes of Health (NIH)(United Sta...                      NaN   \n",
              "2  Russian Science Foundation(Russian Science Fou...                      1.0   \n",
              "\n",
              "   north america  africa  sub-saharan africa  east asia and pacific  ...  \\\n",
              "1            2.0     NaN                 NaN                    NaN  ...   \n",
              "2            NaN     NaN                 NaN                    NaN  ...   \n",
              "\n",
              "   fulbright foundation - usa  world bank - multilateral  \\\n",
              "1                         NaN                        NaN   \n",
              "2                         NaN                        NaN   \n",
              "\n",
              "   china association for science and technology - china  \\\n",
              "1                                                NaN      \n",
              "2                                                NaN      \n",
              "\n",
              "   zhejiang university - china  \\\n",
              "1                          NaN   \n",
              "2                          NaN   \n",
              "\n",
              "                                        Funding Orgs  \\\n",
              "1  national institutes of health (nih) [u19ai1427...   \n",
              "2         russian science foundation;  [22-13-00036]   \n",
              "\n",
              "   Open Access Designations  Times Cited, All Databases  180 Day Usage Count  \\\n",
              "1                    hybrid                         NaN                  NaN   \n",
              "2      gold, green accepted                         NaN                  3.0   \n",
              "\n",
              "   Since 2013 Usage Count  Publication Year  \n",
              "1                     NaN            2023.0  \n",
              "2                     3.0            2023.0  \n",
              "\n",
              "[2 rows x 521 columns]"
            ]
          },
          "execution_count": 3,
          "metadata": {},
          "output_type": "execute_result"
        }
      ],
      "source": [
        "data = pd.read_csv('D:\\MARBURG VIRUS DISEASES\\TABLES/data_fund_region_country_and_org_clean_dummies_col_replace_grp.csv')#.drop(['Addresses'], axis=1)\n",
        "data = data.loc[data['funding_yes'] == 1]\n",
        "data.head(2)"
      ]
    },
    {
      "cell_type": "code",
      "execution_count": null,
      "id": "a4c50669-8420-4f39-b602-0ed9cb9c56db",
      "metadata": {
        "id": "a4c50669-8420-4f39-b602-0ed9cb9c56db",
        "outputId": "7816b131-44d8-4af7-dce7-877f4b358201"
      },
      "outputs": [
        {
          "data": {
            "text/plain": [
              "Unnamed: 0                 577\n",
              "wos_ID                     577\n",
              "funding_yes                577\n",
              "open_access_yes            577\n",
              "Funding Name Preferred     575\n",
              "europe and central asia    125\n",
              "north america              431\n",
              "africa                       2\n",
              "sub-saharan africa          20\n",
              "east asia and pacific       78\n",
              "dtype: int64"
            ]
          },
          "execution_count": 4,
          "metadata": {},
          "output_type": "execute_result"
        }
      ],
      "source": [
        "data.count().head(10)"
      ]
    },
    {
      "cell_type": "code",
      "execution_count": null,
      "id": "709bae1e-241d-48ad-9ae4-e2d4192dc710",
      "metadata": {
        "id": "709bae1e-241d-48ad-9ae4-e2d4192dc710"
      },
      "outputs": [],
      "source": []
    },
    {
      "cell_type": "code",
      "execution_count": null,
      "id": "247651d8-12b5-4a26-a8e5-3530859ead76",
      "metadata": {
        "id": "247651d8-12b5-4a26-a8e5-3530859ead76"
      },
      "outputs": [],
      "source": []
    },
    {
      "cell_type": "markdown",
      "id": "4d379b8d-cc23-454b-b34b-4ae708eab2cb",
      "metadata": {
        "tags": [],
        "id": "4d379b8d-cc23-454b-b34b-4ae708eab2cb"
      },
      "source": [
        "# The gender disparities of Marburg Virus Diseases publications"
      ]
    },
    {
      "cell_type": "markdown",
      "id": "f7ff89c9-4e12-4b92-961a-3ccdf613c149",
      "metadata": {
        "tags": [],
        "id": "f7ff89c9-4e12-4b92-961a-3ccdf613c149"
      },
      "source": [
        "## all female proportion per studies"
      ]
    },
    {
      "cell_type": "markdown",
      "id": "5ff56283-cb83-4b5e-b908-4e23b8e112bc",
      "metadata": {
        "id": "5ff56283-cb83-4b5e-b908-4e23b8e112bc"
      },
      "source": [
        "### import data"
      ]
    },
    {
      "cell_type": "code",
      "execution_count": null,
      "id": "b3174fd6-405c-4343-8f4c-bb7af3c7c8eb",
      "metadata": {
        "id": "b3174fd6-405c-4343-8f4c-bb7af3c7c8eb",
        "outputId": "c3395ac0-c3a4-4153-f702-20cab38fa155"
      },
      "outputs": [
        {
          "data": {
            "text/html": [
              "<div>\n",
              "<style scoped>\n",
              "    .dataframe tbody tr th:only-of-type {\n",
              "        vertical-align: middle;\n",
              "    }\n",
              "\n",
              "    .dataframe tbody tr th {\n",
              "        vertical-align: top;\n",
              "    }\n",
              "\n",
              "    .dataframe thead th {\n",
              "        text-align: right;\n",
              "    }\n",
              "</style>\n",
              "<table border=\"1\" class=\"dataframe\">\n",
              "  <thead>\n",
              "    <tr style=\"text-align: right;\">\n",
              "      <th></th>\n",
              "      <th>wos_ID</th>\n",
              "      <th>Publication Year</th>\n",
              "      <th>Funding Orgs</th>\n",
              "      <th>funding_yes</th>\n",
              "      <th>female</th>\n",
              "      <th>male</th>\n",
              "      <th>unclassified</th>\n",
              "      <th>unknown</th>\n",
              "      <th>number_of_author</th>\n",
              "      <th>%_female</th>\n",
              "      <th>%_male</th>\n",
              "      <th>%_unclass_name</th>\n",
              "      <th>female_to_male_ratio</th>\n",
              "    </tr>\n",
              "  </thead>\n",
              "  <tbody>\n",
              "    <tr>\n",
              "      <th>1</th>\n",
              "      <td>wos:000921279800001</td>\n",
              "      <td>2023.0</td>\n",
              "      <td>National Institutes of Health (NIH) [U19AI1427...</td>\n",
              "      <td>1</td>\n",
              "      <td>2.0</td>\n",
              "      <td>9.0</td>\n",
              "      <td>0.0</td>\n",
              "      <td>0.0</td>\n",
              "      <td>11.0</td>\n",
              "      <td>18.181818</td>\n",
              "      <td>81.818182</td>\n",
              "      <td>0.0</td>\n",
              "      <td>0.222222</td>\n",
              "    </tr>\n",
              "    <tr>\n",
              "      <th>2</th>\n",
              "      <td>wos:000909001200001</td>\n",
              "      <td>2023.0</td>\n",
              "      <td>Russian Science Foundation;  [22-13-00036]</td>\n",
              "      <td>1</td>\n",
              "      <td>0.0</td>\n",
              "      <td>1.0</td>\n",
              "      <td>0.0</td>\n",
              "      <td>0.0</td>\n",
              "      <td>1.0</td>\n",
              "      <td>0.000000</td>\n",
              "      <td>100.000000</td>\n",
              "      <td>0.0</td>\n",
              "      <td>0.000000</td>\n",
              "    </tr>\n",
              "  </tbody>\n",
              "</table>\n",
              "</div>"
            ],
            "text/plain": [
              "                wos_ID  Publication Year  \\\n",
              "1  wos:000921279800001            2023.0   \n",
              "2  wos:000909001200001            2023.0   \n",
              "\n",
              "                                        Funding Orgs  funding_yes  female  \\\n",
              "1  National Institutes of Health (NIH) [U19AI1427...            1     2.0   \n",
              "2         Russian Science Foundation;  [22-13-00036]            1     0.0   \n",
              "\n",
              "   male  unclassified  unknown  number_of_author   %_female      %_male  \\\n",
              "1   9.0           0.0      0.0              11.0  18.181818   81.818182   \n",
              "2   1.0           0.0      0.0               1.0   0.000000  100.000000   \n",
              "\n",
              "   %_unclass_name  female_to_male_ratio  \n",
              "1             0.0              0.222222  \n",
              "2             0.0              0.000000  "
            ]
          },
          "execution_count": 5,
          "metadata": {},
          "output_type": "execute_result"
        }
      ],
      "source": [
        "data_female_prop = pd.read_csv(f'../TABLES_old/author_gender_list_count_dummies.csv')\n",
        "data_female_prop = data_female_prop.rename(columns={'UT (Unique WOS ID)':'wos_ID'})\n",
        "data_female_prop = data_female_prop.loc[data_female_prop['funding_yes'] == 1]\n",
        "data_female_prop['wos_ID'] = data_female_prop['wos_ID'].str.lower()\n",
        "data_female_prop.head(2)"
      ]
    },
    {
      "cell_type": "code",
      "execution_count": null,
      "id": "ba47dc21-44fa-49c0-b69c-e6cbb27171e6",
      "metadata": {
        "id": "ba47dc21-44fa-49c0-b69c-e6cbb27171e6",
        "outputId": "8b63c57f-7631-4886-9a96-c39efeae72c8"
      },
      "outputs": [
        {
          "data": {
            "text/html": [
              "<div>\n",
              "<style scoped>\n",
              "    .dataframe tbody tr th:only-of-type {\n",
              "        vertical-align: middle;\n",
              "    }\n",
              "\n",
              "    .dataframe tbody tr th {\n",
              "        vertical-align: top;\n",
              "    }\n",
              "\n",
              "    .dataframe thead th {\n",
              "        text-align: right;\n",
              "    }\n",
              "</style>\n",
              "<table border=\"1\" class=\"dataframe\">\n",
              "  <thead>\n",
              "    <tr style=\"text-align: right;\">\n",
              "      <th></th>\n",
              "      <th>wos_ID</th>\n",
              "      <th>%_female</th>\n",
              "      <th>Unnamed: 0</th>\n",
              "      <th>funding_yes</th>\n",
              "      <th>open_access_yes</th>\n",
              "      <th>Funding Name Preferred</th>\n",
              "      <th>europe and central asia</th>\n",
              "      <th>north america</th>\n",
              "      <th>africa</th>\n",
              "      <th>sub-saharan africa</th>\n",
              "      <th>...</th>\n",
              "      <th>fulbright foundation - usa</th>\n",
              "      <th>world bank - multilateral</th>\n",
              "      <th>china association for science and technology - china</th>\n",
              "      <th>zhejiang university - china</th>\n",
              "      <th>Funding Orgs</th>\n",
              "      <th>Open Access Designations</th>\n",
              "      <th>Times Cited, All Databases</th>\n",
              "      <th>180 Day Usage Count</th>\n",
              "      <th>Since 2013 Usage Count</th>\n",
              "      <th>Publication Year</th>\n",
              "    </tr>\n",
              "  </thead>\n",
              "  <tbody>\n",
              "    <tr>\n",
              "      <th>0</th>\n",
              "      <td>wos:000921279800001</td>\n",
              "      <td>18.181818</td>\n",
              "      <td>1</td>\n",
              "      <td>1</td>\n",
              "      <td>1</td>\n",
              "      <td>National Institutes of Health (NIH)(United Sta...</td>\n",
              "      <td>NaN</td>\n",
              "      <td>2.0</td>\n",
              "      <td>NaN</td>\n",
              "      <td>NaN</td>\n",
              "      <td>...</td>\n",
              "      <td>NaN</td>\n",
              "      <td>NaN</td>\n",
              "      <td>NaN</td>\n",
              "      <td>NaN</td>\n",
              "      <td>national institutes of health (nih) [u19ai1427...</td>\n",
              "      <td>hybrid</td>\n",
              "      <td>NaN</td>\n",
              "      <td>NaN</td>\n",
              "      <td>NaN</td>\n",
              "      <td>2023.0</td>\n",
              "    </tr>\n",
              "    <tr>\n",
              "      <th>1</th>\n",
              "      <td>wos:000909001200001</td>\n",
              "      <td>0.000000</td>\n",
              "      <td>2</td>\n",
              "      <td>1</td>\n",
              "      <td>1</td>\n",
              "      <td>Russian Science Foundation(Russian Science Fou...</td>\n",
              "      <td>1.0</td>\n",
              "      <td>NaN</td>\n",
              "      <td>NaN</td>\n",
              "      <td>NaN</td>\n",
              "      <td>...</td>\n",
              "      <td>NaN</td>\n",
              "      <td>NaN</td>\n",
              "      <td>NaN</td>\n",
              "      <td>NaN</td>\n",
              "      <td>russian science foundation;  [22-13-00036]</td>\n",
              "      <td>gold, green accepted</td>\n",
              "      <td>NaN</td>\n",
              "      <td>3.0</td>\n",
              "      <td>3.0</td>\n",
              "      <td>2023.0</td>\n",
              "    </tr>\n",
              "    <tr>\n",
              "      <th>2</th>\n",
              "      <td>wos:000777045900001</td>\n",
              "      <td>7.142857</td>\n",
              "      <td>3</td>\n",
              "      <td>1</td>\n",
              "      <td>1</td>\n",
              "      <td>National Research Foundation of Korea (NRF) - ...</td>\n",
              "      <td>NaN</td>\n",
              "      <td>NaN</td>\n",
              "      <td>NaN</td>\n",
              "      <td>NaN</td>\n",
              "      <td>...</td>\n",
              "      <td>NaN</td>\n",
              "      <td>NaN</td>\n",
              "      <td>NaN</td>\n",
              "      <td>NaN</td>\n",
              "      <td>national research foundation of korea (nrf) - ...</td>\n",
              "      <td>green accepted, gold</td>\n",
              "      <td>10.0</td>\n",
              "      <td>12.0</td>\n",
              "      <td>28.0</td>\n",
              "      <td>2022.0</td>\n",
              "    </tr>\n",
              "    <tr>\n",
              "      <th>3</th>\n",
              "      <td>wos:000922983600001</td>\n",
              "      <td>0.000000</td>\n",
              "      <td>5</td>\n",
              "      <td>1</td>\n",
              "      <td>0</td>\n",
              "      <td>Intravacc</td>\n",
              "      <td>1.0</td>\n",
              "      <td>NaN</td>\n",
              "      <td>NaN</td>\n",
              "      <td>NaN</td>\n",
              "      <td>...</td>\n",
              "      <td>NaN</td>\n",
              "      <td>NaN</td>\n",
              "      <td>NaN</td>\n",
              "      <td>NaN</td>\n",
              "      <td>intravacc</td>\n",
              "      <td>NaN</td>\n",
              "      <td>NaN</td>\n",
              "      <td>NaN</td>\n",
              "      <td>NaN</td>\n",
              "      <td>NaN</td>\n",
              "    </tr>\n",
              "    <tr>\n",
              "      <th>4</th>\n",
              "      <td>wos:000905136600002</td>\n",
              "      <td>57.894737</td>\n",
              "      <td>6</td>\n",
              "      <td>1</td>\n",
              "      <td>0</td>\n",
              "      <td>Intramural Research Program of the Vaccine Res...</td>\n",
              "      <td>NaN</td>\n",
              "      <td>3.0</td>\n",
              "      <td>NaN</td>\n",
              "      <td>NaN</td>\n",
              "      <td>...</td>\n",
              "      <td>NaN</td>\n",
              "      <td>NaN</td>\n",
              "      <td>NaN</td>\n",
              "      <td>NaN</td>\n",
              "      <td>intramural research program of the vaccine res...</td>\n",
              "      <td>NaN</td>\n",
              "      <td>1.0</td>\n",
              "      <td>1.0</td>\n",
              "      <td>1.0</td>\n",
              "      <td>2022.0</td>\n",
              "    </tr>\n",
              "    <tr>\n",
              "      <th>...</th>\n",
              "      <td>...</td>\n",
              "      <td>...</td>\n",
              "      <td>...</td>\n",
              "      <td>...</td>\n",
              "      <td>...</td>\n",
              "      <td>...</td>\n",
              "      <td>...</td>\n",
              "      <td>...</td>\n",
              "      <td>...</td>\n",
              "      <td>...</td>\n",
              "      <td>...</td>\n",
              "      <td>...</td>\n",
              "      <td>...</td>\n",
              "      <td>...</td>\n",
              "      <td>...</td>\n",
              "      <td>...</td>\n",
              "      <td>...</td>\n",
              "      <td>...</td>\n",
              "      <td>...</td>\n",
              "      <td>...</td>\n",
              "      <td>...</td>\n",
              "    </tr>\n",
              "    <tr>\n",
              "      <th>572</th>\n",
              "      <td>wos:000231482100016</td>\n",
              "      <td>0.000000</td>\n",
              "      <td>747</td>\n",
              "      <td>1</td>\n",
              "      <td>1</td>\n",
              "      <td>NIAID NIH HHS(United States Department of Heal...</td>\n",
              "      <td>NaN</td>\n",
              "      <td>2.0</td>\n",
              "      <td>NaN</td>\n",
              "      <td>NaN</td>\n",
              "      <td>...</td>\n",
              "      <td>NaN</td>\n",
              "      <td>NaN</td>\n",
              "      <td>NaN</td>\n",
              "      <td>NaN</td>\n",
              "      <td>niaid nih hhs [r01ai46963] funding source: med...</td>\n",
              "      <td>bronze</td>\n",
              "      <td>90.0</td>\n",
              "      <td>1.0</td>\n",
              "      <td>11.0</td>\n",
              "      <td>2005.0</td>\n",
              "    </tr>\n",
              "    <tr>\n",
              "      <th>573</th>\n",
              "      <td>wos:000227629300024</td>\n",
              "      <td>0.000000</td>\n",
              "      <td>754</td>\n",
              "      <td>1</td>\n",
              "      <td>1</td>\n",
              "      <td>NCRR NIH HHS(United States Department of Healt...</td>\n",
              "      <td>NaN</td>\n",
              "      <td>3.0</td>\n",
              "      <td>NaN</td>\n",
              "      <td>NaN</td>\n",
              "      <td>...</td>\n",
              "      <td>NaN</td>\n",
              "      <td>NaN</td>\n",
              "      <td>NaN</td>\n",
              "      <td>NaN</td>\n",
              "      <td>ncrr nih hhs [p20-rr15635] funding source: med...</td>\n",
              "      <td>green published</td>\n",
              "      <td>12.0</td>\n",
              "      <td>NaN</td>\n",
              "      <td>4.0</td>\n",
              "      <td>2005.0</td>\n",
              "    </tr>\n",
              "    <tr>\n",
              "      <th>574</th>\n",
              "      <td>wos:000224540900066</td>\n",
              "      <td>6.666667</td>\n",
              "      <td>763</td>\n",
              "      <td>1</td>\n",
              "      <td>1</td>\n",
              "      <td>NIAID NIH HHS(United States Department of Heal...</td>\n",
              "      <td>NaN</td>\n",
              "      <td>1.0</td>\n",
              "      <td>NaN</td>\n",
              "      <td>NaN</td>\n",
              "      <td>...</td>\n",
              "      <td>NaN</td>\n",
              "      <td>NaN</td>\n",
              "      <td>NaN</td>\n",
              "      <td>NaN</td>\n",
              "      <td>niaid nih hhs [r21 ai059172] funding source: m...</td>\n",
              "      <td>green published, green accepted</td>\n",
              "      <td>293.0</td>\n",
              "      <td>NaN</td>\n",
              "      <td>20.0</td>\n",
              "      <td>2004.0</td>\n",
              "    </tr>\n",
              "    <tr>\n",
              "      <th>575</th>\n",
              "      <td>wos:000182631100037</td>\n",
              "      <td>0.000000</td>\n",
              "      <td>785</td>\n",
              "      <td>1</td>\n",
              "      <td>1</td>\n",
              "      <td>NHLBI NIH HHS(United States Department of Heal...</td>\n",
              "      <td>NaN</td>\n",
              "      <td>4.0</td>\n",
              "      <td>NaN</td>\n",
              "      <td>NaN</td>\n",
              "      <td>...</td>\n",
              "      <td>NaN</td>\n",
              "      <td>NaN</td>\n",
              "      <td>NaN</td>\n",
              "      <td>NaN</td>\n",
              "      <td>nhlbi nih hhs [f32 hl067623, p01 hl051670, r01...</td>\n",
              "      <td>green published</td>\n",
              "      <td>104.0</td>\n",
              "      <td>NaN</td>\n",
              "      <td>3.0</td>\n",
              "      <td>2003.0</td>\n",
              "    </tr>\n",
              "    <tr>\n",
              "      <th>576</th>\n",
              "      <td>wos:000175256500056</td>\n",
              "      <td>0.000000</td>\n",
              "      <td>792</td>\n",
              "      <td>1</td>\n",
              "      <td>1</td>\n",
              "      <td>NIAID NIH HHS(United States Department of Heal...</td>\n",
              "      <td>NaN</td>\n",
              "      <td>1.0</td>\n",
              "      <td>NaN</td>\n",
              "      <td>NaN</td>\n",
              "      <td>...</td>\n",
              "      <td>NaN</td>\n",
              "      <td>NaN</td>\n",
              "      <td>NaN</td>\n",
              "      <td>NaN</td>\n",
              "      <td>niaid nih hhs [ai07334-13, t32 ai007334] fundi...</td>\n",
              "      <td>green published</td>\n",
              "      <td>124.0</td>\n",
              "      <td>NaN</td>\n",
              "      <td>4.0</td>\n",
              "      <td>2002.0</td>\n",
              "    </tr>\n",
              "  </tbody>\n",
              "</table>\n",
              "<p>577 rows × 522 columns</p>\n",
              "</div>"
            ],
            "text/plain": [
              "                  wos_ID   %_female  Unnamed: 0  funding_yes  open_access_yes  \\\n",
              "0    wos:000921279800001  18.181818           1            1                1   \n",
              "1    wos:000909001200001   0.000000           2            1                1   \n",
              "2    wos:000777045900001   7.142857           3            1                1   \n",
              "3    wos:000922983600001   0.000000           5            1                0   \n",
              "4    wos:000905136600002  57.894737           6            1                0   \n",
              "..                   ...        ...         ...          ...              ...   \n",
              "572  wos:000231482100016   0.000000         747            1                1   \n",
              "573  wos:000227629300024   0.000000         754            1                1   \n",
              "574  wos:000224540900066   6.666667         763            1                1   \n",
              "575  wos:000182631100037   0.000000         785            1                1   \n",
              "576  wos:000175256500056   0.000000         792            1                1   \n",
              "\n",
              "                                Funding Name Preferred  \\\n",
              "0    National Institutes of Health (NIH)(United Sta...   \n",
              "1    Russian Science Foundation(Russian Science Fou...   \n",
              "2    National Research Foundation of Korea (NRF) - ...   \n",
              "3                                            Intravacc   \n",
              "4    Intramural Research Program of the Vaccine Res...   \n",
              "..                                                 ...   \n",
              "572  NIAID NIH HHS(United States Department of Heal...   \n",
              "573  NCRR NIH HHS(United States Department of Healt...   \n",
              "574  NIAID NIH HHS(United States Department of Heal...   \n",
              "575  NHLBI NIH HHS(United States Department of Heal...   \n",
              "576  NIAID NIH HHS(United States Department of Heal...   \n",
              "\n",
              "     europe and central asia  north america  africa  sub-saharan africa  ...  \\\n",
              "0                        NaN            2.0     NaN                 NaN  ...   \n",
              "1                        1.0            NaN     NaN                 NaN  ...   \n",
              "2                        NaN            NaN     NaN                 NaN  ...   \n",
              "3                        1.0            NaN     NaN                 NaN  ...   \n",
              "4                        NaN            3.0     NaN                 NaN  ...   \n",
              "..                       ...            ...     ...                 ...  ...   \n",
              "572                      NaN            2.0     NaN                 NaN  ...   \n",
              "573                      NaN            3.0     NaN                 NaN  ...   \n",
              "574                      NaN            1.0     NaN                 NaN  ...   \n",
              "575                      NaN            4.0     NaN                 NaN  ...   \n",
              "576                      NaN            1.0     NaN                 NaN  ...   \n",
              "\n",
              "     fulbright foundation - usa  world bank - multilateral  \\\n",
              "0                           NaN                        NaN   \n",
              "1                           NaN                        NaN   \n",
              "2                           NaN                        NaN   \n",
              "3                           NaN                        NaN   \n",
              "4                           NaN                        NaN   \n",
              "..                          ...                        ...   \n",
              "572                         NaN                        NaN   \n",
              "573                         NaN                        NaN   \n",
              "574                         NaN                        NaN   \n",
              "575                         NaN                        NaN   \n",
              "576                         NaN                        NaN   \n",
              "\n",
              "     china association for science and technology - china  \\\n",
              "0                                                  NaN      \n",
              "1                                                  NaN      \n",
              "2                                                  NaN      \n",
              "3                                                  NaN      \n",
              "4                                                  NaN      \n",
              "..                                                 ...      \n",
              "572                                                NaN      \n",
              "573                                                NaN      \n",
              "574                                                NaN      \n",
              "575                                                NaN      \n",
              "576                                                NaN      \n",
              "\n",
              "     zhejiang university - china  \\\n",
              "0                            NaN   \n",
              "1                            NaN   \n",
              "2                            NaN   \n",
              "3                            NaN   \n",
              "4                            NaN   \n",
              "..                           ...   \n",
              "572                          NaN   \n",
              "573                          NaN   \n",
              "574                          NaN   \n",
              "575                          NaN   \n",
              "576                          NaN   \n",
              "\n",
              "                                          Funding Orgs  \\\n",
              "0    national institutes of health (nih) [u19ai1427...   \n",
              "1           russian science foundation;  [22-13-00036]   \n",
              "2    national research foundation of korea (nrf) - ...   \n",
              "3                                            intravacc   \n",
              "4    intramural research program of the vaccine res...   \n",
              "..                                                 ...   \n",
              "572  niaid nih hhs [r01ai46963] funding source: med...   \n",
              "573  ncrr nih hhs [p20-rr15635] funding source: med...   \n",
              "574  niaid nih hhs [r21 ai059172] funding source: m...   \n",
              "575  nhlbi nih hhs [f32 hl067623, p01 hl051670, r01...   \n",
              "576  niaid nih hhs [ai07334-13, t32 ai007334] fundi...   \n",
              "\n",
              "            Open Access Designations  Times Cited, All Databases  \\\n",
              "0                             hybrid                         NaN   \n",
              "1               gold, green accepted                         NaN   \n",
              "2               green accepted, gold                        10.0   \n",
              "3                                NaN                         NaN   \n",
              "4                                NaN                         1.0   \n",
              "..                               ...                         ...   \n",
              "572                           bronze                        90.0   \n",
              "573                  green published                        12.0   \n",
              "574  green published, green accepted                       293.0   \n",
              "575                  green published                       104.0   \n",
              "576                  green published                       124.0   \n",
              "\n",
              "     180 Day Usage Count  Since 2013 Usage Count  Publication Year  \n",
              "0                    NaN                     NaN            2023.0  \n",
              "1                    3.0                     3.0            2023.0  \n",
              "2                   12.0                    28.0            2022.0  \n",
              "3                    NaN                     NaN               NaN  \n",
              "4                    1.0                     1.0            2022.0  \n",
              "..                   ...                     ...               ...  \n",
              "572                  1.0                    11.0            2005.0  \n",
              "573                  NaN                     4.0            2005.0  \n",
              "574                  NaN                    20.0            2004.0  \n",
              "575                  NaN                     3.0            2003.0  \n",
              "576                  NaN                     4.0            2002.0  \n",
              "\n",
              "[577 rows x 522 columns]"
            ]
          },
          "execution_count": 6,
          "metadata": {},
          "output_type": "execute_result"
        }
      ],
      "source": [
        "data_concat = data_female_prop[['wos_ID','%_female']].merge(data, on = 'wos_ID', how='left')\n",
        "data_concat"
      ]
    },
    {
      "cell_type": "code",
      "execution_count": null,
      "id": "faab06cf-1942-4dde-9ed5-4aedda449bf5",
      "metadata": {
        "id": "faab06cf-1942-4dde-9ed5-4aedda449bf5"
      },
      "outputs": [],
      "source": [
        "# data_concat"
      ]
    },
    {
      "cell_type": "code",
      "execution_count": null,
      "id": "d6a99001-aab7-4b91-99bb-6d274e7db331",
      "metadata": {
        "id": "d6a99001-aab7-4b91-99bb-6d274e7db331"
      },
      "outputs": [],
      "source": []
    },
    {
      "cell_type": "markdown",
      "id": "db102919-b01b-4e80-a1ee-c509ad967827",
      "metadata": {
        "tags": [],
        "id": "db102919-b01b-4e80-a1ee-c509ad967827"
      },
      "source": [
        "### proportion all"
      ]
    },
    {
      "cell_type": "code",
      "execution_count": null,
      "id": "ff02577a-912d-4bbb-8b76-b082d1ee7c9d",
      "metadata": {
        "id": "ff02577a-912d-4bbb-8b76-b082d1ee7c9d",
        "outputId": "88fc621b-658d-452a-8bb4-ca7d762ba603"
      },
      "outputs": [
        {
          "data": {
            "text/html": [
              "<div>\n",
              "<style scoped>\n",
              "    .dataframe tbody tr th:only-of-type {\n",
              "        vertical-align: middle;\n",
              "    }\n",
              "\n",
              "    .dataframe tbody tr th {\n",
              "        vertical-align: top;\n",
              "    }\n",
              "\n",
              "    .dataframe thead th {\n",
              "        text-align: right;\n",
              "    }\n",
              "</style>\n",
              "<table border=\"1\" class=\"dataframe\">\n",
              "  <thead>\n",
              "    <tr style=\"text-align: right;\">\n",
              "      <th></th>\n",
              "      <th>%_female_sum</th>\n",
              "      <th>%_female_mean</th>\n",
              "      <th>%_female_count</th>\n",
              "    </tr>\n",
              "    <tr>\n",
              "      <th>countries</th>\n",
              "      <th></th>\n",
              "      <th></th>\n",
              "      <th></th>\n",
              "    </tr>\n",
              "  </thead>\n",
              "  <tbody>\n",
              "    <tr>\n",
              "      <th>wos_ID</th>\n",
              "      <td>19552.002467</td>\n",
              "      <td>33.885620</td>\n",
              "      <td>577.0</td>\n",
              "    </tr>\n",
              "    <tr>\n",
              "      <th>%_female</th>\n",
              "      <td>19552.002467</td>\n",
              "      <td>33.885620</td>\n",
              "      <td>577.0</td>\n",
              "    </tr>\n",
              "    <tr>\n",
              "      <th>Unnamed: 0</th>\n",
              "      <td>19552.002467</td>\n",
              "      <td>33.885620</td>\n",
              "      <td>577.0</td>\n",
              "    </tr>\n",
              "    <tr>\n",
              "      <th>funding_yes</th>\n",
              "      <td>19552.002467</td>\n",
              "      <td>33.885620</td>\n",
              "      <td>577.0</td>\n",
              "    </tr>\n",
              "    <tr>\n",
              "      <th>open_access_yes</th>\n",
              "      <td>19552.002467</td>\n",
              "      <td>33.885620</td>\n",
              "      <td>577.0</td>\n",
              "    </tr>\n",
              "    <tr>\n",
              "      <th>...</th>\n",
              "      <td>...</td>\n",
              "      <td>...</td>\n",
              "      <td>...</td>\n",
              "    </tr>\n",
              "    <tr>\n",
              "      <th>Open Access Designations</th>\n",
              "      <td>17379.309294</td>\n",
              "      <td>34.828275</td>\n",
              "      <td>499.0</td>\n",
              "    </tr>\n",
              "    <tr>\n",
              "      <th>Times Cited, All Databases</th>\n",
              "      <td>18718.586847</td>\n",
              "      <td>34.220451</td>\n",
              "      <td>547.0</td>\n",
              "    </tr>\n",
              "    <tr>\n",
              "      <th>180 Day Usage Count</th>\n",
              "      <td>8170.183570</td>\n",
              "      <td>34.619422</td>\n",
              "      <td>236.0</td>\n",
              "    </tr>\n",
              "    <tr>\n",
              "      <th>Since 2013 Usage Count</th>\n",
              "      <td>18985.385334</td>\n",
              "      <td>33.902474</td>\n",
              "      <td>560.0</td>\n",
              "    </tr>\n",
              "    <tr>\n",
              "      <th>Publication Year</th>\n",
              "      <td>19476.563870</td>\n",
              "      <td>33.990513</td>\n",
              "      <td>573.0</td>\n",
              "    </tr>\n",
              "  </tbody>\n",
              "</table>\n",
              "<p>522 rows × 3 columns</p>\n",
              "</div>"
            ],
            "text/plain": [
              "                            %_female_sum  %_female_mean  %_female_count\n",
              "countries                                                              \n",
              "wos_ID                      19552.002467      33.885620           577.0\n",
              "%_female                    19552.002467      33.885620           577.0\n",
              "Unnamed: 0                  19552.002467      33.885620           577.0\n",
              "funding_yes                 19552.002467      33.885620           577.0\n",
              "open_access_yes             19552.002467      33.885620           577.0\n",
              "...                                  ...            ...             ...\n",
              "Open Access Designations    17379.309294      34.828275           499.0\n",
              "Times Cited, All Databases  18718.586847      34.220451           547.0\n",
              "180 Day Usage Count          8170.183570      34.619422           236.0\n",
              "Since 2013 Usage Count      18985.385334      33.902474           560.0\n",
              "Publication Year            19476.563870      33.990513           573.0\n",
              "\n",
              "[522 rows x 3 columns]"
            ]
          },
          "execution_count": 8,
          "metadata": {},
          "output_type": "execute_result"
        }
      ],
      "source": [
        "dataT = data_concat.T\n",
        "\n",
        "dataT['countries'] = dataT.index\n",
        "\n",
        "female_std_list = []\n",
        "female_median_list = []\n",
        "female_mean_list = []\n",
        "female_sum_list = []\n",
        "for country in data_concat.columns:\n",
        "    female_sum_list.append(data_concat.dropna(subset=[country])['%_female'].sum())\n",
        "    female_mean_list.append(data_concat.dropna(subset=[country])['%_female'].mean())\n",
        "\n",
        "# rename countries names on columns\n",
        "countries = list(dataT.index)\n",
        "female_sum  = female_sum_list\n",
        "female_mean = female_mean_list\n",
        "\n",
        "dataT_sum = pd.DataFrame({'countries': countries, '%_female_sum': female_sum})\n",
        "dataT_mean = pd.DataFrame({'countries': countries, '%_female_mean': female_mean_list})\n",
        "\n",
        "# ********\n",
        "dataT_concat = dataT.reset_index().merge(dataT_sum, on = 'countries', how='left')\n",
        "dataT_concat = dataT_concat.merge(dataT_mean, on = 'countries', how='left')\n",
        "\n",
        "dataT_concat['%_female_count'] = dataT_concat['%_female_sum']/dataT_concat['%_female_mean']\n",
        "\n",
        "#####\n",
        "dataT_concat_all_female = dataT_concat[['countries','%_female_sum','%_female_mean','%_female_count']].set_index('countries')\n",
        "\n",
        "# save data\n",
        "dataT_concat_all_female.to_csv(f'../TABLES/region_countries_org_%_female_sum_mean_count.csv')\n",
        "dataT_concat_all_female"
      ]
    },
    {
      "cell_type": "code",
      "execution_count": null,
      "id": "b2c86905-f0e5-40d1-a533-683605e04615",
      "metadata": {
        "id": "b2c86905-f0e5-40d1-a533-683605e04615",
        "outputId": "872e5729-8f52-42e5-8b9c-150b94c41f6a"
      },
      "outputs": [
        {
          "data": {
            "text/plain": [
              "522"
            ]
          },
          "execution_count": 9,
          "metadata": {},
          "output_type": "execute_result"
        }
      ],
      "source": [
        "len(female_sum)"
      ]
    },
    {
      "cell_type": "code",
      "execution_count": null,
      "id": "0d2d728f-2114-4658-aca9-ebd6e7a783c1",
      "metadata": {
        "id": "0d2d728f-2114-4658-aca9-ebd6e7a783c1",
        "outputId": "c1ebb49e-8a7e-453a-9ef5-c369ffcaef5a"
      },
      "outputs": [
        {
          "data": {
            "text/plain": [
              "522"
            ]
          },
          "execution_count": 10,
          "metadata": {},
          "output_type": "execute_result"
        }
      ],
      "source": [
        "len(female_mean)"
      ]
    },
    {
      "cell_type": "code",
      "execution_count": null,
      "id": "19fbc46f-4d25-4583-b350-ee52d261556c",
      "metadata": {
        "id": "19fbc46f-4d25-4583-b350-ee52d261556c"
      },
      "outputs": [],
      "source": []
    },
    {
      "cell_type": "markdown",
      "id": "ad79bbae-7a52-4d6e-b106-7b6a4a2c6bea",
      "metadata": {
        "tags": [],
        "id": "ad79bbae-7a52-4d6e-b106-7b6a4a2c6bea"
      },
      "source": [
        "## first authors gender"
      ]
    },
    {
      "cell_type": "markdown",
      "id": "4385e19e-f5af-4e07-8265-c97656f3af91",
      "metadata": {
        "id": "4385e19e-f5af-4e07-8265-c97656f3af91"
      },
      "source": [
        "### import data"
      ]
    },
    {
      "cell_type": "code",
      "execution_count": null,
      "id": "d270a16e-e40f-4469-9386-0b2b47a3778c",
      "metadata": {
        "id": "d270a16e-e40f-4469-9386-0b2b47a3778c",
        "outputId": "75122eac-9b64-4072-a0ea-42cbcff3be95"
      },
      "outputs": [
        {
          "data": {
            "text/html": [
              "<div>\n",
              "<style scoped>\n",
              "    .dataframe tbody tr th:only-of-type {\n",
              "        vertical-align: middle;\n",
              "    }\n",
              "\n",
              "    .dataframe tbody tr th {\n",
              "        vertical-align: top;\n",
              "    }\n",
              "\n",
              "    .dataframe thead th {\n",
              "        text-align: right;\n",
              "    }\n",
              "</style>\n",
              "<table border=\"1\" class=\"dataframe\">\n",
              "  <thead>\n",
              "    <tr style=\"text-align: right;\">\n",
              "      <th></th>\n",
              "      <th>index</th>\n",
              "      <th>wos_ID</th>\n",
              "      <th>Publication Year</th>\n",
              "      <th>Funding Orgs</th>\n",
              "      <th>funding_yes</th>\n",
              "      <th>ga_gender</th>\n",
              "    </tr>\n",
              "  </thead>\n",
              "  <tbody>\n",
              "    <tr>\n",
              "      <th>1</th>\n",
              "      <td>1</td>\n",
              "      <td>wos:000921279800001</td>\n",
              "      <td>2023.0</td>\n",
              "      <td>National Institutes of Health (NIH) [U19AI1427...</td>\n",
              "      <td>1</td>\n",
              "      <td>male</td>\n",
              "    </tr>\n",
              "    <tr>\n",
              "      <th>2</th>\n",
              "      <td>2</td>\n",
              "      <td>wos:000909001200001</td>\n",
              "      <td>2023.0</td>\n",
              "      <td>Russian Science Foundation;  [22-13-00036]</td>\n",
              "      <td>1</td>\n",
              "      <td>male</td>\n",
              "    </tr>\n",
              "  </tbody>\n",
              "</table>\n",
              "</div>"
            ],
            "text/plain": [
              "   index               wos_ID  Publication Year  \\\n",
              "1      1  wos:000921279800001            2023.0   \n",
              "2      2  wos:000909001200001            2023.0   \n",
              "\n",
              "                                        Funding Orgs  funding_yes ga_gender  \n",
              "1  National Institutes of Health (NIH) [U19AI1427...            1      male  \n",
              "2         Russian Science Foundation;  [22-13-00036]            1      male  "
            ]
          },
          "execution_count": 11,
          "metadata": {},
          "output_type": "execute_result"
        }
      ],
      "source": [
        "first_author_gender = pd.read_csv(f'../DATA_PREPROCESSING/first_author_gender.csv')\n",
        "first_author_gender = first_author_gender.reset_index().rename(columns={'UT (Unique WOS ID)':'wos_ID'})\n",
        "first_author_gender = first_author_gender.loc[first_author_gender['funding_yes'] == 1]\n",
        "first_author_gender['wos_ID'] = first_author_gender['wos_ID'].str.lower()\n",
        "first_author_gender.head(2)"
      ]
    },
    {
      "cell_type": "code",
      "execution_count": null,
      "id": "db67b127-b373-44fb-a1db-33946b05a707",
      "metadata": {
        "id": "db67b127-b373-44fb-a1db-33946b05a707",
        "outputId": "d08dca24-27f8-4049-8116-50615231e38b"
      },
      "outputs": [
        {
          "data": {
            "text/html": [
              "<div>\n",
              "<style scoped>\n",
              "    .dataframe tbody tr th:only-of-type {\n",
              "        vertical-align: middle;\n",
              "    }\n",
              "\n",
              "    .dataframe tbody tr th {\n",
              "        vertical-align: top;\n",
              "    }\n",
              "\n",
              "    .dataframe thead th {\n",
              "        text-align: right;\n",
              "    }\n",
              "</style>\n",
              "<table border=\"1\" class=\"dataframe\">\n",
              "  <thead>\n",
              "    <tr style=\"text-align: right;\">\n",
              "      <th></th>\n",
              "      <th>wos_ID</th>\n",
              "      <th>ga_gender</th>\n",
              "      <th>Unnamed: 0</th>\n",
              "      <th>funding_yes</th>\n",
              "      <th>open_access_yes</th>\n",
              "      <th>Funding Name Preferred</th>\n",
              "      <th>europe and central asia</th>\n",
              "      <th>north america</th>\n",
              "      <th>africa</th>\n",
              "      <th>sub-saharan africa</th>\n",
              "      <th>...</th>\n",
              "      <th>fulbright foundation - usa</th>\n",
              "      <th>world bank - multilateral</th>\n",
              "      <th>china association for science and technology - china</th>\n",
              "      <th>zhejiang university - china</th>\n",
              "      <th>Funding Orgs</th>\n",
              "      <th>Open Access Designations</th>\n",
              "      <th>Times Cited, All Databases</th>\n",
              "      <th>180 Day Usage Count</th>\n",
              "      <th>Since 2013 Usage Count</th>\n",
              "      <th>Publication Year</th>\n",
              "    </tr>\n",
              "  </thead>\n",
              "  <tbody>\n",
              "    <tr>\n",
              "      <th>0</th>\n",
              "      <td>wos:000921279800001</td>\n",
              "      <td>male</td>\n",
              "      <td>1</td>\n",
              "      <td>1</td>\n",
              "      <td>1</td>\n",
              "      <td>National Institutes of Health (NIH)(United Sta...</td>\n",
              "      <td>NaN</td>\n",
              "      <td>2.0</td>\n",
              "      <td>NaN</td>\n",
              "      <td>NaN</td>\n",
              "      <td>...</td>\n",
              "      <td>NaN</td>\n",
              "      <td>NaN</td>\n",
              "      <td>NaN</td>\n",
              "      <td>NaN</td>\n",
              "      <td>national institutes of health (nih) [u19ai1427...</td>\n",
              "      <td>hybrid</td>\n",
              "      <td>NaN</td>\n",
              "      <td>NaN</td>\n",
              "      <td>NaN</td>\n",
              "      <td>2023.0</td>\n",
              "    </tr>\n",
              "    <tr>\n",
              "      <th>1</th>\n",
              "      <td>wos:000909001200001</td>\n",
              "      <td>male</td>\n",
              "      <td>2</td>\n",
              "      <td>1</td>\n",
              "      <td>1</td>\n",
              "      <td>Russian Science Foundation(Russian Science Fou...</td>\n",
              "      <td>1.0</td>\n",
              "      <td>NaN</td>\n",
              "      <td>NaN</td>\n",
              "      <td>NaN</td>\n",
              "      <td>...</td>\n",
              "      <td>NaN</td>\n",
              "      <td>NaN</td>\n",
              "      <td>NaN</td>\n",
              "      <td>NaN</td>\n",
              "      <td>russian science foundation;  [22-13-00036]</td>\n",
              "      <td>gold, green accepted</td>\n",
              "      <td>NaN</td>\n",
              "      <td>3.0</td>\n",
              "      <td>3.0</td>\n",
              "      <td>2023.0</td>\n",
              "    </tr>\n",
              "  </tbody>\n",
              "</table>\n",
              "<p>2 rows × 522 columns</p>\n",
              "</div>"
            ],
            "text/plain": [
              "                wos_ID ga_gender  Unnamed: 0  funding_yes  open_access_yes  \\\n",
              "0  wos:000921279800001      male           1            1                1   \n",
              "1  wos:000909001200001      male           2            1                1   \n",
              "\n",
              "                              Funding Name Preferred  europe and central asia  \\\n",
              "0  National Institutes of Health (NIH)(United Sta...                      NaN   \n",
              "1  Russian Science Foundation(Russian Science Fou...                      1.0   \n",
              "\n",
              "   north america  africa  sub-saharan africa  ...  fulbright foundation - usa  \\\n",
              "0            2.0     NaN                 NaN  ...                         NaN   \n",
              "1            NaN     NaN                 NaN  ...                         NaN   \n",
              "\n",
              "   world bank - multilateral  \\\n",
              "0                        NaN   \n",
              "1                        NaN   \n",
              "\n",
              "   china association for science and technology - china  \\\n",
              "0                                                NaN      \n",
              "1                                                NaN      \n",
              "\n",
              "   zhejiang university - china  \\\n",
              "0                          NaN   \n",
              "1                          NaN   \n",
              "\n",
              "                                        Funding Orgs  \\\n",
              "0  national institutes of health (nih) [u19ai1427...   \n",
              "1         russian science foundation;  [22-13-00036]   \n",
              "\n",
              "   Open Access Designations  Times Cited, All Databases  180 Day Usage Count  \\\n",
              "0                    hybrid                         NaN                  NaN   \n",
              "1      gold, green accepted                         NaN                  3.0   \n",
              "\n",
              "   Since 2013 Usage Count  Publication Year  \n",
              "0                     NaN            2023.0  \n",
              "1                     3.0            2023.0  \n",
              "\n",
              "[2 rows x 522 columns]"
            ]
          },
          "execution_count": 12,
          "metadata": {},
          "output_type": "execute_result"
        }
      ],
      "source": [
        "data_concat_first = first_author_gender[['wos_ID','ga_gender']].merge(data, on = 'wos_ID', how='left')\n",
        "data_concat_first.head(2)"
      ]
    },
    {
      "cell_type": "code",
      "execution_count": null,
      "id": "c2891afc-4746-4013-bd83-bd8142a916a4",
      "metadata": {
        "id": "c2891afc-4746-4013-bd83-bd8142a916a4",
        "outputId": "5a983959-c97e-4b09-fae2-a3cc04842cde"
      },
      "outputs": [
        {
          "data": {
            "text/plain": [
              "male            311\n",
              "female          246\n",
              "unclassified     18\n",
              "unknown           2\n",
              "Name: ga_gender, dtype: int64"
            ]
          },
          "execution_count": 13,
          "metadata": {},
          "output_type": "execute_result"
        }
      ],
      "source": [
        "data_concat_first['ga_gender'].value_counts()"
      ]
    },
    {
      "cell_type": "code",
      "execution_count": null,
      "id": "8634ef6e-7a22-402f-a6bd-d34661810293",
      "metadata": {
        "id": "8634ef6e-7a22-402f-a6bd-d34661810293",
        "outputId": "61253df4-0dd7-410d-e446-527d1d8f39cb"
      },
      "outputs": [
        {
          "data": {
            "text/html": [
              "<div>\n",
              "<style scoped>\n",
              "    .dataframe tbody tr th:only-of-type {\n",
              "        vertical-align: middle;\n",
              "    }\n",
              "\n",
              "    .dataframe tbody tr th {\n",
              "        vertical-align: top;\n",
              "    }\n",
              "\n",
              "    .dataframe thead th {\n",
              "        text-align: right;\n",
              "    }\n",
              "</style>\n",
              "<table border=\"1\" class=\"dataframe\">\n",
              "  <thead>\n",
              "    <tr style=\"text-align: right;\">\n",
              "      <th>ga_gender</th>\n",
              "      <th>female</th>\n",
              "      <th>male</th>\n",
              "      <th>unclassified</th>\n",
              "      <th>unknown</th>\n",
              "      <th>all_total</th>\n",
              "      <th>%female</th>\n",
              "      <th>%male</th>\n",
              "      <th>%unclassified</th>\n",
              "      <th>%unknown</th>\n",
              "      <th>%all_total</th>\n",
              "      <th>%_diff(%male-%female)</th>\n",
              "    </tr>\n",
              "  </thead>\n",
              "  <tbody>\n",
              "    <tr>\n",
              "      <th>index</th>\n",
              "      <td>246</td>\n",
              "      <td>311</td>\n",
              "      <td>18</td>\n",
              "      <td>2</td>\n",
              "      <td>577</td>\n",
              "      <td>42.634315</td>\n",
              "      <td>53.899480</td>\n",
              "      <td>3.119584</td>\n",
              "      <td>0.346620</td>\n",
              "      <td>100.0</td>\n",
              "      <td>11.265165</td>\n",
              "    </tr>\n",
              "    <tr>\n",
              "      <th>wos_ID</th>\n",
              "      <td>246</td>\n",
              "      <td>311</td>\n",
              "      <td>18</td>\n",
              "      <td>2</td>\n",
              "      <td>577</td>\n",
              "      <td>42.634315</td>\n",
              "      <td>53.899480</td>\n",
              "      <td>3.119584</td>\n",
              "      <td>0.346620</td>\n",
              "      <td>100.0</td>\n",
              "      <td>11.265165</td>\n",
              "    </tr>\n",
              "    <tr>\n",
              "      <th>Unnamed: 0</th>\n",
              "      <td>246</td>\n",
              "      <td>311</td>\n",
              "      <td>18</td>\n",
              "      <td>2</td>\n",
              "      <td>577</td>\n",
              "      <td>42.634315</td>\n",
              "      <td>53.899480</td>\n",
              "      <td>3.119584</td>\n",
              "      <td>0.346620</td>\n",
              "      <td>100.0</td>\n",
              "      <td>11.265165</td>\n",
              "    </tr>\n",
              "    <tr>\n",
              "      <th>funding_yes</th>\n",
              "      <td>246</td>\n",
              "      <td>311</td>\n",
              "      <td>18</td>\n",
              "      <td>2</td>\n",
              "      <td>577</td>\n",
              "      <td>42.634315</td>\n",
              "      <td>53.899480</td>\n",
              "      <td>3.119584</td>\n",
              "      <td>0.346620</td>\n",
              "      <td>100.0</td>\n",
              "      <td>11.265165</td>\n",
              "    </tr>\n",
              "    <tr>\n",
              "      <th>open_access_yes</th>\n",
              "      <td>246</td>\n",
              "      <td>311</td>\n",
              "      <td>18</td>\n",
              "      <td>2</td>\n",
              "      <td>577</td>\n",
              "      <td>42.634315</td>\n",
              "      <td>53.899480</td>\n",
              "      <td>3.119584</td>\n",
              "      <td>0.346620</td>\n",
              "      <td>100.0</td>\n",
              "      <td>11.265165</td>\n",
              "    </tr>\n",
              "    <tr>\n",
              "      <th>...</th>\n",
              "      <td>...</td>\n",
              "      <td>...</td>\n",
              "      <td>...</td>\n",
              "      <td>...</td>\n",
              "      <td>...</td>\n",
              "      <td>...</td>\n",
              "      <td>...</td>\n",
              "      <td>...</td>\n",
              "      <td>...</td>\n",
              "      <td>...</td>\n",
              "      <td>...</td>\n",
              "    </tr>\n",
              "    <tr>\n",
              "      <th>Open Access Designations</th>\n",
              "      <td>217</td>\n",
              "      <td>271</td>\n",
              "      <td>9</td>\n",
              "      <td>2</td>\n",
              "      <td>499</td>\n",
              "      <td>43.486974</td>\n",
              "      <td>54.308617</td>\n",
              "      <td>1.803607</td>\n",
              "      <td>0.400802</td>\n",
              "      <td>100.0</td>\n",
              "      <td>10.821643</td>\n",
              "    </tr>\n",
              "    <tr>\n",
              "      <th>Times Cited, All Databases</th>\n",
              "      <td>235</td>\n",
              "      <td>294</td>\n",
              "      <td>16</td>\n",
              "      <td>2</td>\n",
              "      <td>547</td>\n",
              "      <td>42.961609</td>\n",
              "      <td>53.747715</td>\n",
              "      <td>2.925046</td>\n",
              "      <td>0.365631</td>\n",
              "      <td>100.0</td>\n",
              "      <td>10.786106</td>\n",
              "    </tr>\n",
              "    <tr>\n",
              "      <th>180 Day Usage Count</th>\n",
              "      <td>104</td>\n",
              "      <td>125</td>\n",
              "      <td>6</td>\n",
              "      <td>1</td>\n",
              "      <td>236</td>\n",
              "      <td>44.067797</td>\n",
              "      <td>52.966102</td>\n",
              "      <td>2.542373</td>\n",
              "      <td>0.423729</td>\n",
              "      <td>100.0</td>\n",
              "      <td>8.898305</td>\n",
              "    </tr>\n",
              "    <tr>\n",
              "      <th>Since 2013 Usage Count</th>\n",
              "      <td>240</td>\n",
              "      <td>300</td>\n",
              "      <td>18</td>\n",
              "      <td>2</td>\n",
              "      <td>560</td>\n",
              "      <td>42.857143</td>\n",
              "      <td>53.571429</td>\n",
              "      <td>3.214286</td>\n",
              "      <td>0.357143</td>\n",
              "      <td>100.0</td>\n",
              "      <td>10.714286</td>\n",
              "    </tr>\n",
              "    <tr>\n",
              "      <th>Publication Year</th>\n",
              "      <td>244</td>\n",
              "      <td>309</td>\n",
              "      <td>18</td>\n",
              "      <td>2</td>\n",
              "      <td>573</td>\n",
              "      <td>42.582897</td>\n",
              "      <td>53.926702</td>\n",
              "      <td>3.141361</td>\n",
              "      <td>0.349040</td>\n",
              "      <td>100.0</td>\n",
              "      <td>11.343805</td>\n",
              "    </tr>\n",
              "  </tbody>\n",
              "</table>\n",
              "<p>522 rows × 11 columns</p>\n",
              "</div>"
            ],
            "text/plain": [
              "ga_gender                   female  male  unclassified  unknown  all_total  \\\n",
              "index                          246   311            18        2        577   \n",
              "wos_ID                         246   311            18        2        577   \n",
              "Unnamed: 0                     246   311            18        2        577   \n",
              "funding_yes                    246   311            18        2        577   \n",
              "open_access_yes                246   311            18        2        577   \n",
              "...                            ...   ...           ...      ...        ...   \n",
              "Open Access Designations       217   271             9        2        499   \n",
              "Times Cited, All Databases     235   294            16        2        547   \n",
              "180 Day Usage Count            104   125             6        1        236   \n",
              "Since 2013 Usage Count         240   300            18        2        560   \n",
              "Publication Year               244   309            18        2        573   \n",
              "\n",
              "ga_gender                     %female      %male  %unclassified  %unknown  \\\n",
              "index                       42.634315  53.899480       3.119584  0.346620   \n",
              "wos_ID                      42.634315  53.899480       3.119584  0.346620   \n",
              "Unnamed: 0                  42.634315  53.899480       3.119584  0.346620   \n",
              "funding_yes                 42.634315  53.899480       3.119584  0.346620   \n",
              "open_access_yes             42.634315  53.899480       3.119584  0.346620   \n",
              "...                               ...        ...            ...       ...   \n",
              "Open Access Designations    43.486974  54.308617       1.803607  0.400802   \n",
              "Times Cited, All Databases  42.961609  53.747715       2.925046  0.365631   \n",
              "180 Day Usage Count         44.067797  52.966102       2.542373  0.423729   \n",
              "Since 2013 Usage Count      42.857143  53.571429       3.214286  0.357143   \n",
              "Publication Year            42.582897  53.926702       3.141361  0.349040   \n",
              "\n",
              "ga_gender                   %all_total  %_diff(%male-%female)  \n",
              "index                            100.0              11.265165  \n",
              "wos_ID                           100.0              11.265165  \n",
              "Unnamed: 0                       100.0              11.265165  \n",
              "funding_yes                      100.0              11.265165  \n",
              "open_access_yes                  100.0              11.265165  \n",
              "...                                ...                    ...  \n",
              "Open Access Designations         100.0              10.821643  \n",
              "Times Cited, All Databases       100.0              10.786106  \n",
              "180 Day Usage Count              100.0               8.898305  \n",
              "Since 2013 Usage Count           100.0              10.714286  \n",
              "Publication Year                 100.0              11.343805  \n",
              "\n",
              "[522 rows x 11 columns]"
            ]
          },
          "execution_count": 14,
          "metadata": {},
          "output_type": "execute_result"
        }
      ],
      "source": [
        "first_gender_list_all = data_concat_first.reset_index().groupby(['ga_gender']).count().T\n",
        "# countries_oa_list_all.rename(columns = {0:'all_is_no_oa',\n",
        "#                               1:'all_is_oa'}, inplace = True)\n",
        "\n",
        "first_gender_list_all['all_total'] = first_gender_list_all['male']+ first_gender_list_all['female'] + first_gender_list_all['unclassified']+ first_gender_list_all['unknown']\n",
        "\n",
        "for col in first_gender_list_all.columns:\n",
        "    first_gender_list_all['%'+col] = first_gender_list_all[col]/first_gender_list_all['all_total']*100\n",
        "\n",
        "first_gender_list_all['%_diff(%male-%female)'] = first_gender_list_all['%male'] - first_gender_list_all['%female']\n",
        "\n",
        "# save data\n",
        "first_gender_list_all.to_csv(f'../TABLES/region_countries_org_gender_first_authors.csv')\n",
        "\n",
        "first_gender_list_all"
      ]
    },
    {
      "cell_type": "code",
      "execution_count": null,
      "id": "a0fccc27-fbe6-42fe-8ffa-b760b8d6a7c0",
      "metadata": {
        "id": "a0fccc27-fbe6-42fe-8ffa-b760b8d6a7c0"
      },
      "outputs": [],
      "source": []
    },
    {
      "cell_type": "code",
      "execution_count": null,
      "id": "e00bfb2a-8df3-4b5d-849a-5d7803b72156",
      "metadata": {
        "id": "e00bfb2a-8df3-4b5d-849a-5d7803b72156"
      },
      "outputs": [],
      "source": []
    },
    {
      "cell_type": "markdown",
      "id": "bd6970a3-8b2e-456a-b9f6-cb0516a3bd8d",
      "metadata": {
        "tags": [],
        "id": "bd6970a3-8b2e-456a-b9f6-cb0516a3bd8d"
      },
      "source": [
        "## last authors gender"
      ]
    },
    {
      "cell_type": "markdown",
      "id": "45511108-e17b-4b0c-bde4-5ec3bfc67bec",
      "metadata": {
        "id": "45511108-e17b-4b0c-bde4-5ec3bfc67bec"
      },
      "source": [
        "### import data"
      ]
    },
    {
      "cell_type": "code",
      "execution_count": null,
      "id": "65bf8200-a84c-4335-944e-d98e423a1df2",
      "metadata": {
        "id": "65bf8200-a84c-4335-944e-d98e423a1df2",
        "outputId": "77dee7af-1f8c-4f73-c941-f80d4682bf9e"
      },
      "outputs": [
        {
          "data": {
            "text/html": [
              "<div>\n",
              "<style scoped>\n",
              "    .dataframe tbody tr th:only-of-type {\n",
              "        vertical-align: middle;\n",
              "    }\n",
              "\n",
              "    .dataframe tbody tr th {\n",
              "        vertical-align: top;\n",
              "    }\n",
              "\n",
              "    .dataframe thead th {\n",
              "        text-align: right;\n",
              "    }\n",
              "</style>\n",
              "<table border=\"1\" class=\"dataframe\">\n",
              "  <thead>\n",
              "    <tr style=\"text-align: right;\">\n",
              "      <th></th>\n",
              "      <th>index</th>\n",
              "      <th>wos_ID</th>\n",
              "      <th>Publication Year</th>\n",
              "      <th>Funding Orgs</th>\n",
              "      <th>funding_yes</th>\n",
              "      <th>Author Full Names</th>\n",
              "      <th>gender</th>\n",
              "    </tr>\n",
              "  </thead>\n",
              "  <tbody>\n",
              "    <tr>\n",
              "      <th>1</th>\n",
              "      <td>1</td>\n",
              "      <td>wos:000921279800001</td>\n",
              "      <td>2023.0</td>\n",
              "      <td>National Institutes of Health (NIH) [U19AI1427...</td>\n",
              "      <td>1</td>\n",
              "      <td>heyes, james</td>\n",
              "      <td>male</td>\n",
              "    </tr>\n",
              "    <tr>\n",
              "      <th>2</th>\n",
              "      <td>2</td>\n",
              "      <td>wos:000909001200001</td>\n",
              "      <td>2023.0</td>\n",
              "      <td>Russian Science Foundation;  [22-13-00036]</td>\n",
              "      <td>1</td>\n",
              "      <td>moskalik, mikhail yu.</td>\n",
              "      <td>male</td>\n",
              "    </tr>\n",
              "  </tbody>\n",
              "</table>\n",
              "</div>"
            ],
            "text/plain": [
              "   index               wos_ID  Publication Year  \\\n",
              "1      1  wos:000921279800001            2023.0   \n",
              "2      2  wos:000909001200001            2023.0   \n",
              "\n",
              "                                        Funding Orgs  funding_yes  \\\n",
              "1  National Institutes of Health (NIH) [U19AI1427...            1   \n",
              "2         Russian Science Foundation;  [22-13-00036]            1   \n",
              "\n",
              "       Author Full Names gender  \n",
              "1           heyes, james   male  \n",
              "2  moskalik, mikhail yu.   male  "
            ]
          },
          "execution_count": 15,
          "metadata": {},
          "output_type": "execute_result"
        }
      ],
      "source": [
        "last_author_gender = pd.read_csv(f'../DATA_PREPROCESSING/last_author_gender.csv')\n",
        "last_author_gender = last_author_gender.reset_index().rename(columns={'UT (Unique WOS ID)':'wos_ID'})\n",
        "last_author_gender = last_author_gender.loc[last_author_gender['funding_yes'] == 1]\n",
        "last_author_gender['wos_ID'] = last_author_gender['wos_ID'].str.lower()\n",
        "last_author_gender.head(2)"
      ]
    },
    {
      "cell_type": "code",
      "execution_count": null,
      "id": "a5207fb4-1a54-4b8a-a277-8587c63ee210",
      "metadata": {
        "id": "a5207fb4-1a54-4b8a-a277-8587c63ee210",
        "outputId": "e13f3ede-77d7-4b8d-83b9-07930ba48b8c"
      },
      "outputs": [
        {
          "data": {
            "text/html": [
              "<div>\n",
              "<style scoped>\n",
              "    .dataframe tbody tr th:only-of-type {\n",
              "        vertical-align: middle;\n",
              "    }\n",
              "\n",
              "    .dataframe tbody tr th {\n",
              "        vertical-align: top;\n",
              "    }\n",
              "\n",
              "    .dataframe thead th {\n",
              "        text-align: right;\n",
              "    }\n",
              "</style>\n",
              "<table border=\"1\" class=\"dataframe\">\n",
              "  <thead>\n",
              "    <tr style=\"text-align: right;\">\n",
              "      <th></th>\n",
              "      <th>wos_ID</th>\n",
              "      <th>gender</th>\n",
              "      <th>Unnamed: 0</th>\n",
              "      <th>funding_yes</th>\n",
              "      <th>open_access_yes</th>\n",
              "      <th>Funding Name Preferred</th>\n",
              "      <th>europe and central asia</th>\n",
              "      <th>north america</th>\n",
              "      <th>africa</th>\n",
              "      <th>sub-saharan africa</th>\n",
              "      <th>...</th>\n",
              "      <th>fulbright foundation - usa</th>\n",
              "      <th>world bank - multilateral</th>\n",
              "      <th>china association for science and technology - china</th>\n",
              "      <th>zhejiang university - china</th>\n",
              "      <th>Funding Orgs</th>\n",
              "      <th>Open Access Designations</th>\n",
              "      <th>Times Cited, All Databases</th>\n",
              "      <th>180 Day Usage Count</th>\n",
              "      <th>Since 2013 Usage Count</th>\n",
              "      <th>Publication Year</th>\n",
              "    </tr>\n",
              "  </thead>\n",
              "  <tbody>\n",
              "    <tr>\n",
              "      <th>0</th>\n",
              "      <td>wos:000921279800001</td>\n",
              "      <td>male</td>\n",
              "      <td>1</td>\n",
              "      <td>1</td>\n",
              "      <td>1</td>\n",
              "      <td>National Institutes of Health (NIH)(United Sta...</td>\n",
              "      <td>NaN</td>\n",
              "      <td>2.0</td>\n",
              "      <td>NaN</td>\n",
              "      <td>NaN</td>\n",
              "      <td>...</td>\n",
              "      <td>NaN</td>\n",
              "      <td>NaN</td>\n",
              "      <td>NaN</td>\n",
              "      <td>NaN</td>\n",
              "      <td>national institutes of health (nih) [u19ai1427...</td>\n",
              "      <td>hybrid</td>\n",
              "      <td>NaN</td>\n",
              "      <td>NaN</td>\n",
              "      <td>NaN</td>\n",
              "      <td>2023.0</td>\n",
              "    </tr>\n",
              "    <tr>\n",
              "      <th>1</th>\n",
              "      <td>wos:000909001200001</td>\n",
              "      <td>male</td>\n",
              "      <td>2</td>\n",
              "      <td>1</td>\n",
              "      <td>1</td>\n",
              "      <td>Russian Science Foundation(Russian Science Fou...</td>\n",
              "      <td>1.0</td>\n",
              "      <td>NaN</td>\n",
              "      <td>NaN</td>\n",
              "      <td>NaN</td>\n",
              "      <td>...</td>\n",
              "      <td>NaN</td>\n",
              "      <td>NaN</td>\n",
              "      <td>NaN</td>\n",
              "      <td>NaN</td>\n",
              "      <td>russian science foundation;  [22-13-00036]</td>\n",
              "      <td>gold, green accepted</td>\n",
              "      <td>NaN</td>\n",
              "      <td>3.0</td>\n",
              "      <td>3.0</td>\n",
              "      <td>2023.0</td>\n",
              "    </tr>\n",
              "  </tbody>\n",
              "</table>\n",
              "<p>2 rows × 522 columns</p>\n",
              "</div>"
            ],
            "text/plain": [
              "                wos_ID gender  Unnamed: 0  funding_yes  open_access_yes  \\\n",
              "0  wos:000921279800001   male           1            1                1   \n",
              "1  wos:000909001200001   male           2            1                1   \n",
              "\n",
              "                              Funding Name Preferred  europe and central asia  \\\n",
              "0  National Institutes of Health (NIH)(United Sta...                      NaN   \n",
              "1  Russian Science Foundation(Russian Science Fou...                      1.0   \n",
              "\n",
              "   north america  africa  sub-saharan africa  ...  fulbright foundation - usa  \\\n",
              "0            2.0     NaN                 NaN  ...                         NaN   \n",
              "1            NaN     NaN                 NaN  ...                         NaN   \n",
              "\n",
              "   world bank - multilateral  \\\n",
              "0                        NaN   \n",
              "1                        NaN   \n",
              "\n",
              "   china association for science and technology - china  \\\n",
              "0                                                NaN      \n",
              "1                                                NaN      \n",
              "\n",
              "   zhejiang university - china  \\\n",
              "0                          NaN   \n",
              "1                          NaN   \n",
              "\n",
              "                                        Funding Orgs  \\\n",
              "0  national institutes of health (nih) [u19ai1427...   \n",
              "1         russian science foundation;  [22-13-00036]   \n",
              "\n",
              "   Open Access Designations  Times Cited, All Databases  180 Day Usage Count  \\\n",
              "0                    hybrid                         NaN                  NaN   \n",
              "1      gold, green accepted                         NaN                  3.0   \n",
              "\n",
              "   Since 2013 Usage Count  Publication Year  \n",
              "0                     NaN            2023.0  \n",
              "1                     3.0            2023.0  \n",
              "\n",
              "[2 rows x 522 columns]"
            ]
          },
          "execution_count": 16,
          "metadata": {},
          "output_type": "execute_result"
        }
      ],
      "source": [
        "data_concat_last = last_author_gender[['wos_ID','gender']].merge(data, on = 'wos_ID', how='left')\n",
        "data_concat_last.head(2)"
      ]
    },
    {
      "cell_type": "code",
      "execution_count": null,
      "id": "33b6ca8d-b96e-4e45-b6e3-ac2908764d68",
      "metadata": {
        "id": "33b6ca8d-b96e-4e45-b6e3-ac2908764d68",
        "outputId": "eb29d719-c26f-47f5-bc0f-47e2282da2ba"
      },
      "outputs": [
        {
          "data": {
            "text/plain": [
              "male            454\n",
              "female          110\n",
              "unclassified     11\n",
              "unknown           2\n",
              "Name: gender, dtype: int64"
            ]
          },
          "execution_count": 17,
          "metadata": {},
          "output_type": "execute_result"
        }
      ],
      "source": [
        "data_concat_last['gender'].value_counts()"
      ]
    },
    {
      "cell_type": "code",
      "execution_count": null,
      "id": "7cd1fdfb-4f78-476e-8041-fd807a899c19",
      "metadata": {
        "id": "7cd1fdfb-4f78-476e-8041-fd807a899c19",
        "outputId": "8e189559-d39f-41ea-e3fa-aec2d900fb55"
      },
      "outputs": [
        {
          "data": {
            "text/html": [
              "<div>\n",
              "<style scoped>\n",
              "    .dataframe tbody tr th:only-of-type {\n",
              "        vertical-align: middle;\n",
              "    }\n",
              "\n",
              "    .dataframe tbody tr th {\n",
              "        vertical-align: top;\n",
              "    }\n",
              "\n",
              "    .dataframe thead th {\n",
              "        text-align: right;\n",
              "    }\n",
              "</style>\n",
              "<table border=\"1\" class=\"dataframe\">\n",
              "  <thead>\n",
              "    <tr style=\"text-align: right;\">\n",
              "      <th>gender</th>\n",
              "      <th>female</th>\n",
              "      <th>male</th>\n",
              "      <th>unclassified</th>\n",
              "      <th>unknown</th>\n",
              "      <th>all_total</th>\n",
              "      <th>%female</th>\n",
              "      <th>%male</th>\n",
              "      <th>%unclassified</th>\n",
              "      <th>%unknown</th>\n",
              "      <th>%all_total</th>\n",
              "      <th>%_diff(%male-%female)</th>\n",
              "    </tr>\n",
              "  </thead>\n",
              "  <tbody>\n",
              "    <tr>\n",
              "      <th>index</th>\n",
              "      <td>110</td>\n",
              "      <td>454</td>\n",
              "      <td>11</td>\n",
              "      <td>2</td>\n",
              "      <td>577</td>\n",
              "      <td>19.064125</td>\n",
              "      <td>78.682842</td>\n",
              "      <td>1.906412</td>\n",
              "      <td>0.346620</td>\n",
              "      <td>100.0</td>\n",
              "      <td>59.618718</td>\n",
              "    </tr>\n",
              "    <tr>\n",
              "      <th>wos_ID</th>\n",
              "      <td>110</td>\n",
              "      <td>454</td>\n",
              "      <td>11</td>\n",
              "      <td>2</td>\n",
              "      <td>577</td>\n",
              "      <td>19.064125</td>\n",
              "      <td>78.682842</td>\n",
              "      <td>1.906412</td>\n",
              "      <td>0.346620</td>\n",
              "      <td>100.0</td>\n",
              "      <td>59.618718</td>\n",
              "    </tr>\n",
              "    <tr>\n",
              "      <th>Unnamed: 0</th>\n",
              "      <td>110</td>\n",
              "      <td>454</td>\n",
              "      <td>11</td>\n",
              "      <td>2</td>\n",
              "      <td>577</td>\n",
              "      <td>19.064125</td>\n",
              "      <td>78.682842</td>\n",
              "      <td>1.906412</td>\n",
              "      <td>0.346620</td>\n",
              "      <td>100.0</td>\n",
              "      <td>59.618718</td>\n",
              "    </tr>\n",
              "    <tr>\n",
              "      <th>funding_yes</th>\n",
              "      <td>110</td>\n",
              "      <td>454</td>\n",
              "      <td>11</td>\n",
              "      <td>2</td>\n",
              "      <td>577</td>\n",
              "      <td>19.064125</td>\n",
              "      <td>78.682842</td>\n",
              "      <td>1.906412</td>\n",
              "      <td>0.346620</td>\n",
              "      <td>100.0</td>\n",
              "      <td>59.618718</td>\n",
              "    </tr>\n",
              "    <tr>\n",
              "      <th>open_access_yes</th>\n",
              "      <td>110</td>\n",
              "      <td>454</td>\n",
              "      <td>11</td>\n",
              "      <td>2</td>\n",
              "      <td>577</td>\n",
              "      <td>19.064125</td>\n",
              "      <td>78.682842</td>\n",
              "      <td>1.906412</td>\n",
              "      <td>0.346620</td>\n",
              "      <td>100.0</td>\n",
              "      <td>59.618718</td>\n",
              "    </tr>\n",
              "    <tr>\n",
              "      <th>...</th>\n",
              "      <td>...</td>\n",
              "      <td>...</td>\n",
              "      <td>...</td>\n",
              "      <td>...</td>\n",
              "      <td>...</td>\n",
              "      <td>...</td>\n",
              "      <td>...</td>\n",
              "      <td>...</td>\n",
              "      <td>...</td>\n",
              "      <td>...</td>\n",
              "      <td>...</td>\n",
              "    </tr>\n",
              "    <tr>\n",
              "      <th>Open Access Designations</th>\n",
              "      <td>98</td>\n",
              "      <td>394</td>\n",
              "      <td>6</td>\n",
              "      <td>1</td>\n",
              "      <td>499</td>\n",
              "      <td>19.639279</td>\n",
              "      <td>78.957916</td>\n",
              "      <td>1.202405</td>\n",
              "      <td>0.200401</td>\n",
              "      <td>100.0</td>\n",
              "      <td>59.318637</td>\n",
              "    </tr>\n",
              "    <tr>\n",
              "      <th>Times Cited, All Databases</th>\n",
              "      <td>106</td>\n",
              "      <td>429</td>\n",
              "      <td>10</td>\n",
              "      <td>2</td>\n",
              "      <td>547</td>\n",
              "      <td>19.378428</td>\n",
              "      <td>78.427788</td>\n",
              "      <td>1.828154</td>\n",
              "      <td>0.365631</td>\n",
              "      <td>100.0</td>\n",
              "      <td>59.049360</td>\n",
              "    </tr>\n",
              "    <tr>\n",
              "      <th>180 Day Usage Count</th>\n",
              "      <td>49</td>\n",
              "      <td>181</td>\n",
              "      <td>4</td>\n",
              "      <td>2</td>\n",
              "      <td>236</td>\n",
              "      <td>20.762712</td>\n",
              "      <td>76.694915</td>\n",
              "      <td>1.694915</td>\n",
              "      <td>0.847458</td>\n",
              "      <td>100.0</td>\n",
              "      <td>55.932203</td>\n",
              "    </tr>\n",
              "    <tr>\n",
              "      <th>Since 2013 Usage Count</th>\n",
              "      <td>107</td>\n",
              "      <td>440</td>\n",
              "      <td>11</td>\n",
              "      <td>2</td>\n",
              "      <td>560</td>\n",
              "      <td>19.107143</td>\n",
              "      <td>78.571429</td>\n",
              "      <td>1.964286</td>\n",
              "      <td>0.357143</td>\n",
              "      <td>100.0</td>\n",
              "      <td>59.464286</td>\n",
              "    </tr>\n",
              "    <tr>\n",
              "      <th>Publication Year</th>\n",
              "      <td>109</td>\n",
              "      <td>451</td>\n",
              "      <td>11</td>\n",
              "      <td>2</td>\n",
              "      <td>573</td>\n",
              "      <td>19.022688</td>\n",
              "      <td>78.708551</td>\n",
              "      <td>1.919721</td>\n",
              "      <td>0.349040</td>\n",
              "      <td>100.0</td>\n",
              "      <td>59.685864</td>\n",
              "    </tr>\n",
              "  </tbody>\n",
              "</table>\n",
              "<p>522 rows × 11 columns</p>\n",
              "</div>"
            ],
            "text/plain": [
              "gender                      female  male  unclassified  unknown  all_total  \\\n",
              "index                          110   454            11        2        577   \n",
              "wos_ID                         110   454            11        2        577   \n",
              "Unnamed: 0                     110   454            11        2        577   \n",
              "funding_yes                    110   454            11        2        577   \n",
              "open_access_yes                110   454            11        2        577   \n",
              "...                            ...   ...           ...      ...        ...   \n",
              "Open Access Designations        98   394             6        1        499   \n",
              "Times Cited, All Databases     106   429            10        2        547   \n",
              "180 Day Usage Count             49   181             4        2        236   \n",
              "Since 2013 Usage Count         107   440            11        2        560   \n",
              "Publication Year               109   451            11        2        573   \n",
              "\n",
              "gender                        %female      %male  %unclassified  %unknown  \\\n",
              "index                       19.064125  78.682842       1.906412  0.346620   \n",
              "wos_ID                      19.064125  78.682842       1.906412  0.346620   \n",
              "Unnamed: 0                  19.064125  78.682842       1.906412  0.346620   \n",
              "funding_yes                 19.064125  78.682842       1.906412  0.346620   \n",
              "open_access_yes             19.064125  78.682842       1.906412  0.346620   \n",
              "...                               ...        ...            ...       ...   \n",
              "Open Access Designations    19.639279  78.957916       1.202405  0.200401   \n",
              "Times Cited, All Databases  19.378428  78.427788       1.828154  0.365631   \n",
              "180 Day Usage Count         20.762712  76.694915       1.694915  0.847458   \n",
              "Since 2013 Usage Count      19.107143  78.571429       1.964286  0.357143   \n",
              "Publication Year            19.022688  78.708551       1.919721  0.349040   \n",
              "\n",
              "gender                      %all_total  %_diff(%male-%female)  \n",
              "index                            100.0              59.618718  \n",
              "wos_ID                           100.0              59.618718  \n",
              "Unnamed: 0                       100.0              59.618718  \n",
              "funding_yes                      100.0              59.618718  \n",
              "open_access_yes                  100.0              59.618718  \n",
              "...                                ...                    ...  \n",
              "Open Access Designations         100.0              59.318637  \n",
              "Times Cited, All Databases       100.0              59.049360  \n",
              "180 Day Usage Count              100.0              55.932203  \n",
              "Since 2013 Usage Count           100.0              59.464286  \n",
              "Publication Year                 100.0              59.685864  \n",
              "\n",
              "[522 rows x 11 columns]"
            ]
          },
          "execution_count": 18,
          "metadata": {},
          "output_type": "execute_result"
        }
      ],
      "source": [
        "last_gender_list_all = data_concat_last.reset_index().groupby(['gender']).count().T\n",
        "# countries_oa_list_all.rename(columns = {0:'all_is_no_oa',\n",
        "#                               1:'all_is_oa'}, inplace = True)\n",
        "\n",
        "last_gender_list_all['all_total'] = last_gender_list_all['male']+ last_gender_list_all['female'] + last_gender_list_all['unclassified']+ last_gender_list_all['unknown']\n",
        "\n",
        "for col in last_gender_list_all.columns:\n",
        "    last_gender_list_all['%'+col] = last_gender_list_all[col]/last_gender_list_all['all_total']*100\n",
        "\n",
        "last_gender_list_all['%_diff(%male-%female)'] = last_gender_list_all['%male'] - last_gender_list_all['%female']\n",
        "\n",
        "# save data\n",
        "last_gender_list_all.to_csv(f'../TABLES/region_countries_org_gender_last_authors.csv')\n",
        "\n",
        "last_gender_list_all"
      ]
    },
    {
      "cell_type": "code",
      "execution_count": null,
      "id": "c0506335-219e-497d-841d-3e3638618005",
      "metadata": {
        "id": "c0506335-219e-497d-841d-3e3638618005"
      },
      "outputs": [],
      "source": []
    },
    {
      "cell_type": "code",
      "execution_count": null,
      "id": "ddc84981-bc88-4903-add1-0e2221bb1dcf",
      "metadata": {
        "id": "ddc84981-bc88-4903-add1-0e2221bb1dcf"
      },
      "outputs": [],
      "source": []
    },
    {
      "cell_type": "code",
      "execution_count": null,
      "id": "dcfa6639-0efd-4393-aa1e-06fb3b522c4b",
      "metadata": {
        "id": "dcfa6639-0efd-4393-aa1e-06fb3b522c4b"
      },
      "outputs": [],
      "source": []
    },
    {
      "cell_type": "code",
      "execution_count": null,
      "id": "7143831b-7a47-4678-9d60-fad6d3c40eb5",
      "metadata": {
        "id": "7143831b-7a47-4678-9d60-fad6d3c40eb5",
        "outputId": "2b6131af-facd-4d3b-fef9-d66ebb6de550"
      },
      "outputs": [
        {
          "ename": "NameError",
          "evalue": "name 'xxxxx' is not defined",
          "output_type": "error",
          "traceback": [
            "\u001b[1;31m---------------------------------------------------------------------------\u001b[0m",
            "\u001b[1;31mNameError\u001b[0m                                 Traceback (most recent call last)",
            "Input \u001b[1;32mIn [19]\u001b[0m, in \u001b[0;36m<cell line: 1>\u001b[1;34m()\u001b[0m\n\u001b[1;32m----> 1\u001b[0m \u001b[43mxxxxx\u001b[49m\n",
            "\u001b[1;31mNameError\u001b[0m: name 'xxxxx' is not defined"
          ]
        }
      ],
      "source": [
        "xxxxx"
      ]
    },
    {
      "cell_type": "code",
      "execution_count": null,
      "id": "632533f2-741a-4dca-aad9-bd8d586107cc",
      "metadata": {
        "id": "632533f2-741a-4dca-aad9-bd8d586107cc"
      },
      "outputs": [],
      "source": [
        "data_fund = data.loc[data['funding_yes'] == 1]\n",
        "data_fund.head(2)"
      ]
    },
    {
      "cell_type": "code",
      "execution_count": null,
      "id": "6e05c6bc-b169-4ecd-81b2-336ae29953f0",
      "metadata": {
        "id": "6e05c6bc-b169-4ecd-81b2-336ae29953f0"
      },
      "outputs": [],
      "source": []
    },
    {
      "cell_type": "code",
      "execution_count": null,
      "id": "d740e860-852b-4a3b-953e-1a0de5d8be43",
      "metadata": {
        "id": "d740e860-852b-4a3b-953e-1a0de5d8be43"
      },
      "outputs": [],
      "source": [
        "dataT = data_fund.T\n",
        "\n",
        "dataT['countries'] = dataT.index\n",
        "\n",
        "female_std_list = []\n",
        "female_median_list = []\n",
        "female_mean_list = []\n",
        "female_sum_list = []\n",
        "for country in data.columns:\n",
        "    female_sum_list.append(data_fund.dropna(subset=[country])['Times Cited, All Databases'].sum())\n",
        "    female_mean_list.append(data_fund.dropna(subset=[country])['Times Cited, All Databases'].mean())\n",
        "\n",
        "# rename countries names on columns\n",
        "countries = list(dataT.index)\n",
        "female_sum  = female_sum_list\n",
        "female_mean = female_mean_list\n",
        "\n",
        "dataT_sum = pd.DataFrame({'countries': countries, 'fund_female_sum': female_sum})\n",
        "dataT_mean = pd.DataFrame({'countries': countries, 'fund_female_mean': female_mean_list})\n",
        "\n",
        "# ********\n",
        "dataT_concat = dataT.reset_index().merge(dataT_sum, on = 'countries', how='left')\n",
        "dataT_concat = dataT_concat.merge(dataT_mean, on = 'countries', how='left')\n",
        "\n",
        "dataT_concat['fund_female_count'] = dataT_concat['fund_female_sum']/dataT_concat['fund_female_mean']\n",
        "\n",
        "#####*****************\n",
        "dataT_concat_fund_tca = dataT_concat[['countries','fund_female_sum','fund_female_mean','fund_female_count']].set_index('countries')\n",
        "\n",
        "# save data\n",
        "# dataT_concat_fund.to_csv(f'../TABLES/countries_fund_female_sum_mean_count.csv')\n",
        "dataT_concat_fund_tca"
      ]
    },
    {
      "cell_type": "code",
      "execution_count": null,
      "id": "10ac841d-81dc-49a5-b345-5b3f6a0c0c14",
      "metadata": {
        "id": "10ac841d-81dc-49a5-b345-5b3f6a0c0c14"
      },
      "outputs": [],
      "source": []
    },
    {
      "cell_type": "markdown",
      "id": "97516bad-d422-4a5b-8ea4-3b509a0b9f9e",
      "metadata": {
        "tags": [],
        "id": "97516bad-d422-4a5b-8ea4-3b509a0b9f9e"
      },
      "source": [
        "### proportion no fund research"
      ]
    },
    {
      "cell_type": "code",
      "execution_count": null,
      "id": "c6d284d9-c452-4bf1-96d2-acdbac70786d",
      "metadata": {
        "id": "c6d284d9-c452-4bf1-96d2-acdbac70786d"
      },
      "outputs": [],
      "source": [
        "data_no_fund = data.loc[data['funding_yes'] == 0]\n",
        "data_no_fund.head(2)"
      ]
    },
    {
      "cell_type": "code",
      "execution_count": null,
      "id": "96d7999e-3023-4503-804e-c23acb5df698",
      "metadata": {
        "id": "96d7999e-3023-4503-804e-c23acb5df698"
      },
      "outputs": [],
      "source": []
    },
    {
      "cell_type": "code",
      "execution_count": null,
      "id": "5d409a8f-cf43-4409-8aaf-896cadf3fc48",
      "metadata": {
        "id": "5d409a8f-cf43-4409-8aaf-896cadf3fc48"
      },
      "outputs": [],
      "source": [
        "dataT = data_no_fund.T\n",
        "\n",
        "dataT['countries'] = dataT.index\n",
        "\n",
        "female_std_list = []\n",
        "female_median_list = []\n",
        "female_mean_list = []\n",
        "female_sum_list = []\n",
        "for country in data.columns:\n",
        "    female_sum_list.append(data_no_fund.dropna(subset=[country])['Times Cited, All Databases'].sum())\n",
        "    female_mean_list.append(data_no_fund.dropna(subset=[country])['Times Cited, All Databases'].mean())\n",
        "\n",
        "# rename countries names on columns\n",
        "countries = list(dataT.index)\n",
        "female_sum  = female_sum_list\n",
        "female_mean = female_mean_list\n",
        "\n",
        "dataT_sum = pd.DataFrame({'countries': countries, 'no_fund_female_sum': female_sum})\n",
        "dataT_mean = pd.DataFrame({'countries': countries, 'no_fund_female_mean': female_mean_list})\n",
        "\n",
        "# ********\n",
        "dataT_concat = dataT.reset_index().merge(dataT_sum, on = 'countries', how='left')\n",
        "dataT_concat = dataT_concat.merge(dataT_mean, on = 'countries', how='left')\n",
        "\n",
        "dataT_concat['no_fund_female_count'] = dataT_concat['no_fund_female_sum']/dataT_concat['no_fund_female_mean']\n",
        "\n",
        "#####\n",
        "\n",
        "dataT_concat_no_fund_tca = dataT_concat[['countries','no_fund_female_sum','no_fund_female_mean','no_fund_female_count']].set_index('countries')\n",
        "\n",
        "# save data\n",
        "# dataT_concat_no_fund.to_csv(f'../TABLES/countries_no_fund_female_sum_mean.csv')\n",
        "dataT_concat_no_fund_tca"
      ]
    },
    {
      "cell_type": "code",
      "execution_count": null,
      "id": "1a0a817c-29dd-47f7-9944-1d2b7078777b",
      "metadata": {
        "id": "1a0a817c-29dd-47f7-9944-1d2b7078777b"
      },
      "outputs": [],
      "source": []
    },
    {
      "cell_type": "markdown",
      "id": "ecb285cc-34a2-4982-94c8-09ef079cc216",
      "metadata": {
        "id": "ecb285cc-34a2-4982-94c8-09ef079cc216"
      },
      "source": [
        "### concat and save data"
      ]
    },
    {
      "cell_type": "code",
      "execution_count": null,
      "id": "40d1a265-24fa-4e1c-8a51-bba4cacaa6c5",
      "metadata": {
        "tags": [],
        "id": "40d1a265-24fa-4e1c-8a51-bba4cacaa6c5"
      },
      "outputs": [],
      "source": [
        "# concatenate dataframes on index\n",
        "concat_data_pub_female_list = pd.concat([dataT_concat_all_tca,\n",
        "                                    dataT_concat_fund_tca,\n",
        "                                    dataT_concat_no_fund_tca],\n",
        "                                    axis=1)\n",
        "# save data\n",
        "concat_data_pub_female_list.to_csv(f'../TABLES/concat_data_pub_female_list.csv')\n",
        "concat_data_pub_female_list"
      ]
    },
    {
      "cell_type": "code",
      "execution_count": null,
      "id": "a746dfc5-bdfa-4d08-ae1c-299bc8838b92",
      "metadata": {
        "id": "a746dfc5-bdfa-4d08-ae1c-299bc8838b92"
      },
      "outputs": [],
      "source": []
    },
    {
      "cell_type": "markdown",
      "id": "91e87c7a-082c-47a2-87b1-7b94869878c3",
      "metadata": {
        "id": "91e87c7a-082c-47a2-87b1-7b94869878c3"
      },
      "source": [
        "### significance"
      ]
    },
    {
      "cell_type": "code",
      "execution_count": null,
      "id": "11f1a031-c34d-4fa7-8ae8-213259d3a9eb",
      "metadata": {
        "id": "11f1a031-c34d-4fa7-8ae8-213259d3a9eb"
      },
      "outputs": [],
      "source": [
        "df_fund = data[['funding_yes','Times Cited, All Databases']]\n",
        "df_fund"
      ]
    },
    {
      "cell_type": "code",
      "execution_count": null,
      "id": "20cd3aad-1817-4017-9099-b33c0be2f1ce",
      "metadata": {
        "id": "20cd3aad-1817-4017-9099-b33c0be2f1ce"
      },
      "outputs": [],
      "source": [
        "df_fund.count()"
      ]
    },
    {
      "cell_type": "code",
      "execution_count": null,
      "id": "8dc85ba5-350f-48d2-8611-657167ed17d4",
      "metadata": {
        "id": "8dc85ba5-350f-48d2-8611-657167ed17d4"
      },
      "outputs": [],
      "source": [
        "df_fund.reset_index().groupby(['funding_yes']).count()"
      ]
    },
    {
      "cell_type": "code",
      "execution_count": null,
      "id": "42409494-d282-47e7-84c4-06df3cdbf419",
      "metadata": {
        "id": "42409494-d282-47e7-84c4-06df3cdbf419"
      },
      "outputs": [],
      "source": [
        "df_fund = df_fund.dropna()\n",
        "df_fund"
      ]
    },
    {
      "cell_type": "code",
      "execution_count": null,
      "id": "fc25acc0-8745-4168-adc1-c9e3345e6059",
      "metadata": {
        "id": "fc25acc0-8745-4168-adc1-c9e3345e6059"
      },
      "outputs": [],
      "source": [
        "df_fund.reset_index().groupby(['funding_yes']).count()"
      ]
    },
    {
      "cell_type": "code",
      "execution_count": null,
      "id": "0aabf65b-f31c-4df3-a0aa-8c37586fa414",
      "metadata": {
        "id": "0aabf65b-f31c-4df3-a0aa-8c37586fa414"
      },
      "outputs": [],
      "source": [
        "df_fund.describe()"
      ]
    },
    {
      "cell_type": "code",
      "execution_count": null,
      "id": "f9581155-a4ad-4910-bf19-ea430c8c3f48",
      "metadata": {
        "id": "f9581155-a4ad-4910-bf19-ea430c8c3f48"
      },
      "outputs": [],
      "source": [
        "df_fund.loc[df_fund['funding_yes'] == 0].describe()"
      ]
    },
    {
      "cell_type": "code",
      "execution_count": null,
      "id": "ded91093-10bd-422a-a930-e23271e0da1e",
      "metadata": {
        "id": "ded91093-10bd-422a-a930-e23271e0da1e"
      },
      "outputs": [],
      "source": [
        "df_fund.loc[df_fund['funding_yes'] == 1].describe()"
      ]
    },
    {
      "cell_type": "code",
      "execution_count": null,
      "id": "7b690822-7505-4a0e-b9ec-a6dfd654860b",
      "metadata": {
        "id": "7b690822-7505-4a0e-b9ec-a6dfd654860b"
      },
      "outputs": [],
      "source": [
        "#------------"
      ]
    },
    {
      "cell_type": "code",
      "execution_count": null,
      "id": "6a616dd9-d403-432f-b9c7-0bdded5ebb1c",
      "metadata": {
        "id": "6a616dd9-d403-432f-b9c7-0bdded5ebb1c"
      },
      "outputs": [],
      "source": [
        "fund_TCA = df_fund.loc[df_fund['funding_yes'] == 1]['Times Cited, All Databases'].to_list()\n",
        "fund_TCA[:15]"
      ]
    },
    {
      "cell_type": "code",
      "execution_count": null,
      "id": "9ec63adb-c338-41e7-adf0-b73b58d29bba",
      "metadata": {
        "id": "9ec63adb-c338-41e7-adf0-b73b58d29bba"
      },
      "outputs": [],
      "source": [
        "no_fund_TCA = df_fund.loc[df_fund['funding_yes'] == 0]['Times Cited, All Databases'].to_list()"
      ]
    },
    {
      "cell_type": "code",
      "execution_count": null,
      "id": "24d58c93-7f06-4d0f-97df-6d26655915dd",
      "metadata": {
        "id": "24d58c93-7f06-4d0f-97df-6d26655915dd"
      },
      "outputs": [],
      "source": []
    },
    {
      "cell_type": "code",
      "execution_count": null,
      "id": "9e3387c5-63da-47a7-941d-f5f8e9f9d711",
      "metadata": {
        "id": "9e3387c5-63da-47a7-941d-f5f8e9f9d711"
      },
      "outputs": [],
      "source": [
        "test_sig(fund_TCA, no_fund_TCA)"
      ]
    },
    {
      "cell_type": "code",
      "execution_count": null,
      "id": "249174e3-397b-49aa-b262-c114cf8b1275",
      "metadata": {
        "id": "249174e3-397b-49aa-b262-c114cf8b1275"
      },
      "outputs": [],
      "source": []
    },
    {
      "cell_type": "raw",
      "id": "4a3c33dd-edbe-4bc0-b625-92a6808ce1e8",
      "metadata": {
        "id": "4a3c33dd-edbe-4bc0-b625-92a6808ce1e8"
      },
      "source": [
        "https://plotly.com/python/box-plots/"
      ]
    },
    {
      "cell_type": "code",
      "execution_count": null,
      "id": "6405c727-a878-4496-adce-52e2a12be29c",
      "metadata": {
        "id": "6405c727-a878-4496-adce-52e2a12be29c"
      },
      "outputs": [],
      "source": [
        "import plotly.express as px\n",
        "fig = px.box(df_fund, x=\"funding_yes\", y=\"Times Cited, All Databases\", color=\"funding_yes\")\n",
        "# setting the y-axis range from 0 to 50\n",
        "fig.update_layout(yaxis_range=[-2,100])\n",
        "fig.update_layout(font_size=20)\n",
        "\n",
        "fig.show()"
      ]
    },
    {
      "cell_type": "code",
      "execution_count": null,
      "id": "436b08ad-03fd-48e2-bb67-4742aecd5ce6",
      "metadata": {
        "id": "436b08ad-03fd-48e2-bb67-4742aecd5ce6"
      },
      "outputs": [],
      "source": []
    },
    {
      "cell_type": "code",
      "execution_count": null,
      "id": "0a86415e-70d5-4cd1-a06d-d3f87826966e",
      "metadata": {
        "id": "0a86415e-70d5-4cd1-a06d-d3f87826966e"
      },
      "outputs": [],
      "source": []
    },
    {
      "cell_type": "markdown",
      "id": "96ed7d81-8645-41d0-a95b-9750ab80b48b",
      "metadata": {
        "tags": [],
        "id": "96ed7d81-8645-41d0-a95b-9750ab80b48b"
      },
      "source": [
        "## '180 Day Usage Count'"
      ]
    },
    {
      "cell_type": "markdown",
      "id": "9d32781c-3c9a-4317-a55b-edc5424f4fb9",
      "metadata": {
        "tags": [],
        "id": "9d32781c-3c9a-4317-a55b-edc5424f4fb9"
      },
      "source": [
        "### proportion all"
      ]
    },
    {
      "cell_type": "code",
      "execution_count": null,
      "id": "2f2e2c9a-4f89-42f7-9b15-e6a39a1920ec",
      "metadata": {
        "id": "2f2e2c9a-4f89-42f7-9b15-e6a39a1920ec"
      },
      "outputs": [],
      "source": [
        "dataT = data.T\n",
        "\n",
        "dataT['countries'] = dataT.index\n",
        "\n",
        "last_180_Day_Usage_Count_std_list = []\n",
        "last_180_Day_Usage_Count_median_list = []\n",
        "last_180_Day_Usage_Count_mean_list = []\n",
        "last_180_Day_Usage_Count_sum_list = []\n",
        "for country in data.columns:\n",
        "    last_180_Day_Usage_Count_sum_list.append(data.dropna(subset=[country])['180 Day Usage Count'].sum())\n",
        "    last_180_Day_Usage_Count_mean_list.append(data.dropna(subset=[country])['180 Day Usage Count'].mean())\n",
        "\n",
        "# rename countries names on columns\n",
        "countries = list(dataT.index)\n",
        "last_180_Day_Usage_Count_sum  = last_180_Day_Usage_Count_sum_list\n",
        "last_180_Day_Usage_Count_mean = last_180_Day_Usage_Count_mean_list\n",
        "\n",
        "dataT_sum = pd.DataFrame({'countries': countries, 'all_180_Day_Usage_Count_sum': last_180_Day_Usage_Count_sum})\n",
        "dataT_mean = pd.DataFrame({'countries': countries, 'all_180_Day_Usage_Count_mean': last_180_Day_Usage_Count_mean_list})\n",
        "\n",
        "# ********\n",
        "dataT_concat = dataT.reset_index().merge(dataT_sum, on = 'countries', how='left')\n",
        "dataT_concat = dataT_concat.merge(dataT_mean, on = 'countries', how='left')\n",
        "\n",
        "dataT_concat['all_180_Day_Usage_Count_count'] = dataT_concat['all_180_Day_Usage_Count_sum']/dataT_concat['all_180_Day_Usage_Count_mean']\n",
        "\n",
        "#####\n",
        "\n",
        "\n",
        "dataT_concat_all_180_day = dataT_concat[['countries','all_180_Day_Usage_Count_sum','all_180_Day_Usage_Count_mean']].set_index('countries')\n",
        "\n",
        "# save data\n",
        "# dataT_concat_all.to_csv(f'../TABLES/countries_all_180_Day_Usage_Count_sum_mean.csv')\n",
        "dataT_concat_all_180_day"
      ]
    },
    {
      "cell_type": "code",
      "execution_count": null,
      "id": "19e7a8ae-0f27-44b2-a834-baf9dc9d1d37",
      "metadata": {
        "id": "19e7a8ae-0f27-44b2-a834-baf9dc9d1d37"
      },
      "outputs": [],
      "source": [
        "len(last_180_Day_Usage_Count_sum)"
      ]
    },
    {
      "cell_type": "code",
      "execution_count": null,
      "id": "6c087d7f-780d-4147-aef9-c4fd686eff83",
      "metadata": {
        "id": "6c087d7f-780d-4147-aef9-c4fd686eff83"
      },
      "outputs": [],
      "source": [
        "len(last_180_Day_Usage_Count_mean)"
      ]
    },
    {
      "cell_type": "code",
      "execution_count": null,
      "id": "c2d6343c-9427-48c0-b3f7-530a6824b421",
      "metadata": {
        "id": "c2d6343c-9427-48c0-b3f7-530a6824b421"
      },
      "outputs": [],
      "source": []
    },
    {
      "cell_type": "markdown",
      "id": "7f339819-d4c6-4ad4-9910-cced0fea5465",
      "metadata": {
        "id": "7f339819-d4c6-4ad4-9910-cced0fea5465"
      },
      "source": [
        "### proportion fund research"
      ]
    },
    {
      "cell_type": "code",
      "execution_count": null,
      "id": "3afc94f3-6f79-43d0-a41d-661e8f4df5d1",
      "metadata": {
        "id": "3afc94f3-6f79-43d0-a41d-661e8f4df5d1"
      },
      "outputs": [],
      "source": [
        "data_fund = data.loc[data['funding_yes'] == 1]\n",
        "data_fund.shape"
      ]
    },
    {
      "cell_type": "code",
      "execution_count": null,
      "id": "e339a5a2-cd4b-410c-9f0d-f4e3d51ce539",
      "metadata": {
        "id": "e339a5a2-cd4b-410c-9f0d-f4e3d51ce539"
      },
      "outputs": [],
      "source": []
    },
    {
      "cell_type": "code",
      "execution_count": null,
      "id": "0d273259-8776-4548-acf5-26d03ce75c86",
      "metadata": {
        "id": "0d273259-8776-4548-acf5-26d03ce75c86"
      },
      "outputs": [],
      "source": [
        "dataT = data_fund.T\n",
        "\n",
        "dataT['countries'] = dataT.index\n",
        "\n",
        "last_180_Day_Usage_Count_std_list = []\n",
        "last_180_Day_Usage_Count_median_list = []\n",
        "last_180_Day_Usage_Count_mean_list = []\n",
        "last_180_Day_Usage_Count_sum_list = []\n",
        "for country in data.columns:\n",
        "    last_180_Day_Usage_Count_sum_list.append(data_fund.dropna(subset=[country])['180 Day Usage Count'].sum())\n",
        "    last_180_Day_Usage_Count_mean_list.append(data_fund.dropna(subset=[country])['180 Day Usage Count'].mean())\n",
        "\n",
        "# rename countries names on columns\n",
        "countries = list(dataT.index)\n",
        "last_180_Day_Usage_Count_sum  = last_180_Day_Usage_Count_sum_list\n",
        "last_180_Day_Usage_Count_mean = last_180_Day_Usage_Count_mean_list\n",
        "\n",
        "dataT_sum = pd.DataFrame({'countries': countries, 'fund_180_Day_Usage_Count_sum': last_180_Day_Usage_Count_sum})\n",
        "dataT_mean = pd.DataFrame({'countries': countries, 'fund_180_Day_Usage_Count_mean': last_180_Day_Usage_Count_mean_list})\n",
        "\n",
        "# ********\n",
        "dataT_concat = dataT.reset_index().merge(dataT_sum, on = 'countries', how='left')\n",
        "dataT_concat = dataT_concat.merge(dataT_mean, on = 'countries', how='left')\n",
        "\n",
        "dataT_concat['fund_180_Day_Usage_Count_count'] = dataT_concat['fund_180_Day_Usage_Count_sum']/dataT_concat['fund_180_Day_Usage_Count_mean']\n",
        "\n",
        "#####\n",
        "\n",
        "\n",
        "dataT_concat_fund_180_day = dataT_concat[['countries','fund_180_Day_Usage_Count_sum','fund_180_Day_Usage_Count_mean','fund_180_Day_Usage_Count_count']].set_index('countries')\n",
        "\n",
        "# save data\n",
        "# dataT_concat_fund.to_csv(f'../TABLES/countries_fund_last_180_Day_Usage_Count_sum_mean.csv')\n",
        "dataT_concat_fund_180_day"
      ]
    },
    {
      "cell_type": "code",
      "execution_count": null,
      "id": "c5d2d1e2-8280-4dda-8465-6156545a6346",
      "metadata": {
        "id": "c5d2d1e2-8280-4dda-8465-6156545a6346"
      },
      "outputs": [],
      "source": []
    },
    {
      "cell_type": "markdown",
      "id": "3dac3023-f79b-4339-a9b6-0f87470a8559",
      "metadata": {
        "id": "3dac3023-f79b-4339-a9b6-0f87470a8559"
      },
      "source": [
        "### proportion no fund research"
      ]
    },
    {
      "cell_type": "code",
      "execution_count": null,
      "id": "b528f2b7-9926-44d4-9eed-49e901d5f584",
      "metadata": {
        "id": "b528f2b7-9926-44d4-9eed-49e901d5f584"
      },
      "outputs": [],
      "source": [
        "data_no_fund = data.loc[data['funding_yes'] == 0]\n",
        "data_no_fund"
      ]
    },
    {
      "cell_type": "code",
      "execution_count": null,
      "id": "d7feaba7-0a5c-4a8b-b055-e3e1e9bbd4d2",
      "metadata": {
        "id": "d7feaba7-0a5c-4a8b-b055-e3e1e9bbd4d2"
      },
      "outputs": [],
      "source": []
    },
    {
      "cell_type": "code",
      "execution_count": null,
      "id": "049cf2ae-e79d-46bf-80cf-f7279b2e2375",
      "metadata": {
        "id": "049cf2ae-e79d-46bf-80cf-f7279b2e2375"
      },
      "outputs": [],
      "source": [
        "dataT = data_no_fund.T\n",
        "\n",
        "dataT['countries'] = dataT.index\n",
        "\n",
        "last_180_Day_Usage_Count_std_list = []\n",
        "last_180_Day_Usage_Count_median_list = []\n",
        "last_180_Day_Usage_Count_mean_list = []\n",
        "last_180_Day_Usage_Count_sum_list = []\n",
        "for country in data.columns:\n",
        "    last_180_Day_Usage_Count_sum_list.append(data_no_fund.dropna(subset=[country])['180 Day Usage Count'].sum())\n",
        "    last_180_Day_Usage_Count_mean_list.append(data_no_fund.dropna(subset=[country])['180 Day Usage Count'].mean())\n",
        "\n",
        "# rename countries names on columns\n",
        "countries = list(dataT.index)\n",
        "last_180_Day_Usage_Count_sum  = last_180_Day_Usage_Count_sum_list\n",
        "# female_std = female_std_list\n",
        "# female_median = female_median_list\n",
        "last_180_Day_Usage_Count_mean = last_180_Day_Usage_Count_mean_list\n",
        "\n",
        "dataT_sum = pd.DataFrame({'countries': countries, 'no_fund_180_Day_Usage_Count_sum': last_180_Day_Usage_Count_sum})\n",
        "dataT_mean = pd.DataFrame({'countries': countries, 'no_fund_180_Day_Usage_Count_mean': last_180_Day_Usage_Count_mean_list})\n",
        "\n",
        "# ********\n",
        "dataT_concat = dataT.reset_index().merge(dataT_sum, on = 'countries', how='left')\n",
        "dataT_concat = dataT_concat.merge(dataT_mean, on = 'countries', how='left')\n",
        "\n",
        "dataT_concat['no_fund_180_Day_Usage_Count_count'] = dataT_concat['no_fund_180_Day_Usage_Count_sum']/dataT_concat['no_fund_180_Day_Usage_Count_mean']\n",
        "\n",
        "#####\n",
        "\n",
        "\n",
        "dataT_concat_no_fund_180_day = dataT_concat[['countries','no_fund_180_Day_Usage_Count_sum','no_fund_180_Day_Usage_Count_mean','no_fund_180_Day_Usage_Count_count']].set_index('countries')\n",
        "\n",
        "# save data\n",
        "# dataT_concat_no_fund.to_csv(f'../TABLES/countries_no_fund_last_180_Day_Usage_Count_sum_mean_count.csv')\n",
        "dataT_concat_no_fund_180_day"
      ]
    },
    {
      "cell_type": "code",
      "execution_count": null,
      "id": "aaf575bf-eb89-4092-9746-6a4385f2024f",
      "metadata": {
        "id": "aaf575bf-eb89-4092-9746-6a4385f2024f"
      },
      "outputs": [],
      "source": []
    },
    {
      "cell_type": "markdown",
      "id": "2919ad6b-0781-4ff7-83c5-d4e9d33baf84",
      "metadata": {
        "id": "2919ad6b-0781-4ff7-83c5-d4e9d33baf84"
      },
      "source": [
        "### concat and save data"
      ]
    },
    {
      "cell_type": "code",
      "execution_count": null,
      "id": "f48916d0-ba35-4b6a-bd94-2559a57e926c",
      "metadata": {
        "tags": [],
        "id": "f48916d0-ba35-4b6a-bd94-2559a57e926c"
      },
      "outputs": [],
      "source": [
        "# concatenate dataframes on index\n",
        "concat_data_pub_180_day_list = pd.concat([dataT_concat_all_180_day,\n",
        "                                    dataT_concat_fund_180_day,\n",
        "                                    dataT_concat_no_fund_180_day],\n",
        "                                    axis=1)\n",
        "# save data\n",
        "concat_data_pub_180_day_list.to_csv(f'../TABLES/concat_data_pub_180_day_usage_list.csv')\n",
        "concat_data_pub_180_day_list"
      ]
    },
    {
      "cell_type": "code",
      "execution_count": null,
      "id": "6e68835e-66bb-4e82-ab4f-579069a87b29",
      "metadata": {
        "id": "6e68835e-66bb-4e82-ab4f-579069a87b29"
      },
      "outputs": [],
      "source": []
    },
    {
      "cell_type": "code",
      "execution_count": null,
      "id": "d4e1b0f3-3bfc-4b90-b893-5b0bd816a27e",
      "metadata": {
        "id": "d4e1b0f3-3bfc-4b90-b893-5b0bd816a27e"
      },
      "outputs": [],
      "source": []
    },
    {
      "cell_type": "markdown",
      "id": "d7f0d07a-7054-496a-b2b8-7aa426029b27",
      "metadata": {
        "id": "d7f0d07a-7054-496a-b2b8-7aa426029b27"
      },
      "source": [
        "### significance"
      ]
    },
    {
      "cell_type": "code",
      "execution_count": null,
      "id": "b118b25b-9a83-41df-99c5-b344e98511e0",
      "metadata": {
        "id": "b118b25b-9a83-41df-99c5-b344e98511e0"
      },
      "outputs": [],
      "source": [
        "df_fund = data[['funding_yes','180 Day Usage Count']]\n",
        "df_fund"
      ]
    },
    {
      "cell_type": "code",
      "execution_count": null,
      "id": "26f84644-a89d-40b9-9224-61199e09141d",
      "metadata": {
        "id": "26f84644-a89d-40b9-9224-61199e09141d"
      },
      "outputs": [],
      "source": [
        "df_fund.count()"
      ]
    },
    {
      "cell_type": "code",
      "execution_count": null,
      "id": "70401c9b-e82e-4522-96c6-d56284f92fbc",
      "metadata": {
        "id": "70401c9b-e82e-4522-96c6-d56284f92fbc"
      },
      "outputs": [],
      "source": [
        "df_fund.reset_index().groupby(['funding_yes']).count()"
      ]
    },
    {
      "cell_type": "code",
      "execution_count": null,
      "id": "b2396449-9116-425d-a538-ade9b27c41e2",
      "metadata": {
        "id": "b2396449-9116-425d-a538-ade9b27c41e2"
      },
      "outputs": [],
      "source": [
        "df_fund = df_fund.dropna()\n",
        "df_fund"
      ]
    },
    {
      "cell_type": "code",
      "execution_count": null,
      "id": "e94a24ab-ee48-48cb-bd16-a563b7bf00d6",
      "metadata": {
        "id": "e94a24ab-ee48-48cb-bd16-a563b7bf00d6"
      },
      "outputs": [],
      "source": [
        "df_fund.reset_index().groupby(['funding_yes']).count()"
      ]
    },
    {
      "cell_type": "code",
      "execution_count": null,
      "id": "3003428e-5ebf-4610-b30c-0a79057bd353",
      "metadata": {
        "id": "3003428e-5ebf-4610-b30c-0a79057bd353"
      },
      "outputs": [],
      "source": [
        "df_fund.describe()"
      ]
    },
    {
      "cell_type": "code",
      "execution_count": null,
      "id": "22986f1a-5d39-4ef6-a1de-9552b6082278",
      "metadata": {
        "id": "22986f1a-5d39-4ef6-a1de-9552b6082278"
      },
      "outputs": [],
      "source": [
        "df_fund.loc[df_fund['funding_yes'] == 0].describe()"
      ]
    },
    {
      "cell_type": "code",
      "execution_count": null,
      "id": "af6c75d1-921e-42c2-90ef-9b0b8293be07",
      "metadata": {
        "id": "af6c75d1-921e-42c2-90ef-9b0b8293be07"
      },
      "outputs": [],
      "source": [
        "df_fund.loc[df_fund['funding_yes'] == 1].describe()"
      ]
    },
    {
      "cell_type": "code",
      "execution_count": null,
      "id": "4b0a1fa4-8c5d-4c8e-b7c8-4faf574a7128",
      "metadata": {
        "id": "4b0a1fa4-8c5d-4c8e-b7c8-4faf574a7128"
      },
      "outputs": [],
      "source": [
        "#------------"
      ]
    },
    {
      "cell_type": "code",
      "execution_count": null,
      "id": "cc637ddd-1d9c-49e0-9b80-da884ecd5d9e",
      "metadata": {
        "id": "cc637ddd-1d9c-49e0-9b80-da884ecd5d9e"
      },
      "outputs": [],
      "source": [
        "fund_TCA = df_fund.loc[df_fund['funding_yes'] == 1]['180 Day Usage Count'].to_list()\n",
        "fund_TCA[:15]"
      ]
    },
    {
      "cell_type": "code",
      "execution_count": null,
      "id": "f76aff87-c9c7-4258-9b28-acea4da57141",
      "metadata": {
        "id": "f76aff87-c9c7-4258-9b28-acea4da57141"
      },
      "outputs": [],
      "source": [
        "no_fund_TCA = df_fund.loc[df_fund['funding_yes'] == 0]['180 Day Usage Count'].to_list()"
      ]
    },
    {
      "cell_type": "code",
      "execution_count": null,
      "id": "54ccd4bf-4e72-4d36-8c44-a9eb61cf0c15",
      "metadata": {
        "id": "54ccd4bf-4e72-4d36-8c44-a9eb61cf0c15"
      },
      "outputs": [],
      "source": []
    },
    {
      "cell_type": "code",
      "execution_count": null,
      "id": "d4a92cf7-ca7c-4777-94a3-99f586ba0467",
      "metadata": {
        "id": "d4a92cf7-ca7c-4777-94a3-99f586ba0467"
      },
      "outputs": [],
      "source": [
        "test_sig(fund_TCA, no_fund_TCA)"
      ]
    },
    {
      "cell_type": "code",
      "execution_count": null,
      "id": "1312d01b-8970-44c2-b993-fbbb0ec6f7df",
      "metadata": {
        "id": "1312d01b-8970-44c2-b993-fbbb0ec6f7df"
      },
      "outputs": [],
      "source": []
    },
    {
      "cell_type": "raw",
      "id": "cfbfbbf0-cedd-451f-acbb-0455b4cfbbce",
      "metadata": {
        "id": "cfbfbbf0-cedd-451f-acbb-0455b4cfbbce"
      },
      "source": [
        "https://plotly.com/python/box-plots/"
      ]
    },
    {
      "cell_type": "code",
      "execution_count": null,
      "id": "cd3c6bd0-79ff-4f55-b21f-7c49075942fd",
      "metadata": {
        "id": "cd3c6bd0-79ff-4f55-b21f-7c49075942fd"
      },
      "outputs": [],
      "source": [
        "import plotly.express as px\n",
        "fig = px.box(df_fund, x=\"funding_yes\", y=\"180 Day Usage Count\", color=\"funding_yes\")\n",
        "# setting the y-axis range from 0 to 50\n",
        "fig.update_layout(yaxis_range=[-2,100])\n",
        "fig.update_layout(font_size=20)\n",
        "\n",
        "fig.show()"
      ]
    },
    {
      "cell_type": "code",
      "execution_count": null,
      "id": "f2622e95-c6eb-41d8-b9d7-8b88eeb5ae34",
      "metadata": {
        "id": "f2622e95-c6eb-41d8-b9d7-8b88eeb5ae34"
      },
      "outputs": [],
      "source": []
    },
    {
      "cell_type": "code",
      "execution_count": null,
      "id": "4e1df3dc-3e8b-42bc-b4f1-2cdb910b41bf",
      "metadata": {
        "id": "4e1df3dc-3e8b-42bc-b4f1-2cdb910b41bf"
      },
      "outputs": [],
      "source": []
    },
    {
      "cell_type": "markdown",
      "id": "d23a342a-e840-4363-8904-16bead016dfd",
      "metadata": {
        "id": "d23a342a-e840-4363-8904-16bead016dfd"
      },
      "source": [
        "## 'Since 2013 Usage Count'"
      ]
    },
    {
      "cell_type": "markdown",
      "id": "c2f8cb49-890b-42f5-bc78-93de6c65efcf",
      "metadata": {
        "id": "c2f8cb49-890b-42f5-bc78-93de6c65efcf"
      },
      "source": [
        "### proportion all"
      ]
    },
    {
      "cell_type": "code",
      "execution_count": null,
      "id": "d7bf70b3-869b-4182-aa09-4cb2a8fc3716",
      "metadata": {
        "id": "d7bf70b3-869b-4182-aa09-4cb2a8fc3716"
      },
      "outputs": [],
      "source": [
        "dataT = data.T\n",
        "\n",
        "dataT['countries'] = dataT.index\n",
        "\n",
        "Since_2013_Usage_Coun_std_list = []\n",
        "Since_2013_Usage_Coun_median_list = []\n",
        "Since_2013_Usage_Coun_mean_list = []\n",
        "Since_2013_Usage_Coun_sum_list = []\n",
        "for country in data.columns:\n",
        "    Since_2013_Usage_Coun_sum_list.append(data.dropna(subset=[country])['Since 2013 Usage Count'].sum())\n",
        "    Since_2013_Usage_Coun_mean_list.append(data.dropna(subset=[country])['Since 2013 Usage Count'].mean())\n",
        "\n",
        "# rename countries names on columns\n",
        "countries = list(dataT.index)\n",
        "Since_2013_Usage_Coun_sum  = Since_2013_Usage_Coun_sum_list\n",
        "Since_2013_Usage_Coun_mean = Since_2013_Usage_Coun_mean_list\n",
        "\n",
        "dataT_sum = pd.DataFrame({'countries': countries, 'all_since_2013_Usage_Coun_sum': Since_2013_Usage_Coun_sum})\n",
        "dataT_mean = pd.DataFrame({'countries': countries, 'all_since_2013_Usage_Coun_mean': Since_2013_Usage_Coun_mean_list})\n",
        "\n",
        "# ********\n",
        "dataT_concat = dataT.reset_index().merge(dataT_sum, on = 'countries', how='left')\n",
        "dataT_concat = dataT_concat.merge(dataT_mean, on = 'countries', how='left')\n",
        "\n",
        "dataT_concat['all_since_2013_Usage_Coun_count'] = dataT_concat['all_since_2013_Usage_Coun_sum']/dataT_concat['all_since_2013_Usage_Coun_mean']\n",
        "\n",
        "#####\n",
        "\n",
        "\n",
        "dataT_concat_all_since2013usage = dataT_concat[['countries','all_since_2013_Usage_Coun_sum','all_since_2013_Usage_Coun_mean','all_since_2013_Usage_Coun_count']].set_index('countries')\n",
        "\n",
        "# save data\n",
        "# dataT_concat_all.to_csv(f'../TABLES/countries_Since_2013_Usage_Count_sum_mean.csv')\n",
        "dataT_concat_all_since2013usage"
      ]
    },
    {
      "cell_type": "code",
      "execution_count": null,
      "id": "192b2b11-b16f-44c9-8fed-fe7d62ed99e8",
      "metadata": {
        "id": "192b2b11-b16f-44c9-8fed-fe7d62ed99e8"
      },
      "outputs": [],
      "source": [
        "len(Since_2013_Usage_Coun_sum)"
      ]
    },
    {
      "cell_type": "code",
      "execution_count": null,
      "id": "9c109348-3615-4d2b-bbb2-76af605a396b",
      "metadata": {
        "id": "9c109348-3615-4d2b-bbb2-76af605a396b"
      },
      "outputs": [],
      "source": [
        "len(Since_2013_Usage_Coun_mean)"
      ]
    },
    {
      "cell_type": "code",
      "execution_count": null,
      "id": "ea70bba0-6205-4261-b0e7-9b1f2e1ef6ab",
      "metadata": {
        "id": "ea70bba0-6205-4261-b0e7-9b1f2e1ef6ab"
      },
      "outputs": [],
      "source": []
    },
    {
      "cell_type": "markdown",
      "id": "167f3c1e-dc5b-4444-8495-3d76eb3f13fd",
      "metadata": {
        "id": "167f3c1e-dc5b-4444-8495-3d76eb3f13fd"
      },
      "source": [
        "### proportion fund research"
      ]
    },
    {
      "cell_type": "code",
      "execution_count": null,
      "id": "6278bb65-38d3-451e-86f8-a4c1245d1b42",
      "metadata": {
        "id": "6278bb65-38d3-451e-86f8-a4c1245d1b42"
      },
      "outputs": [],
      "source": [
        "data_fund = data.loc[data['funding_yes'] == 1]\n",
        "data_fund.shape"
      ]
    },
    {
      "cell_type": "code",
      "execution_count": null,
      "id": "2cf4cea8-e415-4570-a07c-05955217207c",
      "metadata": {
        "id": "2cf4cea8-e415-4570-a07c-05955217207c"
      },
      "outputs": [],
      "source": []
    },
    {
      "cell_type": "code",
      "execution_count": null,
      "id": "42ccbbbd-d99b-45a8-a5c1-34fd3c8780af",
      "metadata": {
        "id": "42ccbbbd-d99b-45a8-a5c1-34fd3c8780af"
      },
      "outputs": [],
      "source": [
        "dataT = data_fund.T\n",
        "\n",
        "dataT['countries'] = dataT.index\n",
        "\n",
        "Since_2013_Usage_Coun_std_list = []\n",
        "Since_2013_Usage_Coun_median_list = []\n",
        "Since_2013_Usage_Coun_mean_list = []\n",
        "Since_2013_Usage_Coun_sum_list = []\n",
        "for country in data.columns:\n",
        "    Since_2013_Usage_Coun_sum_list.append(data_fund.dropna(subset=[country])['Since 2013 Usage Count'].sum())\n",
        "    Since_2013_Usage_Coun_mean_list.append(data_fund.dropna(subset=[country])['Since 2013 Usage Count'].mean())\n",
        "\n",
        "# rename countries names on columns\n",
        "countries = list(dataT.index)\n",
        "Since_2013_Usage_Coun_sum  = Since_2013_Usage_Coun_sum_list\n",
        "Since_2013_Usage_Coun_mean = Since_2013_Usage_Coun_mean_list\n",
        "\n",
        "dataT_sum = pd.DataFrame({'countries': countries, 'fund_since_2013_Usage_Coun_sum': Since_2013_Usage_Coun_sum})\n",
        "dataT_mean = pd.DataFrame({'countries': countries, 'fund_since_2013_Usage_Coun_mean': Since_2013_Usage_Coun_mean_list})\n",
        "\n",
        "# ********\n",
        "dataT_concat = dataT.reset_index().merge(dataT_sum, on = 'countries', how='left')\n",
        "dataT_concat = dataT_concat.merge(dataT_mean, on = 'countries', how='left')\n",
        "\n",
        "dataT_concat['fund_since_2013_Usage_Coun_count'] = dataT_concat['fund_since_2013_Usage_Coun_sum']/dataT_concat['fund_since_2013_Usage_Coun_mean']\n",
        "\n",
        "#####\n",
        "\n",
        "\n",
        "dataT_concat_fund_since2013usage = dataT_concat[['countries','fund_since_2013_Usage_Coun_sum','fund_since_2013_Usage_Coun_mean','fund_since_2013_Usage_Coun_count']].set_index('countries')\n",
        "\n",
        "# save data\n",
        "# dataT_concat_fund.to_csv(f'../TABLES/countries_fund_Since_2013_Usage_Count_sum_mean.csv')\n",
        "dataT_concat_fund_since2013usage"
      ]
    },
    {
      "cell_type": "code",
      "execution_count": null,
      "id": "c9a0425d-c006-46ce-8b7c-7f6ecd0566de",
      "metadata": {
        "id": "c9a0425d-c006-46ce-8b7c-7f6ecd0566de"
      },
      "outputs": [],
      "source": []
    },
    {
      "cell_type": "markdown",
      "id": "0d83e39d-8063-4564-8a37-2687402de18b",
      "metadata": {
        "id": "0d83e39d-8063-4564-8a37-2687402de18b"
      },
      "source": [
        "### proportion no fund research"
      ]
    },
    {
      "cell_type": "code",
      "execution_count": null,
      "id": "7c5d686b-dbf1-4763-9bf8-99a51eced457",
      "metadata": {
        "id": "7c5d686b-dbf1-4763-9bf8-99a51eced457"
      },
      "outputs": [],
      "source": [
        "data_no_fund = data.loc[data['funding_yes'] == 0]\n",
        "data_no_fund.shape"
      ]
    },
    {
      "cell_type": "code",
      "execution_count": null,
      "id": "e562f4b9-01e2-48df-9c4b-529293e3fd62",
      "metadata": {
        "id": "e562f4b9-01e2-48df-9c4b-529293e3fd62"
      },
      "outputs": [],
      "source": []
    },
    {
      "cell_type": "code",
      "execution_count": null,
      "id": "71ce3e65-25b1-4e28-a6ac-4b30bdc12e32",
      "metadata": {
        "id": "71ce3e65-25b1-4e28-a6ac-4b30bdc12e32"
      },
      "outputs": [],
      "source": [
        "dataT = data_no_fund.T\n",
        "\n",
        "dataT['countries'] = dataT.index\n",
        "\n",
        "Since_2013_Usage_Coun_std_list = []\n",
        "Since_2013_Usage_Coun_median_list = []\n",
        "Since_2013_Usage_Coun_mean_list = []\n",
        "Since_2013_Usage_Coun_sum_list = []\n",
        "for country in data.columns:\n",
        "    Since_2013_Usage_Coun_sum_list.append(data_no_fund.dropna(subset=[country])['Since 2013 Usage Count'].sum())\n",
        "    Since_2013_Usage_Coun_mean_list.append(data_no_fund.dropna(subset=[country])['Since 2013 Usage Count'].mean())\n",
        "\n",
        "# rename countries names on columns\n",
        "countries = list(dataT.index)\n",
        "Since_2013_Usage_Coun_sum  = Since_2013_Usage_Coun_sum_list\n",
        "Since_2013_Usage_Coun_mean = Since_2013_Usage_Coun_mean_list\n",
        "\n",
        "dataT_sum = pd.DataFrame({'countries': countries, 'no_fund_since_2013_Usage_Coun_sum': Since_2013_Usage_Coun_sum})\n",
        "dataT_mean = pd.DataFrame({'countries': countries, 'no_fund_since_2013_Usage_Coun_mean': Since_2013_Usage_Coun_mean_list})\n",
        "\n",
        "# ********\n",
        "dataT_concat = dataT.reset_index().merge(dataT_sum, on = 'countries', how='left')\n",
        "dataT_concat = dataT_concat.merge(dataT_mean, on = 'countries', how='left')\n",
        "\n",
        "dataT_concat['no_fund_since_2013_Usage_Coun_count'] = dataT_concat['no_fund_since_2013_Usage_Coun_sum']/dataT_concat['no_fund_since_2013_Usage_Coun_mean']\n",
        "\n",
        "#####\n",
        "\n",
        "\n",
        "dataT_concat_no_fund_since2013usage = dataT_concat[['countries','no_fund_since_2013_Usage_Coun_sum','no_fund_since_2013_Usage_Coun_mean','no_fund_since_2013_Usage_Coun_count']].set_index('countries')\n",
        "\n",
        "# save data\n",
        "# dataT_concat_no_fund.to_csv(f'../TABLES/countries_no_fund_Since_2013_Usage_Count_sum_mean.csv')\n",
        "dataT_concat_no_fund_since2013usage"
      ]
    },
    {
      "cell_type": "code",
      "execution_count": null,
      "id": "ccd9fce8-050a-4d4b-9d6c-e19c443b5895",
      "metadata": {
        "id": "ccd9fce8-050a-4d4b-9d6c-e19c443b5895"
      },
      "outputs": [],
      "source": []
    },
    {
      "cell_type": "markdown",
      "id": "0d13c8fe-7a28-47eb-b25f-74acbf737800",
      "metadata": {
        "id": "0d13c8fe-7a28-47eb-b25f-74acbf737800"
      },
      "source": [
        "### concat and save data"
      ]
    },
    {
      "cell_type": "code",
      "execution_count": null,
      "id": "fedf1321-afec-4880-907f-ad91b0f691be",
      "metadata": {
        "tags": [],
        "id": "fedf1321-afec-4880-907f-ad91b0f691be"
      },
      "outputs": [],
      "source": [
        "# concatenate dataframes on index\n",
        "concat_data_pub_female_list = pd.concat([dataT_concat_all_since2013usage,\n",
        "                                    dataT_concat_fund_since2013usage,\n",
        "                                    dataT_concat_no_fund_since2013usage],\n",
        "                                    axis=1)\n",
        "# save data\n",
        "concat_data_pub_female_list.to_csv(f'../TABLES/concat_data_pub_since2013usage_list.csv')\n",
        "concat_data_pub_female_list"
      ]
    },
    {
      "cell_type": "code",
      "execution_count": null,
      "id": "3cd40615-1bb2-4923-988e-f21d95bbd9a3",
      "metadata": {
        "id": "3cd40615-1bb2-4923-988e-f21d95bbd9a3"
      },
      "outputs": [],
      "source": []
    },
    {
      "cell_type": "markdown",
      "id": "8e9b2e5c-c949-4e68-9a96-b5f78437bda1",
      "metadata": {
        "id": "8e9b2e5c-c949-4e68-9a96-b5f78437bda1"
      },
      "source": [
        "### significance"
      ]
    },
    {
      "cell_type": "code",
      "execution_count": null,
      "id": "ea5a50c0-faae-499e-b4a4-633a20c65cfa",
      "metadata": {
        "id": "ea5a50c0-faae-499e-b4a4-633a20c65cfa"
      },
      "outputs": [],
      "source": [
        "df_fund = data[['funding_yes','Since 2013 Usage Count']]\n",
        "df_fund"
      ]
    },
    {
      "cell_type": "code",
      "execution_count": null,
      "id": "b401fa23-052a-44ba-a162-02b16343d856",
      "metadata": {
        "id": "b401fa23-052a-44ba-a162-02b16343d856"
      },
      "outputs": [],
      "source": [
        "df_fund.count()"
      ]
    },
    {
      "cell_type": "code",
      "execution_count": null,
      "id": "e58fb5f9-3960-4c49-8f1b-3aad54768f10",
      "metadata": {
        "id": "e58fb5f9-3960-4c49-8f1b-3aad54768f10"
      },
      "outputs": [],
      "source": [
        "df_fund.reset_index().groupby(['funding_yes']).count()"
      ]
    },
    {
      "cell_type": "code",
      "execution_count": null,
      "id": "c8c235cc-d0fd-469c-b66c-b83c3f27e947",
      "metadata": {
        "id": "c8c235cc-d0fd-469c-b66c-b83c3f27e947"
      },
      "outputs": [],
      "source": [
        "df_fund = df_fund.dropna()\n",
        "df_fund"
      ]
    },
    {
      "cell_type": "code",
      "execution_count": null,
      "id": "32eb3cbb-8f31-42ad-be1e-0e2e7c95a409",
      "metadata": {
        "id": "32eb3cbb-8f31-42ad-be1e-0e2e7c95a409"
      },
      "outputs": [],
      "source": [
        "df_fund.reset_index().groupby(['funding_yes']).count()"
      ]
    },
    {
      "cell_type": "code",
      "execution_count": null,
      "id": "c7a3b719-7258-4bae-a231-63e4248abb64",
      "metadata": {
        "id": "c7a3b719-7258-4bae-a231-63e4248abb64"
      },
      "outputs": [],
      "source": [
        "df_fund.describe()"
      ]
    },
    {
      "cell_type": "code",
      "execution_count": null,
      "id": "3cca72eb-e588-4038-9f3b-2ba5cfd348d7",
      "metadata": {
        "id": "3cca72eb-e588-4038-9f3b-2ba5cfd348d7"
      },
      "outputs": [],
      "source": [
        "df_fund.loc[df_fund['funding_yes'] == 0].describe()"
      ]
    },
    {
      "cell_type": "code",
      "execution_count": null,
      "id": "3e54b980-ac37-4ba6-8cfe-3419699077fc",
      "metadata": {
        "id": "3e54b980-ac37-4ba6-8cfe-3419699077fc"
      },
      "outputs": [],
      "source": [
        "df_fund.loc[df_fund['funding_yes'] == 1].describe()"
      ]
    },
    {
      "cell_type": "code",
      "execution_count": null,
      "id": "839ac1a2-1b9d-4399-b02d-994991bb51f6",
      "metadata": {
        "id": "839ac1a2-1b9d-4399-b02d-994991bb51f6"
      },
      "outputs": [],
      "source": [
        "#------------"
      ]
    },
    {
      "cell_type": "code",
      "execution_count": null,
      "id": "bafcfde8-3eac-4d76-a72b-255264cca5f4",
      "metadata": {
        "id": "bafcfde8-3eac-4d76-a72b-255264cca5f4"
      },
      "outputs": [],
      "source": [
        "fund_TCA = df_fund.loc[df_fund['funding_yes'] == 1]['Since 2013 Usage Count'].to_list()\n",
        "fund_TCA[:15]"
      ]
    },
    {
      "cell_type": "code",
      "execution_count": null,
      "id": "f29b4cf7-647c-4d6c-980b-dc66ca7e78ca",
      "metadata": {
        "id": "f29b4cf7-647c-4d6c-980b-dc66ca7e78ca"
      },
      "outputs": [],
      "source": [
        "no_fund_TCA = df_fund.loc[df_fund['funding_yes'] == 0]['Since 2013 Usage Count'].to_list()"
      ]
    },
    {
      "cell_type": "code",
      "execution_count": null,
      "id": "c546ef9d-2349-4d79-9719-9c42c1ec5a0c",
      "metadata": {
        "id": "c546ef9d-2349-4d79-9719-9c42c1ec5a0c"
      },
      "outputs": [],
      "source": []
    },
    {
      "cell_type": "code",
      "execution_count": null,
      "id": "2e8bd8b8-3e9d-4004-bab4-c514581e9b58",
      "metadata": {
        "id": "2e8bd8b8-3e9d-4004-bab4-c514581e9b58"
      },
      "outputs": [],
      "source": [
        "test_sig(fund_TCA, no_fund_TCA)"
      ]
    },
    {
      "cell_type": "code",
      "execution_count": null,
      "id": "bb4b4988-e94a-4501-8011-0b781b966e91",
      "metadata": {
        "id": "bb4b4988-e94a-4501-8011-0b781b966e91"
      },
      "outputs": [],
      "source": []
    },
    {
      "cell_type": "raw",
      "id": "8eeb539c-523a-4628-b786-cfd6662298fd",
      "metadata": {
        "id": "8eeb539c-523a-4628-b786-cfd6662298fd"
      },
      "source": [
        "https://plotly.com/python/box-plots/"
      ]
    },
    {
      "cell_type": "code",
      "execution_count": null,
      "id": "3c84e620-1005-4ca8-a7e8-c89f1cd64b7c",
      "metadata": {
        "id": "3c84e620-1005-4ca8-a7e8-c89f1cd64b7c"
      },
      "outputs": [],
      "source": [
        "import plotly.express as px\n",
        "fig = px.box(df_fund, x=\"funding_yes\", y=\"Since 2013 Usage Count\", color=\"funding_yes\")\n",
        "# setting the y-axis range from 0 to 50\n",
        "fig.update_layout(yaxis_range=[-2,100])\n",
        "fig.update_layout(font_size=20)\n",
        "\n",
        "fig.show()"
      ]
    },
    {
      "cell_type": "code",
      "execution_count": null,
      "id": "af219d26-f7dc-44f6-bac2-b7347edab548",
      "metadata": {
        "id": "af219d26-f7dc-44f6-bac2-b7347edab548"
      },
      "outputs": [],
      "source": []
    },
    {
      "cell_type": "code",
      "execution_count": null,
      "id": "1eacbb47-e21e-4abf-b295-5a66c06f5b94",
      "metadata": {
        "id": "1eacbb47-e21e-4abf-b295-5a66c06f5b94"
      },
      "outputs": [],
      "source": []
    },
    {
      "cell_type": "code",
      "execution_count": null,
      "id": "286291e5-244e-4c2e-b954-2d44b1600795",
      "metadata": {
        "id": "286291e5-244e-4c2e-b954-2d44b1600795"
      },
      "outputs": [],
      "source": []
    },
    {
      "cell_type": "code",
      "execution_count": null,
      "id": "e51ba256-5c5c-473e-b7c8-40b59c71a561",
      "metadata": {
        "id": "e51ba256-5c5c-473e-b7c8-40b59c71a561"
      },
      "outputs": [],
      "source": []
    }
  ],
  "metadata": {
    "kernelspec": {
      "display_name": "Python 3 (ipykernel)",
      "language": "python",
      "name": "python3"
    },
    "language_info": {
      "codemirror_mode": {
        "name": "ipython",
        "version": 3
      },
      "file_extension": ".py",
      "mimetype": "text/x-python",
      "name": "python",
      "nbconvert_exporter": "python",
      "pygments_lexer": "ipython3",
      "version": "3.8.8"
    },
    "colab": {
      "provenance": [],
      "include_colab_link": true
    }
  },
  "nbformat": 4,
  "nbformat_minor": 5
}