{
  "cells": [
    {
      "cell_type": "markdown",
      "metadata": {
        "id": "view-in-github",
        "colab_type": "text"
      },
      "source": [
        "<a href=\"https://colab.research.google.com/github/descartesmbogning/Marburg-virus-research/blob/main/3_analysis_number_of_institution.ipynb\" target=\"_parent\"><img src=\"https://colab.research.google.com/assets/colab-badge.svg\" alt=\"Open In Colab\"/></a>"
      ]
    },
    {
      "cell_type": "code",
      "execution_count": null,
      "id": "3dc7f689-773e-4971-a55f-d3c09667b68a",
      "metadata": {
        "id": "3dc7f689-773e-4971-a55f-d3c09667b68a"
      },
      "outputs": [],
      "source": [
        "import pandas as pd\n",
        "import numpy as np\n",
        "import re\n",
        "from functools import reduce\n",
        "import seaborn as sns\n",
        "import missingno as msno\n",
        "%matplotlib inline\n",
        "\n",
        "import matplotlib.pyplot as plt\n",
        "from scipy.stats import norm\n"
      ]
    },
    {
      "cell_type": "code",
      "execution_count": null,
      "id": "5fc276f9-95ac-4a3a-8e66-d6fbe79e78ab",
      "metadata": {
        "id": "5fc276f9-95ac-4a3a-8e66-d6fbe79e78ab"
      },
      "outputs": [],
      "source": [
        "# Set the figure size - handy for larger output\n",
        "from matplotlib import pyplot as plt\n",
        "plt.rcParams[\"figure.figsize\"] = [10, 6]\n",
        "# Set up with a higher resolution screen (useful on Mac)\n",
        "%config InlineBackend.figure_format = 'retina'"
      ]
    },
    {
      "cell_type": "code",
      "execution_count": null,
      "id": "933ef059-e908-4062-8d42-e359dec00daf",
      "metadata": {
        "id": "933ef059-e908-4062-8d42-e359dec00daf"
      },
      "outputs": [],
      "source": []
    },
    {
      "cell_type": "code",
      "execution_count": null,
      "id": "cd10aed2-20ef-46c3-bfc4-21c5a6b44cf9",
      "metadata": {
        "id": "cd10aed2-20ef-46c3-bfc4-21c5a6b44cf9"
      },
      "outputs": [],
      "source": [
        "from scipy import stats #the only import you actually need for this\n",
        "import numpy as np\n",
        "import seaborn as sns\n",
        "import pandas as pd\n",
        "import matplotlib.pyplot as plt\n",
        "%config InlineBackend.print_figure_kwargs={'facecolor' : \"w\"}"
      ]
    },
    {
      "cell_type": "code",
      "execution_count": null,
      "id": "8eec76ba-0d65-436f-ab00-09481a605fb1",
      "metadata": {
        "id": "8eec76ba-0d65-436f-ab00-09481a605fb1"
      },
      "outputs": [],
      "source": [
        "# function that tests distribution then picks test accordingly\n",
        "def test_sig(x, y):\n",
        "    if stats.shapiro(x).pvalue >= 0.05 and stats.shapiro(y).pvalue >= 0.05: #if they are normally distriuted\n",
        "        print(\"t-test\")\n",
        "        return stats.ttest_ind(x,y)\n",
        "    else:\n",
        "        print(\"mann-whitney\")\n",
        "        return stats.mannwhitneyu(x, y)"
      ]
    },
    {
      "cell_type": "code",
      "execution_count": null,
      "id": "afb593ee-6302-4bc3-8a6e-be700f7694cc",
      "metadata": {
        "id": "afb593ee-6302-4bc3-8a6e-be700f7694cc"
      },
      "outputs": [],
      "source": []
    },
    {
      "cell_type": "markdown",
      "id": "b72503cc-2c5c-45dd-8c0f-00f07b71bb10",
      "metadata": {
        "id": "b72503cc-2c5c-45dd-8c0f-00f07b71bb10"
      },
      "source": [
        "## import data"
      ]
    },
    {
      "cell_type": "code",
      "execution_count": null,
      "id": "89a5c933-26d3-4542-9b36-4c15e0d31483",
      "metadata": {
        "id": "89a5c933-26d3-4542-9b36-4c15e0d31483",
        "outputId": "ce0eb560-f100-4339-eec4-65f11c5cffdd"
      },
      "outputs": [
        {
          "data": {
            "text/html": [
              "<div>\n",
              "<style scoped>\n",
              "    .dataframe tbody tr th:only-of-type {\n",
              "        vertical-align: middle;\n",
              "    }\n",
              "\n",
              "    .dataframe tbody tr th {\n",
              "        vertical-align: top;\n",
              "    }\n",
              "\n",
              "    .dataframe thead th {\n",
              "        text-align: right;\n",
              "    }\n",
              "</style>\n",
              "<table border=\"1\" class=\"dataframe\">\n",
              "  <thead>\n",
              "    <tr style=\"text-align: right;\">\n",
              "      <th></th>\n",
              "      <th>Unnamed: 0</th>\n",
              "      <th>wos_ID</th>\n",
              "      <th>funding_yes</th>\n",
              "      <th>open_access_yes</th>\n",
              "      <th>Funding Name Preferred</th>\n",
              "      <th>europe and central asia</th>\n",
              "      <th>north america</th>\n",
              "      <th>africa</th>\n",
              "      <th>sub-saharan africa</th>\n",
              "      <th>east asia and pacific</th>\n",
              "      <th>...</th>\n",
              "      <th>fulbright foundation - usa</th>\n",
              "      <th>world bank - multilateral</th>\n",
              "      <th>china association for science and technology - china</th>\n",
              "      <th>zhejiang university - china</th>\n",
              "      <th>Funding Orgs</th>\n",
              "      <th>Open Access Designations</th>\n",
              "      <th>Times Cited, All Databases</th>\n",
              "      <th>180 Day Usage Count</th>\n",
              "      <th>Since 2013 Usage Count</th>\n",
              "      <th>Publication Year</th>\n",
              "    </tr>\n",
              "  </thead>\n",
              "  <tbody>\n",
              "    <tr>\n",
              "      <th>0</th>\n",
              "      <td>0</td>\n",
              "      <td>wos:000904661800001</td>\n",
              "      <td>0</td>\n",
              "      <td>1</td>\n",
              "      <td>NaN</td>\n",
              "      <td>NaN</td>\n",
              "      <td>NaN</td>\n",
              "      <td>NaN</td>\n",
              "      <td>NaN</td>\n",
              "      <td>NaN</td>\n",
              "      <td>...</td>\n",
              "      <td>NaN</td>\n",
              "      <td>NaN</td>\n",
              "      <td>NaN</td>\n",
              "      <td>NaN</td>\n",
              "      <td>NaN</td>\n",
              "      <td>green accepted, gold</td>\n",
              "      <td>NaN</td>\n",
              "      <td>14.0</td>\n",
              "      <td>14.0</td>\n",
              "      <td>2023.0</td>\n",
              "    </tr>\n",
              "    <tr>\n",
              "      <th>1</th>\n",
              "      <td>1</td>\n",
              "      <td>wos:000921279800001</td>\n",
              "      <td>1</td>\n",
              "      <td>1</td>\n",
              "      <td>National Institutes of Health (NIH)(United Sta...</td>\n",
              "      <td>NaN</td>\n",
              "      <td>2.0</td>\n",
              "      <td>NaN</td>\n",
              "      <td>NaN</td>\n",
              "      <td>NaN</td>\n",
              "      <td>...</td>\n",
              "      <td>NaN</td>\n",
              "      <td>NaN</td>\n",
              "      <td>NaN</td>\n",
              "      <td>NaN</td>\n",
              "      <td>national institutes of health (nih) [u19ai1427...</td>\n",
              "      <td>hybrid</td>\n",
              "      <td>NaN</td>\n",
              "      <td>NaN</td>\n",
              "      <td>NaN</td>\n",
              "      <td>2023.0</td>\n",
              "    </tr>\n",
              "  </tbody>\n",
              "</table>\n",
              "<p>2 rows × 521 columns</p>\n",
              "</div>"
            ],
            "text/plain": [
              "   Unnamed: 0               wos_ID  funding_yes  open_access_yes  \\\n",
              "0           0  wos:000904661800001            0                1   \n",
              "1           1  wos:000921279800001            1                1   \n",
              "\n",
              "                              Funding Name Preferred  europe and central asia  \\\n",
              "0                                                NaN                      NaN   \n",
              "1  National Institutes of Health (NIH)(United Sta...                      NaN   \n",
              "\n",
              "   north america  africa  sub-saharan africa  east asia and pacific  ...  \\\n",
              "0            NaN     NaN                 NaN                    NaN  ...   \n",
              "1            2.0     NaN                 NaN                    NaN  ...   \n",
              "\n",
              "   fulbright foundation - usa  world bank - multilateral  \\\n",
              "0                         NaN                        NaN   \n",
              "1                         NaN                        NaN   \n",
              "\n",
              "   china association for science and technology - china  \\\n",
              "0                                                NaN      \n",
              "1                                                NaN      \n",
              "\n",
              "   zhejiang university - china  \\\n",
              "0                          NaN   \n",
              "1                          NaN   \n",
              "\n",
              "                                        Funding Orgs  \\\n",
              "0                                                NaN   \n",
              "1  national institutes of health (nih) [u19ai1427...   \n",
              "\n",
              "   Open Access Designations  Times Cited, All Databases  180 Day Usage Count  \\\n",
              "0      green accepted, gold                         NaN                 14.0   \n",
              "1                    hybrid                         NaN                  NaN   \n",
              "\n",
              "   Since 2013 Usage Count  Publication Year  \n",
              "0                    14.0            2023.0  \n",
              "1                     NaN            2023.0  \n",
              "\n",
              "[2 rows x 521 columns]"
            ]
          },
          "execution_count": 22,
          "metadata": {},
          "output_type": "execute_result"
        }
      ],
      "source": [
        "data = pd.read_csv('D:\\MARBURG VIRUS DISEASES\\TABLES/data_fund_region_country_and_org_clean_dummies_col_replace_grp.csv')#.drop(['Addresses'], axis=1)\n",
        "# data = data.loc[data['funding_yes'] == 1]\n",
        "data.head(2)"
      ]
    },
    {
      "cell_type": "code",
      "execution_count": null,
      "id": "a4c50669-8420-4f39-b602-0ed9cb9c56db",
      "metadata": {
        "id": "a4c50669-8420-4f39-b602-0ed9cb9c56db",
        "outputId": "4ad31c2a-1f56-4ba3-91b2-cbcdafdab8e2"
      },
      "outputs": [
        {
          "data": {
            "text/html": [
              "<div>\n",
              "<style scoped>\n",
              "    .dataframe tbody tr th:only-of-type {\n",
              "        vertical-align: middle;\n",
              "    }\n",
              "\n",
              "    .dataframe tbody tr th {\n",
              "        vertical-align: top;\n",
              "    }\n",
              "\n",
              "    .dataframe thead th {\n",
              "        text-align: right;\n",
              "    }\n",
              "</style>\n",
              "<table border=\"1\" class=\"dataframe\">\n",
              "  <thead>\n",
              "    <tr style=\"text-align: right;\">\n",
              "      <th></th>\n",
              "      <th>Afghanistan</th>\n",
              "      <th>United States</th>\n",
              "      <th>Angola</th>\n",
              "      <th>Argentina</th>\n",
              "      <th>Australia</th>\n",
              "      <th>Austria</th>\n",
              "      <th>Bangladesh</th>\n",
              "      <th>Belgium</th>\n",
              "      <th>Belize</th>\n",
              "      <th>Brazil</th>\n",
              "      <th>...</th>\n",
              "      <th>Thailand</th>\n",
              "      <th>Turkey</th>\n",
              "      <th>United Arab Emirates</th>\n",
              "      <th>Uganda</th>\n",
              "      <th>Ukraine</th>\n",
              "      <th>Venezuela</th>\n",
              "      <th>Vietnam</th>\n",
              "      <th>Zambia</th>\n",
              "      <th>Zimbabwe</th>\n",
              "      <th>Sudan</th>\n",
              "    </tr>\n",
              "    <tr>\n",
              "      <th>UT (Unique WOS ID)</th>\n",
              "      <th></th>\n",
              "      <th></th>\n",
              "      <th></th>\n",
              "      <th></th>\n",
              "      <th></th>\n",
              "      <th></th>\n",
              "      <th></th>\n",
              "      <th></th>\n",
              "      <th></th>\n",
              "      <th></th>\n",
              "      <th></th>\n",
              "      <th></th>\n",
              "      <th></th>\n",
              "      <th></th>\n",
              "      <th></th>\n",
              "      <th></th>\n",
              "      <th></th>\n",
              "      <th></th>\n",
              "      <th></th>\n",
              "      <th></th>\n",
              "      <th></th>\n",
              "    </tr>\n",
              "  </thead>\n",
              "  <tbody>\n",
              "    <tr>\n",
              "      <th>WOS:000904661800001</th>\n",
              "      <td>NaN</td>\n",
              "      <td>NaN</td>\n",
              "      <td>NaN</td>\n",
              "      <td>NaN</td>\n",
              "      <td>NaN</td>\n",
              "      <td>NaN</td>\n",
              "      <td>NaN</td>\n",
              "      <td>NaN</td>\n",
              "      <td>NaN</td>\n",
              "      <td>NaN</td>\n",
              "      <td>...</td>\n",
              "      <td>NaN</td>\n",
              "      <td>NaN</td>\n",
              "      <td>NaN</td>\n",
              "      <td>NaN</td>\n",
              "      <td>NaN</td>\n",
              "      <td>NaN</td>\n",
              "      <td>NaN</td>\n",
              "      <td>NaN</td>\n",
              "      <td>NaN</td>\n",
              "      <td>NaN</td>\n",
              "    </tr>\n",
              "  </tbody>\n",
              "</table>\n",
              "<p>1 rows × 85 columns</p>\n",
              "</div>"
            ],
            "text/plain": [
              "                     Afghanistan  United States  Angola  Argentina  Australia  \\\n",
              "UT (Unique WOS ID)                                                              \n",
              "WOS:000904661800001          NaN            NaN     NaN        NaN        NaN   \n",
              "\n",
              "                     Austria  Bangladesh  Belgium  Belize  Brazil  ...  \\\n",
              "UT (Unique WOS ID)                                                 ...   \n",
              "WOS:000904661800001      NaN         NaN      NaN     NaN     NaN  ...   \n",
              "\n",
              "                     Thailand  Turkey  United Arab Emirates  Uganda  Ukraine  \\\n",
              "UT (Unique WOS ID)                                                             \n",
              "WOS:000904661800001       NaN     NaN                   NaN     NaN      NaN   \n",
              "\n",
              "                     Venezuela  Vietnam  Zambia  Zimbabwe  Sudan  \n",
              "UT (Unique WOS ID)                                                \n",
              "WOS:000904661800001        NaN      NaN     NaN       NaN    NaN  \n",
              "\n",
              "[1 rows x 85 columns]"
            ]
          },
          "execution_count": 6,
          "metadata": {},
          "output_type": "execute_result"
        }
      ],
      "source": [
        "country_data = pd.read_pickle('D:\\MARBURG VIRUS DISEASES\\DATA_PREPROCESSING/countries_split.pkl').drop('Addresses', axis=1)\n",
        "country_data.head(1)"
      ]
    },
    {
      "cell_type": "code",
      "execution_count": null,
      "id": "709bae1e-241d-48ad-9ae4-e2d4192dc710",
      "metadata": {
        "id": "709bae1e-241d-48ad-9ae4-e2d4192dc710",
        "outputId": "ee84a157-67e5-4cb5-fbc2-ccaf2d2cb7cf"
      },
      "outputs": [
        {
          "data": {
            "text/html": [
              "<div>\n",
              "<style scoped>\n",
              "    .dataframe tbody tr th:only-of-type {\n",
              "        vertical-align: middle;\n",
              "    }\n",
              "\n",
              "    .dataframe tbody tr th {\n",
              "        vertical-align: top;\n",
              "    }\n",
              "\n",
              "    .dataframe thead th {\n",
              "        text-align: right;\n",
              "    }\n",
              "</style>\n",
              "<table border=\"1\" class=\"dataframe\">\n",
              "  <thead>\n",
              "    <tr style=\"text-align: right;\">\n",
              "      <th></th>\n",
              "      <th>Publication Type</th>\n",
              "      <th>Authors</th>\n",
              "      <th>Book Authors</th>\n",
              "      <th>Book Editors</th>\n",
              "      <th>Book Group Authors</th>\n",
              "      <th>Author Full Names</th>\n",
              "      <th>Book Author Full Names</th>\n",
              "      <th>Group Authors</th>\n",
              "      <th>Article Title</th>\n",
              "      <th>Source Title</th>\n",
              "      <th>...</th>\n",
              "      <th>Web of Science Index</th>\n",
              "      <th>Research Areas</th>\n",
              "      <th>IDS Number</th>\n",
              "      <th>Pubmed Id</th>\n",
              "      <th>Open Access Designations</th>\n",
              "      <th>Highly Cited Status</th>\n",
              "      <th>Hot Paper Status</th>\n",
              "      <th>Date of Export</th>\n",
              "      <th>wos_ID</th>\n",
              "      <th>Web of Science Record</th>\n",
              "    </tr>\n",
              "  </thead>\n",
              "  <tbody>\n",
              "    <tr>\n",
              "      <th>0</th>\n",
              "      <td>j</td>\n",
              "      <td>bi, jh; wang, hj; han, qx; pei, hy; wang, hl; ...</td>\n",
              "      <td>NaN</td>\n",
              "      <td>NaN</td>\n",
              "      <td>NaN</td>\n",
              "      <td>bi, jinhao; wang, haojie; han, qiuxue; pei, ho...</td>\n",
              "      <td>NaN</td>\n",
              "      <td>NaN</td>\n",
              "      <td>a rabies virus-vectored vaccine expressing two...</td>\n",
              "      <td>emerging microbes &amp; infections</td>\n",
              "      <td>...</td>\n",
              "      <td>science citation index expanded (sci-expanded)</td>\n",
              "      <td>immunology; infectious diseases; microbiology</td>\n",
              "      <td>7j5zq</td>\n",
              "      <td>36453198.0</td>\n",
              "      <td>green accepted, gold</td>\n",
              "      <td>NaN</td>\n",
              "      <td>NaN</td>\n",
              "      <td>2023-02-22</td>\n",
              "      <td>wos:000904661800001</td>\n",
              "      <td>0</td>\n",
              "    </tr>\n",
              "  </tbody>\n",
              "</table>\n",
              "<p>1 rows × 72 columns</p>\n",
              "</div>"
            ],
            "text/plain": [
              "  Publication Type                                            Authors  \\\n",
              "0                j  bi, jh; wang, hj; han, qx; pei, hy; wang, hl; ...   \n",
              "\n",
              "   Book Authors Book Editors  Book Group Authors  \\\n",
              "0           NaN          NaN                 NaN   \n",
              "\n",
              "                                   Author Full Names  Book Author Full Names  \\\n",
              "0  bi, jinhao; wang, haojie; han, qiuxue; pei, ho...                     NaN   \n",
              "\n",
              "  Group Authors                                      Article Title  \\\n",
              "0           NaN  a rabies virus-vectored vaccine expressing two...   \n",
              "\n",
              "                     Source Title  ...  \\\n",
              "0  emerging microbes & infections  ...   \n",
              "\n",
              "                             Web of Science Index  \\\n",
              "0  science citation index expanded (sci-expanded)   \n",
              "\n",
              "                                  Research Areas IDS Number   Pubmed Id  \\\n",
              "0  immunology; infectious diseases; microbiology      7j5zq  36453198.0   \n",
              "\n",
              "  Open Access Designations Highly Cited Status Hot Paper Status  \\\n",
              "0     green accepted, gold                 NaN              NaN   \n",
              "\n",
              "  Date of Export               wos_ID Web of Science Record  \n",
              "0     2023-02-22  wos:000904661800001                     0  \n",
              "\n",
              "[1 rows x 72 columns]"
            ]
          },
          "execution_count": 7,
          "metadata": {},
          "output_type": "execute_result"
        }
      ],
      "source": [
        "data_prep = pd.read_excel(f'D:\\MARBURG VIRUS DISEASES/data/WOSCC/woscc_bon_23_02_verif_on_wos.xls')\n",
        "data_prep = data_prep.rename(columns={\"UT (Unique WOS ID)\": \"wos_ID\"})\n",
        "data_prep = data_prep.applymap(lambda s:s.lower() if type(s) == str else s)\n",
        "#data_prep = data_prep.drop_duplicates('wos_ID')\n",
        "data_prep.head(1)"
      ]
    },
    {
      "cell_type": "code",
      "execution_count": null,
      "id": "425bf17b-6087-4b5c-85bc-11a7fafadef9",
      "metadata": {
        "id": "425bf17b-6087-4b5c-85bc-11a7fafadef9"
      },
      "outputs": [],
      "source": []
    },
    {
      "cell_type": "markdown",
      "id": "88c4a86f",
      "metadata": {
        "id": "88c4a86f"
      },
      "source": [
        "# Extract number of institution"
      ]
    },
    {
      "cell_type": "markdown",
      "id": "52d1346c-b052-4b56-ad84-bfe7eee2b245",
      "metadata": {
        "id": "52d1346c-b052-4b56-ad84-bfe7eee2b245"
      },
      "source": [
        "## preprocessing data"
      ]
    },
    {
      "cell_type": "code",
      "execution_count": null,
      "id": "52de96f5-b95d-49bc-b4fe-2da1a68bbee5",
      "metadata": {
        "id": "52de96f5-b95d-49bc-b4fe-2da1a68bbee5",
        "outputId": "90a7e4f2-1d9a-4c4b-fc30-3f5168eb6438"
      },
      "outputs": [
        {
          "name": "stderr",
          "output_type": "stream",
          "text": [
            "C:\\Users\\dmbog\\AppData\\Local\\Temp\\ipykernel_15036\\578369217.py:5: SettingWithCopyWarning: \n",
            "A value is trying to be set on a copy of a slice from a DataFrame.\n",
            "Try using .loc[row_indexer,col_indexer] = value instead\n",
            "\n",
            "See the caveats in the documentation: https://pandas.pydata.org/pandas-docs/stable/user_guide/indexing.html#returning-a-view-versus-a-copy\n",
            "  number_institution['wos_ID'] = number_institution['wos_ID'].str.lower()\n"
          ]
        },
        {
          "ename": "KeyError",
          "evalue": "'funding_yes'",
          "output_type": "error",
          "traceback": [
            "\u001b[1;31m---------------------------------------------------------------------------\u001b[0m",
            "\u001b[1;31mKeyError\u001b[0m                                  Traceback (most recent call last)",
            "File \u001b[1;32m~\\anaconda3\\lib\\site-packages\\pandas\\core\\indexes\\base.py:3621\u001b[0m, in \u001b[0;36mIndex.get_loc\u001b[1;34m(self, key, method, tolerance)\u001b[0m\n\u001b[0;32m   3620\u001b[0m \u001b[38;5;28;01mtry\u001b[39;00m:\n\u001b[1;32m-> 3621\u001b[0m     \u001b[38;5;28;01mreturn\u001b[39;00m \u001b[38;5;28;43mself\u001b[39;49m\u001b[38;5;241;43m.\u001b[39;49m\u001b[43m_engine\u001b[49m\u001b[38;5;241;43m.\u001b[39;49m\u001b[43mget_loc\u001b[49m\u001b[43m(\u001b[49m\u001b[43mcasted_key\u001b[49m\u001b[43m)\u001b[49m\n\u001b[0;32m   3622\u001b[0m \u001b[38;5;28;01mexcept\u001b[39;00m \u001b[38;5;167;01mKeyError\u001b[39;00m \u001b[38;5;28;01mas\u001b[39;00m err:\n",
            "File \u001b[1;32m~\\anaconda3\\lib\\site-packages\\pandas\\_libs\\index.pyx:136\u001b[0m, in \u001b[0;36mpandas._libs.index.IndexEngine.get_loc\u001b[1;34m()\u001b[0m\n",
            "File \u001b[1;32m~\\anaconda3\\lib\\site-packages\\pandas\\_libs\\index.pyx:163\u001b[0m, in \u001b[0;36mpandas._libs.index.IndexEngine.get_loc\u001b[1;34m()\u001b[0m\n",
            "File \u001b[1;32mpandas\\_libs\\hashtable_class_helper.pxi:5198\u001b[0m, in \u001b[0;36mpandas._libs.hashtable.PyObjectHashTable.get_item\u001b[1;34m()\u001b[0m\n",
            "File \u001b[1;32mpandas\\_libs\\hashtable_class_helper.pxi:5206\u001b[0m, in \u001b[0;36mpandas._libs.hashtable.PyObjectHashTable.get_item\u001b[1;34m()\u001b[0m\n",
            "\u001b[1;31mKeyError\u001b[0m: 'funding_yes'",
            "\nThe above exception was the direct cause of the following exception:\n",
            "\u001b[1;31mKeyError\u001b[0m                                  Traceback (most recent call last)",
            "Input \u001b[1;32mIn [23]\u001b[0m, in \u001b[0;36m<cell line: 6>\u001b[1;34m()\u001b[0m\n\u001b[0;32m      4\u001b[0m \u001b[38;5;66;03m# number_institution = number_institution.reset_index().rename(columns = {'UT (Unique WOS ID)':'wos_ID'})\u001b[39;00m\n\u001b[0;32m      5\u001b[0m number_institution[\u001b[38;5;124m'\u001b[39m\u001b[38;5;124mwos_ID\u001b[39m\u001b[38;5;124m'\u001b[39m] \u001b[38;5;241m=\u001b[39m number_institution[\u001b[38;5;124m'\u001b[39m\u001b[38;5;124mwos_ID\u001b[39m\u001b[38;5;124m'\u001b[39m]\u001b[38;5;241m.\u001b[39mstr\u001b[38;5;241m.\u001b[39mlower()\n\u001b[1;32m----> 6\u001b[0m number_institution \u001b[38;5;241m=\u001b[39m number_institution\u001b[38;5;241m.\u001b[39mloc[\u001b[43mnumber_institution\u001b[49m\u001b[43m[\u001b[49m\u001b[38;5;124;43m'\u001b[39;49m\u001b[38;5;124;43mfunding_yes\u001b[39;49m\u001b[38;5;124;43m'\u001b[39;49m\u001b[43m]\u001b[49m \u001b[38;5;241m==\u001b[39m \u001b[38;5;241m1\u001b[39m]\n\u001b[0;32m      7\u001b[0m number_institution\n",
            "File \u001b[1;32m~\\anaconda3\\lib\\site-packages\\pandas\\core\\frame.py:3505\u001b[0m, in \u001b[0;36mDataFrame.__getitem__\u001b[1;34m(self, key)\u001b[0m\n\u001b[0;32m   3503\u001b[0m \u001b[38;5;28;01mif\u001b[39;00m \u001b[38;5;28mself\u001b[39m\u001b[38;5;241m.\u001b[39mcolumns\u001b[38;5;241m.\u001b[39mnlevels \u001b[38;5;241m>\u001b[39m \u001b[38;5;241m1\u001b[39m:\n\u001b[0;32m   3504\u001b[0m     \u001b[38;5;28;01mreturn\u001b[39;00m \u001b[38;5;28mself\u001b[39m\u001b[38;5;241m.\u001b[39m_getitem_multilevel(key)\n\u001b[1;32m-> 3505\u001b[0m indexer \u001b[38;5;241m=\u001b[39m \u001b[38;5;28;43mself\u001b[39;49m\u001b[38;5;241;43m.\u001b[39;49m\u001b[43mcolumns\u001b[49m\u001b[38;5;241;43m.\u001b[39;49m\u001b[43mget_loc\u001b[49m\u001b[43m(\u001b[49m\u001b[43mkey\u001b[49m\u001b[43m)\u001b[49m\n\u001b[0;32m   3506\u001b[0m \u001b[38;5;28;01mif\u001b[39;00m is_integer(indexer):\n\u001b[0;32m   3507\u001b[0m     indexer \u001b[38;5;241m=\u001b[39m [indexer]\n",
            "File \u001b[1;32m~\\anaconda3\\lib\\site-packages\\pandas\\core\\indexes\\base.py:3623\u001b[0m, in \u001b[0;36mIndex.get_loc\u001b[1;34m(self, key, method, tolerance)\u001b[0m\n\u001b[0;32m   3621\u001b[0m     \u001b[38;5;28;01mreturn\u001b[39;00m \u001b[38;5;28mself\u001b[39m\u001b[38;5;241m.\u001b[39m_engine\u001b[38;5;241m.\u001b[39mget_loc(casted_key)\n\u001b[0;32m   3622\u001b[0m \u001b[38;5;28;01mexcept\u001b[39;00m \u001b[38;5;167;01mKeyError\u001b[39;00m \u001b[38;5;28;01mas\u001b[39;00m err:\n\u001b[1;32m-> 3623\u001b[0m     \u001b[38;5;28;01mraise\u001b[39;00m \u001b[38;5;167;01mKeyError\u001b[39;00m(key) \u001b[38;5;28;01mfrom\u001b[39;00m \u001b[38;5;21;01merr\u001b[39;00m\n\u001b[0;32m   3624\u001b[0m \u001b[38;5;28;01mexcept\u001b[39;00m \u001b[38;5;167;01mTypeError\u001b[39;00m:\n\u001b[0;32m   3625\u001b[0m     \u001b[38;5;66;03m# If we have a listlike key, _check_indexing_error will raise\u001b[39;00m\n\u001b[0;32m   3626\u001b[0m     \u001b[38;5;66;03m#  InvalidIndexError. Otherwise we fall through and re-raise\u001b[39;00m\n\u001b[0;32m   3627\u001b[0m     \u001b[38;5;66;03m#  the TypeError.\u001b[39;00m\n\u001b[0;32m   3628\u001b[0m     \u001b[38;5;28mself\u001b[39m\u001b[38;5;241m.\u001b[39m_check_indexing_error(key)\n",
            "\u001b[1;31mKeyError\u001b[0m: 'funding_yes'"
          ]
        }
      ],
      "source": [
        "# number of institutions\n",
        "data_prep['number_of_institution'] =  pd.DataFrame(data_prep['Addresses'].str.split(';', expand=True)).count(axis='columns')\n",
        "number_institution = data_prep[['wos_ID','number_of_institution']]\n",
        "# number_institution = number_institution.reset_index().rename(columns = {'UT (Unique WOS ID)':'wos_ID'})\n",
        "number_institution['wos_ID'] = number_institution['wos_ID'].str.lower()\n",
        "number_institution"
      ]
    },
    {
      "cell_type": "code",
      "execution_count": null,
      "id": "97ec1e8b",
      "metadata": {
        "id": "97ec1e8b",
        "outputId": "1196be85-c48b-4805-df4b-a6dfc76b7570"
      },
      "outputs": [
        {
          "data": {
            "text/html": [
              "<div>\n",
              "<style scoped>\n",
              "    .dataframe tbody tr th:only-of-type {\n",
              "        vertical-align: middle;\n",
              "    }\n",
              "\n",
              "    .dataframe tbody tr th {\n",
              "        vertical-align: top;\n",
              "    }\n",
              "\n",
              "    .dataframe thead th {\n",
              "        text-align: right;\n",
              "    }\n",
              "</style>\n",
              "<table border=\"1\" class=\"dataframe\">\n",
              "  <thead>\n",
              "    <tr style=\"text-align: right;\">\n",
              "      <th></th>\n",
              "      <th>number_of_institution</th>\n",
              "    </tr>\n",
              "  </thead>\n",
              "  <tbody>\n",
              "    <tr>\n",
              "      <th>count</th>\n",
              "      <td>932.000000</td>\n",
              "    </tr>\n",
              "    <tr>\n",
              "      <th>mean</th>\n",
              "      <td>8.126609</td>\n",
              "    </tr>\n",
              "    <tr>\n",
              "      <th>std</th>\n",
              "      <td>7.964817</td>\n",
              "    </tr>\n",
              "    <tr>\n",
              "      <th>min</th>\n",
              "      <td>0.000000</td>\n",
              "    </tr>\n",
              "    <tr>\n",
              "      <th>25%</th>\n",
              "      <td>2.000000</td>\n",
              "    </tr>\n",
              "    <tr>\n",
              "      <th>50%</th>\n",
              "      <td>6.000000</td>\n",
              "    </tr>\n",
              "    <tr>\n",
              "      <th>75%</th>\n",
              "      <td>12.000000</td>\n",
              "    </tr>\n",
              "    <tr>\n",
              "      <th>max</th>\n",
              "      <td>82.000000</td>\n",
              "    </tr>\n",
              "  </tbody>\n",
              "</table>\n",
              "</div>"
            ],
            "text/plain": [
              "       number_of_institution\n",
              "count             932.000000\n",
              "mean                8.126609\n",
              "std                 7.964817\n",
              "min                 0.000000\n",
              "25%                 2.000000\n",
              "50%                 6.000000\n",
              "75%                12.000000\n",
              "max                82.000000"
            ]
          },
          "execution_count": 9,
          "metadata": {},
          "output_type": "execute_result"
        }
      ],
      "source": [
        "number_institution.describe()"
      ]
    },
    {
      "cell_type": "code",
      "execution_count": null,
      "id": "8d2dda37-4658-4d2e-9068-0caa1753024f",
      "metadata": {
        "id": "8d2dda37-4658-4d2e-9068-0caa1753024f",
        "outputId": "686ee4cf-5ad0-48ea-8c38-67a974637682"
      },
      "outputs": [
        {
          "data": {
            "text/plain": [
              "wos_ID                   0\n",
              "number_of_institution    0\n",
              "dtype: int64"
            ]
          },
          "execution_count": 10,
          "metadata": {},
          "output_type": "execute_result"
        }
      ],
      "source": [
        "number_institution.isna().sum()"
      ]
    },
    {
      "cell_type": "code",
      "execution_count": null,
      "id": "5d0b1c11-ad9c-4ef8-9055-2818e2f6ddfd",
      "metadata": {
        "id": "5d0b1c11-ad9c-4ef8-9055-2818e2f6ddfd"
      },
      "outputs": [],
      "source": [
        "# number_institution.head(60)"
      ]
    },
    {
      "cell_type": "code",
      "execution_count": null,
      "id": "872f8209-4583-4d00-83f1-750ab5c22423",
      "metadata": {
        "id": "872f8209-4583-4d00-83f1-750ab5c22423",
        "outputId": "f23b9939-a9b4-4491-bc45-f161d8657642"
      },
      "outputs": [
        {
          "data": {
            "text/html": [
              "<div>\n",
              "<style scoped>\n",
              "    .dataframe tbody tr th:only-of-type {\n",
              "        vertical-align: middle;\n",
              "    }\n",
              "\n",
              "    .dataframe tbody tr th {\n",
              "        vertical-align: top;\n",
              "    }\n",
              "\n",
              "    .dataframe thead th {\n",
              "        text-align: right;\n",
              "    }\n",
              "</style>\n",
              "<table border=\"1\" class=\"dataframe\">\n",
              "  <thead>\n",
              "    <tr style=\"text-align: right;\">\n",
              "      <th></th>\n",
              "      <th>Unnamed: 0</th>\n",
              "      <th>funding_yes</th>\n",
              "      <th>open_access_yes</th>\n",
              "      <th>Funding Name Preferred</th>\n",
              "      <th>europe and central asia</th>\n",
              "      <th>north america</th>\n",
              "      <th>africa</th>\n",
              "      <th>sub-saharan africa</th>\n",
              "      <th>east asia and pacific</th>\n",
              "      <th>/</th>\n",
              "      <th>...</th>\n",
              "      <th>world bank - multilateral</th>\n",
              "      <th>china association for science and technology - china</th>\n",
              "      <th>zhejiang university - china</th>\n",
              "      <th>Funding Orgs</th>\n",
              "      <th>Open Access Designations</th>\n",
              "      <th>Times Cited, All Databases</th>\n",
              "      <th>180 Day Usage Count</th>\n",
              "      <th>Since 2013 Usage Count</th>\n",
              "      <th>Publication Year</th>\n",
              "      <th>number_of_institution</th>\n",
              "    </tr>\n",
              "    <tr>\n",
              "      <th>wos_ID</th>\n",
              "      <th></th>\n",
              "      <th></th>\n",
              "      <th></th>\n",
              "      <th></th>\n",
              "      <th></th>\n",
              "      <th></th>\n",
              "      <th></th>\n",
              "      <th></th>\n",
              "      <th></th>\n",
              "      <th></th>\n",
              "      <th></th>\n",
              "      <th></th>\n",
              "      <th></th>\n",
              "      <th></th>\n",
              "      <th></th>\n",
              "      <th></th>\n",
              "      <th></th>\n",
              "      <th></th>\n",
              "      <th></th>\n",
              "      <th></th>\n",
              "      <th></th>\n",
              "    </tr>\n",
              "  </thead>\n",
              "  <tbody>\n",
              "    <tr>\n",
              "      <th>wos:000921279800001</th>\n",
              "      <td>1</td>\n",
              "      <td>1</td>\n",
              "      <td>1</td>\n",
              "      <td>National Institutes of Health (NIH)(United Sta...</td>\n",
              "      <td>NaN</td>\n",
              "      <td>2.0</td>\n",
              "      <td>NaN</td>\n",
              "      <td>NaN</td>\n",
              "      <td>NaN</td>\n",
              "      <td>NaN</td>\n",
              "      <td>...</td>\n",
              "      <td>NaN</td>\n",
              "      <td>NaN</td>\n",
              "      <td>NaN</td>\n",
              "      <td>national institutes of health (nih) [u19ai1427...</td>\n",
              "      <td>hybrid</td>\n",
              "      <td>NaN</td>\n",
              "      <td>NaN</td>\n",
              "      <td>NaN</td>\n",
              "      <td>2023.0</td>\n",
              "      <td>15</td>\n",
              "    </tr>\n",
              "    <tr>\n",
              "      <th>wos:000909001200001</th>\n",
              "      <td>2</td>\n",
              "      <td>1</td>\n",
              "      <td>1</td>\n",
              "      <td>Russian Science Foundation(Russian Science Fou...</td>\n",
              "      <td>1.0</td>\n",
              "      <td>NaN</td>\n",
              "      <td>NaN</td>\n",
              "      <td>NaN</td>\n",
              "      <td>NaN</td>\n",
              "      <td>NaN</td>\n",
              "      <td>...</td>\n",
              "      <td>NaN</td>\n",
              "      <td>NaN</td>\n",
              "      <td>NaN</td>\n",
              "      <td>russian science foundation;  [22-13-00036]</td>\n",
              "      <td>gold, green accepted</td>\n",
              "      <td>NaN</td>\n",
              "      <td>3.0</td>\n",
              "      <td>3.0</td>\n",
              "      <td>2023.0</td>\n",
              "      <td>1</td>\n",
              "    </tr>\n",
              "  </tbody>\n",
              "</table>\n",
              "<p>2 rows × 521 columns</p>\n",
              "</div>"
            ],
            "text/plain": [
              "                     Unnamed: 0  funding_yes  open_access_yes  \\\n",
              "wos_ID                                                          \n",
              "wos:000921279800001           1            1                1   \n",
              "wos:000909001200001           2            1                1   \n",
              "\n",
              "                                                Funding Name Preferred  \\\n",
              "wos_ID                                                                   \n",
              "wos:000921279800001  National Institutes of Health (NIH)(United Sta...   \n",
              "wos:000909001200001  Russian Science Foundation(Russian Science Fou...   \n",
              "\n",
              "                     europe and central asia  north america  africa  \\\n",
              "wos_ID                                                                \n",
              "wos:000921279800001                      NaN            2.0     NaN   \n",
              "wos:000909001200001                      1.0            NaN     NaN   \n",
              "\n",
              "                     sub-saharan africa  east asia and pacific   /  ...  \\\n",
              "wos_ID                                                              ...   \n",
              "wos:000921279800001                 NaN                    NaN NaN  ...   \n",
              "wos:000909001200001                 NaN                    NaN NaN  ...   \n",
              "\n",
              "                     world bank - multilateral  \\\n",
              "wos_ID                                           \n",
              "wos:000921279800001                        NaN   \n",
              "wos:000909001200001                        NaN   \n",
              "\n",
              "                     china association for science and technology - china  \\\n",
              "wos_ID                                                                      \n",
              "wos:000921279800001                                                NaN      \n",
              "wos:000909001200001                                                NaN      \n",
              "\n",
              "                     zhejiang university - china  \\\n",
              "wos_ID                                             \n",
              "wos:000921279800001                          NaN   \n",
              "wos:000909001200001                          NaN   \n",
              "\n",
              "                                                          Funding Orgs  \\\n",
              "wos_ID                                                                   \n",
              "wos:000921279800001  national institutes of health (nih) [u19ai1427...   \n",
              "wos:000909001200001         russian science foundation;  [22-13-00036]   \n",
              "\n",
              "                     Open Access Designations  Times Cited, All Databases  \\\n",
              "wos_ID                                                                      \n",
              "wos:000921279800001                    hybrid                         NaN   \n",
              "wos:000909001200001      gold, green accepted                         NaN   \n",
              "\n",
              "                     180 Day Usage Count  Since 2013 Usage Count  \\\n",
              "wos_ID                                                             \n",
              "wos:000921279800001                  NaN                     NaN   \n",
              "wos:000909001200001                  3.0                     3.0   \n",
              "\n",
              "                     Publication Year  number_of_institution  \n",
              "wos_ID                                                        \n",
              "wos:000921279800001            2023.0                     15  \n",
              "wos:000909001200001            2023.0                      1  \n",
              "\n",
              "[2 rows x 521 columns]"
            ]
          },
          "execution_count": 24,
          "metadata": {},
          "output_type": "execute_result"
        }
      ],
      "source": [
        "data_and_number_institution = pd.concat([data.set_index('wos_ID'),\n",
        "                           number_institution.set_index('wos_ID')],\n",
        "                          axis=1)\n",
        "data_and_number_institution = data_and_number_institution.loc[data_and_number_institution['funding_yes'] == 1]\n",
        "data_and_number_institution.head(2)"
      ]
    },
    {
      "cell_type": "code",
      "execution_count": null,
      "id": "e750b452",
      "metadata": {
        "id": "e750b452"
      },
      "outputs": [],
      "source": [
        "# to drop rows with 0 values in column 'number_of_institution':\n",
        "data_and_number_institution = data_and_number_institution[data_and_number_institution['number_of_institution'] != 0]"
      ]
    },
    {
      "cell_type": "code",
      "execution_count": null,
      "id": "4df24d2a",
      "metadata": {
        "id": "4df24d2a"
      },
      "outputs": [],
      "source": [
        "# data_and_number_institution.describe()"
      ]
    },
    {
      "cell_type": "code",
      "execution_count": null,
      "id": "39650d90",
      "metadata": {
        "id": "39650d90",
        "outputId": "bc02c649-efca-4f87-94af-77e2aa10ee40"
      },
      "outputs": [
        {
          "data": {
            "text/plain": [
              "Unnamed: 0                      0\n",
              "funding_yes                     0\n",
              "open_access_yes                 0\n",
              "Funding Name Preferred          2\n",
              "europe and central asia       452\n",
              "                             ... \n",
              "Times Cited, All Databases     30\n",
              "180 Day Usage Count           341\n",
              "Since 2013 Usage Count         17\n",
              "Publication Year                4\n",
              "number_of_institution           0\n",
              "Length: 521, dtype: int64"
            ]
          },
          "execution_count": 25,
          "metadata": {},
          "output_type": "execute_result"
        }
      ],
      "source": [
        "data_and_number_institution.isna().sum()"
      ]
    },
    {
      "cell_type": "code",
      "execution_count": null,
      "id": "72c4201b-f1da-40da-805e-487cc411a6fa",
      "metadata": {
        "id": "72c4201b-f1da-40da-805e-487cc411a6fa"
      },
      "outputs": [],
      "source": []
    },
    {
      "cell_type": "code",
      "execution_count": null,
      "id": "84806609-bd64-4bae-8e95-9b62945bcaa9",
      "metadata": {
        "id": "84806609-bd64-4bae-8e95-9b62945bcaa9"
      },
      "outputs": [],
      "source": []
    },
    {
      "cell_type": "markdown",
      "id": "37402f97-bb66-44b7-b3d9-9f40e45ae0a4",
      "metadata": {
        "id": "37402f97-bb66-44b7-b3d9-9f40e45ae0a4"
      },
      "source": [
        "## analysis based on number of country"
      ]
    },
    {
      "cell_type": "markdown",
      "id": "88a9ad33-1ccf-48f1-8710-d642e0f6c0ad",
      "metadata": {
        "id": "88a9ad33-1ccf-48f1-8710-d642e0f6c0ad"
      },
      "source": [
        "### proportion all"
      ]
    },
    {
      "cell_type": "code",
      "execution_count": null,
      "id": "f080879e-1eab-487a-8e24-c76d05e37cde",
      "metadata": {
        "id": "f080879e-1eab-487a-8e24-c76d05e37cde",
        "outputId": "7f33dab0-8290-4597-c2e8-fb2e4a4559a6"
      },
      "outputs": [
        {
          "data": {
            "text/plain": [
              "0"
            ]
          },
          "execution_count": 16,
          "metadata": {},
          "output_type": "execute_result"
        }
      ],
      "source": [
        "data_and_number_institution['number_of_institution'].isna().sum()"
      ]
    },
    {
      "cell_type": "code",
      "execution_count": null,
      "id": "cebf0c75-5953-42fc-a996-a4b50be712bb",
      "metadata": {
        "id": "cebf0c75-5953-42fc-a996-a4b50be712bb",
        "outputId": "0c089d9f-2424-4caf-e3cb-5184ab508b0e"
      },
      "outputs": [
        {
          "data": {
            "text/html": [
              "<div>\n",
              "<style scoped>\n",
              "    .dataframe tbody tr th:only-of-type {\n",
              "        vertical-align: middle;\n",
              "    }\n",
              "\n",
              "    .dataframe tbody tr th {\n",
              "        vertical-align: top;\n",
              "    }\n",
              "\n",
              "    .dataframe thead th {\n",
              "        text-align: right;\n",
              "    }\n",
              "</style>\n",
              "<table border=\"1\" class=\"dataframe\">\n",
              "  <thead>\n",
              "    <tr style=\"text-align: right;\">\n",
              "      <th></th>\n",
              "      <th>countries</th>\n",
              "      <th>all_number_of_institution_count</th>\n",
              "      <th>all_number_of_institution_mean</th>\n",
              "    </tr>\n",
              "  </thead>\n",
              "  <tbody>\n",
              "    <tr>\n",
              "      <th>0</th>\n",
              "      <td>Unnamed: 0</td>\n",
              "      <td>577</td>\n",
              "      <td>11.064125</td>\n",
              "    </tr>\n",
              "    <tr>\n",
              "      <th>1</th>\n",
              "      <td>funding_yes</td>\n",
              "      <td>577</td>\n",
              "      <td>11.064125</td>\n",
              "    </tr>\n",
              "    <tr>\n",
              "      <th>2</th>\n",
              "      <td>open_access_yes</td>\n",
              "      <td>577</td>\n",
              "      <td>11.064125</td>\n",
              "    </tr>\n",
              "    <tr>\n",
              "      <th>3</th>\n",
              "      <td>Funding Name Preferred</td>\n",
              "      <td>575</td>\n",
              "      <td>11.069565</td>\n",
              "    </tr>\n",
              "    <tr>\n",
              "      <th>4</th>\n",
              "      <td>europe and central asia</td>\n",
              "      <td>125</td>\n",
              "      <td>10.688000</td>\n",
              "    </tr>\n",
              "    <tr>\n",
              "      <th>...</th>\n",
              "      <td>...</td>\n",
              "      <td>...</td>\n",
              "      <td>...</td>\n",
              "    </tr>\n",
              "    <tr>\n",
              "      <th>516</th>\n",
              "      <td>Times Cited, All Databases</td>\n",
              "      <td>547</td>\n",
              "      <td>11.065814</td>\n",
              "    </tr>\n",
              "    <tr>\n",
              "      <th>517</th>\n",
              "      <td>180 Day Usage Count</td>\n",
              "      <td>236</td>\n",
              "      <td>12.453390</td>\n",
              "    </tr>\n",
              "    <tr>\n",
              "      <th>518</th>\n",
              "      <td>Since 2013 Usage Count</td>\n",
              "      <td>560</td>\n",
              "      <td>11.067857</td>\n",
              "    </tr>\n",
              "    <tr>\n",
              "      <th>519</th>\n",
              "      <td>Publication Year</td>\n",
              "      <td>573</td>\n",
              "      <td>11.082024</td>\n",
              "    </tr>\n",
              "    <tr>\n",
              "      <th>520</th>\n",
              "      <td>number_of_institution</td>\n",
              "      <td>876</td>\n",
              "      <td>8.646119</td>\n",
              "    </tr>\n",
              "  </tbody>\n",
              "</table>\n",
              "<p>521 rows × 3 columns</p>\n",
              "</div>"
            ],
            "text/plain": [
              "                      countries  all_number_of_institution_count  \\\n",
              "0                    Unnamed: 0                              577   \n",
              "1                   funding_yes                              577   \n",
              "2               open_access_yes                              577   \n",
              "3        Funding Name Preferred                              575   \n",
              "4       europe and central asia                              125   \n",
              "..                          ...                              ...   \n",
              "516  Times Cited, All Databases                              547   \n",
              "517         180 Day Usage Count                              236   \n",
              "518      Since 2013 Usage Count                              560   \n",
              "519            Publication Year                              573   \n",
              "520       number_of_institution                              876   \n",
              "\n",
              "     all_number_of_institution_mean  \n",
              "0                         11.064125  \n",
              "1                         11.064125  \n",
              "2                         11.064125  \n",
              "3                         11.069565  \n",
              "4                         10.688000  \n",
              "..                              ...  \n",
              "516                       11.065814  \n",
              "517                       12.453390  \n",
              "518                       11.067857  \n",
              "519                       11.082024  \n",
              "520                        8.646119  \n",
              "\n",
              "[521 rows x 3 columns]"
            ]
          },
          "execution_count": 17,
          "metadata": {},
          "output_type": "execute_result"
        }
      ],
      "source": [
        "data_and_number_institutionT = data_and_number_institution.T\n",
        "\n",
        "data_and_number_institutionT['countries'] = data_and_number_institutionT.index\n",
        "\n",
        "number_of_institution_mean_list = []\n",
        "number_of_institution_count_list = []\n",
        "for country in data_and_number_institution.columns:\n",
        "    number_of_institution_count_list.append(data_and_number_institution.dropna(subset=[country])['number_of_institution'].count())\n",
        "    number_of_institution_mean_list.append(data_and_number_institution.dropna(subset=[country])['number_of_institution'].mean())\n",
        "\n",
        "# rename countries names on columns\n",
        "countries = data_and_number_institution.columns.to_list()\n",
        "number_of_institution_count  = number_of_institution_count_list\n",
        "number_of_institution_mean = number_of_institution_mean_list\n",
        "\n",
        "data_and_number_institutionT_count = pd.DataFrame({'countries': countries, 'all_number_of_institution_count': number_of_institution_count})\n",
        "data_and_number_institutionT_mean = pd.DataFrame({'countries': countries, 'all_number_of_institution_mean': number_of_institution_mean})\n",
        "\n",
        "# ********\n",
        "data_and_number_institutionT_concat = data_and_number_institutionT.reset_index().merge(data_and_number_institutionT_count, on = 'countries', how='left')\n",
        "data_and_number_institutionT_concat = data_and_number_institutionT_concat.merge(data_and_number_institutionT_mean, on = 'countries', how='left')\n",
        "\n",
        "data_and_number_institutionT_concat_all = data_and_number_institutionT_concat[['countries','all_number_of_institution_count','all_number_of_institution_mean']]\n",
        "\n",
        "# save data\n",
        "data_and_number_institutionT_concat_all.to_csv(f'../TABLES/region_countries_org_number_of_institution_count_mean.csv')\n",
        "data_and_number_institutionT_concat_all"
      ]
    },
    {
      "cell_type": "code",
      "execution_count": null,
      "id": "88d1a71c-f957-41c2-af13-0d49bb2140fe",
      "metadata": {
        "id": "88d1a71c-f957-41c2-af13-0d49bb2140fe",
        "outputId": "39b39efd-e760-4b77-9f82-bfdd8eca9024"
      },
      "outputs": [
        {
          "data": {
            "text/plain": [
              "521"
            ]
          },
          "execution_count": 18,
          "metadata": {},
          "output_type": "execute_result"
        }
      ],
      "source": [
        "len(number_of_institution_count)"
      ]
    },
    {
      "cell_type": "code",
      "execution_count": null,
      "id": "81b2f1ae-1e05-4952-b1c8-467cca588703",
      "metadata": {
        "id": "81b2f1ae-1e05-4952-b1c8-467cca588703",
        "outputId": "19f80c85-5002-420c-b7e8-49b39c7e7100"
      },
      "outputs": [
        {
          "data": {
            "text/plain": [
              "521"
            ]
          },
          "execution_count": 19,
          "metadata": {},
          "output_type": "execute_result"
        }
      ],
      "source": [
        "len(number_of_institution_mean)"
      ]
    },
    {
      "cell_type": "code",
      "execution_count": null,
      "id": "ec9bcefa-4fab-427e-a814-920f5971dc7c",
      "metadata": {
        "id": "ec9bcefa-4fab-427e-a814-920f5971dc7c",
        "outputId": "8186cb71-37c9-425f-c2d7-7d6dbb58bbe6"
      },
      "outputs": [
        {
          "data": {
            "text/plain": [
              "521"
            ]
          },
          "execution_count": 20,
          "metadata": {},
          "output_type": "execute_result"
        }
      ],
      "source": [
        "len(countries)"
      ]
    },
    {
      "cell_type": "code",
      "execution_count": null,
      "id": "f4d27e83-57c0-44fe-94fd-8ac5c6abe27d",
      "metadata": {
        "id": "f4d27e83-57c0-44fe-94fd-8ac5c6abe27d",
        "outputId": "2f0e6b57-2b1d-4407-823c-b2c8f7bdb75c"
      },
      "outputs": [
        {
          "ename": "NameError",
          "evalue": "name 'vvvvvvvvvvvvvvv' is not defined",
          "output_type": "error",
          "traceback": [
            "\u001b[1;31m---------------------------------------------------------------------------\u001b[0m",
            "\u001b[1;31mNameError\u001b[0m                                 Traceback (most recent call last)",
            "Input \u001b[1;32mIn [21]\u001b[0m, in \u001b[0;36m<cell line: 1>\u001b[1;34m()\u001b[0m\n\u001b[1;32m----> 1\u001b[0m \u001b[43mvvvvvvvvvvvvvvv\u001b[49m\n",
            "\u001b[1;31mNameError\u001b[0m: name 'vvvvvvvvvvvvvvv' is not defined"
          ]
        }
      ],
      "source": [
        "vvvvvvvvvvvvvvv"
      ]
    },
    {
      "cell_type": "markdown",
      "id": "dd6725d6-d8c7-4ef0-b8a1-df691bf5b492",
      "metadata": {
        "id": "dd6725d6-d8c7-4ef0-b8a1-df691bf5b492"
      },
      "source": [
        "### proportion fund"
      ]
    },
    {
      "cell_type": "code",
      "execution_count": null,
      "id": "74925491-d05b-4790-87a1-d1d0e41add18",
      "metadata": {
        "id": "74925491-d05b-4790-87a1-d1d0e41add18"
      },
      "outputs": [],
      "source": [
        "data_and_number_institution_fund = data_and_number_institution.loc[data_and_number_institution['funding_yes'] == 1]\n",
        "data_and_number_institution_fund.shape"
      ]
    },
    {
      "cell_type": "code",
      "execution_count": null,
      "id": "6f9ef042-fd6e-479a-b766-eb062c7d88d4",
      "metadata": {
        "id": "6f9ef042-fd6e-479a-b766-eb062c7d88d4"
      },
      "outputs": [],
      "source": [
        "data_and_number_institutionT = data_and_number_institution_fund.T\n",
        "\n",
        "data_and_number_institutionT['countries'] = data_and_number_institutionT.index\n",
        "\n",
        "number_of_institution_mean_list = []\n",
        "number_of_institution_count_list = []\n",
        "for country in data_and_number_institution_fund.columns:\n",
        "    number_of_institution_count_list.append(data_and_number_institution_fund.dropna(subset=[country])['number_of_institution'].count())\n",
        "    number_of_institution_mean_list.append(data_and_number_institution_fund.dropna(subset=[country])['number_of_institution'].mean())\n",
        "\n",
        "# rename countries names on columns\n",
        "countries = data_and_number_institution_fund.columns.to_list()\n",
        "number_of_institution_count  = number_of_institution_count_list\n",
        "number_of_institution_mean = number_of_institution_mean_list\n",
        "\n",
        "data_and_number_institutionT_count = pd.DataFrame({'countries': countries, 'fund_number_of_institution_count': number_of_institution_count})\n",
        "data_and_number_institutionT_mean = pd.DataFrame({'countries': countries, 'fund_number_of_institution_mean': number_of_institution_mean})\n",
        "\n",
        "# ********\n",
        "data_and_number_institutionT_concat = data_and_number_institutionT.reset_index().merge(data_and_number_institutionT_count, on = 'countries', how='left')\n",
        "data_and_number_institutionT_concat = data_and_number_institutionT_concat.merge(data_and_number_institutionT_mean, on = 'countries', how='left')\n",
        "\n",
        "data_and_number_institutionT_concat_number_of_institution_fund = data_and_number_institutionT_concat[['countries','fund_number_of_institution_count','fund_number_of_institution_mean']]\n",
        "\n",
        "# save data\n",
        "# data_and_number_institutionT_concat_all.to_csv(f'../TABLES/countries_fund_number_of_institution_count_mean.csv')\n",
        "data_and_number_institutionT_concat_number_of_institution_fund"
      ]
    },
    {
      "cell_type": "code",
      "execution_count": null,
      "id": "0bbaf205-26c9-4087-9df5-10ab363ff6ad",
      "metadata": {
        "id": "0bbaf205-26c9-4087-9df5-10ab363ff6ad"
      },
      "outputs": [],
      "source": []
    },
    {
      "cell_type": "markdown",
      "id": "5a492650-7359-46c0-bcfc-881dfc8e5367",
      "metadata": {
        "id": "5a492650-7359-46c0-bcfc-881dfc8e5367"
      },
      "source": [
        "### proportion no fund"
      ]
    },
    {
      "cell_type": "code",
      "execution_count": null,
      "id": "352ccc58-cf17-46b5-85ed-b70108b5abce",
      "metadata": {
        "id": "352ccc58-cf17-46b5-85ed-b70108b5abce"
      },
      "outputs": [],
      "source": [
        "data_and_number_institution_no_fund = data_and_number_institution.loc[data_and_number_institution['funding_yes'] == 0]\n",
        "data_and_number_institution_no_fund.shape"
      ]
    },
    {
      "cell_type": "code",
      "execution_count": null,
      "id": "1ec3ab61-7a90-45b0-849f-4d0599531b11",
      "metadata": {
        "id": "1ec3ab61-7a90-45b0-849f-4d0599531b11"
      },
      "outputs": [],
      "source": [
        "data_and_number_institutionT = data_and_number_institution_no_fund.T\n",
        "\n",
        "data_and_number_institutionT['countries'] = data_and_number_institutionT.index\n",
        "\n",
        "number_of_institution_mean_list = []\n",
        "number_of_institution_count_list = []\n",
        "for country in data_and_number_institution_no_fund.columns:\n",
        "    number_of_institution_count_list.append(data_and_number_institution_no_fund.dropna(subset=[country])['number_of_institution'].count())\n",
        "    number_of_institution_mean_list.append(data_and_number_institution_no_fund.dropna(subset=[country])['number_of_institution'].mean())\n",
        "\n",
        "# rename countries names on columns\n",
        "countries = data_and_number_institution_no_fund.columns.to_list()\n",
        "number_of_institution_count  = number_of_institution_count_list\n",
        "number_of_institution_mean = number_of_institution_mean_list\n",
        "\n",
        "data_and_number_institutionT_count = pd.DataFrame({'countries': countries, 'no_fund_number_of_institution_count': number_of_institution_count})\n",
        "data_and_number_institutionT_mean = pd.DataFrame({'countries': countries, 'no_fund_number_of_institution_mean': number_of_institution_mean})\n",
        "\n",
        "# ********\n",
        "data_and_number_institutionT_concat = data_and_number_institutionT.reset_index().merge(data_and_number_institutionT_count, on = 'countries', how='left')\n",
        "data_and_number_institutionT_concat = data_and_number_institutionT_concat.merge(data_and_number_institutionT_mean, on = 'countries', how='left')\n",
        "\n",
        "data_and_number_institutionT_concat_number_of_institution_nofund = data_and_number_institutionT_concat[['countries','no_fund_number_of_institution_count','no_fund_number_of_institution_mean']]\n",
        "\n",
        "# save data\n",
        "# data_and_number_institutionT_concat_all.to_csv(f'../TABLES/countries_no_fund_number_of_institution_count_mean.csv')\n",
        "data_and_number_institutionT_concat_number_of_institution_nofund"
      ]
    },
    {
      "cell_type": "code",
      "execution_count": null,
      "id": "306445f2-48a4-4e8b-8b88-dd6ec22dd604",
      "metadata": {
        "id": "306445f2-48a4-4e8b-8b88-dd6ec22dd604"
      },
      "outputs": [],
      "source": []
    },
    {
      "cell_type": "markdown",
      "id": "e595caa8-5813-40ef-ae04-b13c8de352a5",
      "metadata": {
        "id": "e595caa8-5813-40ef-ae04-b13c8de352a5"
      },
      "source": [
        "### concat and save data"
      ]
    },
    {
      "cell_type": "code",
      "execution_count": null,
      "id": "3f4c0d62-fe37-4b6b-a71a-58c7bd37d7e6",
      "metadata": {
        "id": "3f4c0d62-fe37-4b6b-a71a-58c7bd37d7e6"
      },
      "outputs": [],
      "source": [
        "# concatenate dataframes on index\n",
        "concat_data_number_of_institution_list = pd.concat([data_and_number_institutionT_concat_all.set_index('countries'),\n",
        "                                    data_and_number_institutionT_concat_number_of_institution_fund.set_index('countries'),\n",
        "                                    data_and_number_institutionT_concat_number_of_institution_nofund.set_index('countries')],\n",
        "                                    axis=1)\n",
        "# save data\n",
        "concat_data_number_of_institution_list.to_csv(f'../TABLES/concat_data_number_of_institution_list.csv')\n",
        "concat_data_number_of_institution_list"
      ]
    },
    {
      "cell_type": "markdown",
      "id": "7c5a755d-2715-4f59-a7a5-b3a3c55e19ec",
      "metadata": {
        "id": "7c5a755d-2715-4f59-a7a5-b3a3c55e19ec"
      },
      "source": [
        "### significance"
      ]
    },
    {
      "cell_type": "code",
      "execution_count": null,
      "id": "e237cb0b-200e-4566-970c-25af2eecb8b0",
      "metadata": {
        "id": "e237cb0b-200e-4566-970c-25af2eecb8b0"
      },
      "outputs": [],
      "source": [
        "number_institution.describe()"
      ]
    },
    {
      "cell_type": "code",
      "execution_count": null,
      "id": "6c4bc274-a414-4055-a22b-c9c0bdda835f",
      "metadata": {
        "id": "6c4bc274-a414-4055-a22b-c9c0bdda835f"
      },
      "outputs": [],
      "source": [
        "fund_number_of_institution = data_and_number_institution.loc[data_and_number_institution['funding_yes'] == 1]['number_of_institution']#.to_list()\n",
        "fund_number_of_institution.describe()"
      ]
    },
    {
      "cell_type": "code",
      "execution_count": null,
      "id": "3f5d21d0-698d-4fc3-a435-eea4c0684c90",
      "metadata": {
        "id": "3f5d21d0-698d-4fc3-a435-eea4c0684c90"
      },
      "outputs": [],
      "source": [
        "no_fund_number_of_institution = data_and_number_institution.loc[data_and_number_institution['funding_yes'] == 0]['number_of_institution']#.to_list()\n",
        "no_fund_number_of_institution.describe()"
      ]
    },
    {
      "cell_type": "code",
      "execution_count": null,
      "id": "84eb564e-96bc-4621-9ee4-71c4e9e7c7ec",
      "metadata": {
        "id": "84eb564e-96bc-4621-9ee4-71c4e9e7c7ec"
      },
      "outputs": [],
      "source": [
        "test_sig(fund_number_of_institution, no_fund_number_of_institution)"
      ]
    },
    {
      "cell_type": "code",
      "execution_count": null,
      "id": "3eb8753b-91a2-4f03-9a2e-184929f4dfb8",
      "metadata": {
        "id": "3eb8753b-91a2-4f03-9a2e-184929f4dfb8"
      },
      "outputs": [],
      "source": [
        "fund_number_of_institution_new = [x for x in fund_number_of_institution if x != 0]\n",
        "no_fund_number_of_institution_new = [x for x in no_fund_number_of_institution if x != 0]"
      ]
    },
    {
      "cell_type": "code",
      "execution_count": null,
      "id": "758b55a6-270d-432a-9243-726592cd1e4f",
      "metadata": {
        "id": "758b55a6-270d-432a-9243-726592cd1e4f"
      },
      "outputs": [],
      "source": [
        "test_sig(fund_number_of_institution_new, no_fund_number_of_institution_new)"
      ]
    },
    {
      "cell_type": "code",
      "execution_count": null,
      "id": "536fc43b-9804-4a90-81ec-14d35aebb6ca",
      "metadata": {
        "id": "536fc43b-9804-4a90-81ec-14d35aebb6ca"
      },
      "outputs": [],
      "source": []
    },
    {
      "cell_type": "raw",
      "id": "f3b19a1b-498c-42e2-82ad-8b7a4887563c",
      "metadata": {
        "id": "f3b19a1b-498c-42e2-82ad-8b7a4887563c"
      },
      "source": [
        "https://plotly.com/python/box-plots/"
      ]
    },
    {
      "cell_type": "code",
      "execution_count": null,
      "id": "a22d9a5e-eca4-4766-81a3-2c3593128988",
      "metadata": {
        "id": "a22d9a5e-eca4-4766-81a3-2c3593128988"
      },
      "outputs": [],
      "source": [
        "import plotly.express as px\n",
        "fig = px.box(data_and_number_institution, x=\"funding_yes\", y='number_of_institution', color=\"funding_yes\")\n",
        "# setting the y-axis range from 0 to 50\n",
        "fig.update_layout(yaxis_range=[-2,100])\n",
        "fig.update_layout(font_size=20)\n",
        "\n",
        "fig.show()"
      ]
    },
    {
      "cell_type": "code",
      "execution_count": null,
      "id": "890742b0-c326-4c6c-9c3b-e40ea81ba49f",
      "metadata": {
        "id": "890742b0-c326-4c6c-9c3b-e40ea81ba49f"
      },
      "outputs": [],
      "source": []
    },
    {
      "cell_type": "code",
      "execution_count": null,
      "id": "dae5dbbe-dc81-4e20-acec-922e08bc85ac",
      "metadata": {
        "id": "dae5dbbe-dc81-4e20-acec-922e08bc85ac"
      },
      "outputs": [],
      "source": []
    },
    {
      "cell_type": "code",
      "execution_count": null,
      "id": "57e43af0-1457-4b2b-bfa4-ac76f5159c70",
      "metadata": {
        "id": "57e43af0-1457-4b2b-bfa4-ac76f5159c70"
      },
      "outputs": [],
      "source": []
    },
    {
      "cell_type": "code",
      "execution_count": null,
      "id": "b0979aad",
      "metadata": {
        "id": "b0979aad"
      },
      "outputs": [],
      "source": []
    }
  ],
  "metadata": {
    "kernelspec": {
      "display_name": "Python 3 (ipykernel)",
      "language": "python",
      "name": "python3"
    },
    "language_info": {
      "codemirror_mode": {
        "name": "ipython",
        "version": 3
      },
      "file_extension": ".py",
      "mimetype": "text/x-python",
      "name": "python",
      "nbconvert_exporter": "python",
      "pygments_lexer": "ipython3",
      "version": "3.8.8"
    },
    "colab": {
      "provenance": [],
      "include_colab_link": true
    }
  },
  "nbformat": 4,
  "nbformat_minor": 5
}