{
  "cells": [
    {
      "cell_type": "markdown",
      "metadata": {
        "id": "view-in-github",
        "colab_type": "text"
      },
      "source": [
        "<a href=\"https://colab.research.google.com/github/descartesmbogning/Marburg-virus-research/blob/main/3_analysis_visibility.ipynb\" target=\"_parent\"><img src=\"https://colab.research.google.com/assets/colab-badge.svg\" alt=\"Open In Colab\"/></a>"
      ]
    },
    {
      "cell_type": "code",
      "execution_count": null,
      "id": "3dc7f689-773e-4971-a55f-d3c09667b68a",
      "metadata": {
        "id": "3dc7f689-773e-4971-a55f-d3c09667b68a"
      },
      "outputs": [],
      "source": [
        "import pandas as pd\n",
        "import numpy as np\n",
        "import re\n",
        "from functools import reduce\n",
        "import seaborn as sns\n",
        "import missingno as msno\n",
        "%matplotlib inline\n",
        "\n",
        "import matplotlib.pyplot as plt\n",
        "from scipy.stats import norm\n"
      ]
    },
    {
      "cell_type": "code",
      "execution_count": null,
      "id": "5fc276f9-95ac-4a3a-8e66-d6fbe79e78ab",
      "metadata": {
        "id": "5fc276f9-95ac-4a3a-8e66-d6fbe79e78ab"
      },
      "outputs": [],
      "source": [
        "# Set the figure size - handy for larger output\n",
        "from matplotlib import pyplot as plt\n",
        "plt.rcParams[\"figure.figsize\"] = [10, 6]\n",
        "# Set up with a higher resolution screen (useful on Mac)\n",
        "%config InlineBackend.figure_format = 'retina'"
      ]
    },
    {
      "cell_type": "code",
      "execution_count": null,
      "id": "933ef059-e908-4062-8d42-e359dec00daf",
      "metadata": {
        "id": "933ef059-e908-4062-8d42-e359dec00daf"
      },
      "outputs": [],
      "source": []
    },
    {
      "cell_type": "code",
      "execution_count": null,
      "id": "82c19991-6643-4716-ac7b-9b29d27e7554",
      "metadata": {
        "id": "82c19991-6643-4716-ac7b-9b29d27e7554"
      },
      "outputs": [],
      "source": [
        "from scipy import stats #the only import you actually need for this\n",
        "import numpy as np\n",
        "import seaborn as sns\n",
        "import pandas as pd\n",
        "import matplotlib.pyplot as plt\n",
        "%config InlineBackend.print_figure_kwargs={'facecolor' : \"w\"}"
      ]
    },
    {
      "cell_type": "code",
      "execution_count": null,
      "id": "5e8d14be-96e7-405c-a683-7274947176bb",
      "metadata": {
        "id": "5e8d14be-96e7-405c-a683-7274947176bb"
      },
      "outputs": [],
      "source": [
        "#example function that tests distribution then picks test accordingly\n",
        "def test_sig(x, y):\n",
        "    if stats.shapiro(x).pvalue >= 0.05 and stats.shapiro(y).pvalue >= 0.05: #if they are normally distriuted\n",
        "        print(\"t-test\")\n",
        "        return stats.ttest_ind(x,y)\n",
        "    else:\n",
        "        print(\"mann-whitney\")\n",
        "        return stats.mannwhitneyu(x, y)"
      ]
    },
    {
      "cell_type": "code",
      "execution_count": null,
      "id": "4c6fb9cf-c407-4c62-b436-250be7fe417b",
      "metadata": {
        "id": "4c6fb9cf-c407-4c62-b436-250be7fe417b"
      },
      "outputs": [],
      "source": []
    },
    {
      "cell_type": "markdown",
      "id": "b72503cc-2c5c-45dd-8c0f-00f07b71bb10",
      "metadata": {
        "id": "b72503cc-2c5c-45dd-8c0f-00f07b71bb10"
      },
      "source": [
        "## import data"
      ]
    },
    {
      "cell_type": "code",
      "execution_count": null,
      "id": "89a5c933-26d3-4542-9b36-4c15e0d31483",
      "metadata": {
        "id": "89a5c933-26d3-4542-9b36-4c15e0d31483",
        "outputId": "9931ec00-24ac-4087-a502-e11fb7c053ec"
      },
      "outputs": [
        {
          "data": {
            "text/html": [
              "<div>\n",
              "<style scoped>\n",
              "    .dataframe tbody tr th:only-of-type {\n",
              "        vertical-align: middle;\n",
              "    }\n",
              "\n",
              "    .dataframe tbody tr th {\n",
              "        vertical-align: top;\n",
              "    }\n",
              "\n",
              "    .dataframe thead th {\n",
              "        text-align: right;\n",
              "    }\n",
              "</style>\n",
              "<table border=\"1\" class=\"dataframe\">\n",
              "  <thead>\n",
              "    <tr style=\"text-align: right;\">\n",
              "      <th></th>\n",
              "      <th>Unnamed: 0</th>\n",
              "      <th>wos_ID</th>\n",
              "      <th>funding_yes</th>\n",
              "      <th>open_access_yes</th>\n",
              "      <th>Funding Name Preferred</th>\n",
              "      <th>europe and central asia</th>\n",
              "      <th>north america</th>\n",
              "      <th>africa</th>\n",
              "      <th>sub-saharan africa</th>\n",
              "      <th>east asia and pacific</th>\n",
              "      <th>...</th>\n",
              "      <th>fulbright foundation - usa</th>\n",
              "      <th>world bank - multilateral</th>\n",
              "      <th>china association for science and technology - china</th>\n",
              "      <th>zhejiang university - china</th>\n",
              "      <th>Funding Orgs</th>\n",
              "      <th>Open Access Designations</th>\n",
              "      <th>Times Cited, All Databases</th>\n",
              "      <th>180 Day Usage Count</th>\n",
              "      <th>Since 2013 Usage Count</th>\n",
              "      <th>Publication Year</th>\n",
              "    </tr>\n",
              "  </thead>\n",
              "  <tbody>\n",
              "    <tr>\n",
              "      <th>1</th>\n",
              "      <td>1</td>\n",
              "      <td>wos:000921279800001</td>\n",
              "      <td>1</td>\n",
              "      <td>1</td>\n",
              "      <td>National Institutes of Health (NIH)(United Sta...</td>\n",
              "      <td>NaN</td>\n",
              "      <td>2.0</td>\n",
              "      <td>NaN</td>\n",
              "      <td>NaN</td>\n",
              "      <td>NaN</td>\n",
              "      <td>...</td>\n",
              "      <td>NaN</td>\n",
              "      <td>NaN</td>\n",
              "      <td>NaN</td>\n",
              "      <td>NaN</td>\n",
              "      <td>national institutes of health (nih) [u19ai1427...</td>\n",
              "      <td>hybrid</td>\n",
              "      <td>NaN</td>\n",
              "      <td>NaN</td>\n",
              "      <td>NaN</td>\n",
              "      <td>2023.0</td>\n",
              "    </tr>\n",
              "    <tr>\n",
              "      <th>2</th>\n",
              "      <td>2</td>\n",
              "      <td>wos:000909001200001</td>\n",
              "      <td>1</td>\n",
              "      <td>1</td>\n",
              "      <td>Russian Science Foundation(Russian Science Fou...</td>\n",
              "      <td>1.0</td>\n",
              "      <td>NaN</td>\n",
              "      <td>NaN</td>\n",
              "      <td>NaN</td>\n",
              "      <td>NaN</td>\n",
              "      <td>...</td>\n",
              "      <td>NaN</td>\n",
              "      <td>NaN</td>\n",
              "      <td>NaN</td>\n",
              "      <td>NaN</td>\n",
              "      <td>russian science foundation;  [22-13-00036]</td>\n",
              "      <td>gold, green accepted</td>\n",
              "      <td>NaN</td>\n",
              "      <td>3.0</td>\n",
              "      <td>3.0</td>\n",
              "      <td>2023.0</td>\n",
              "    </tr>\n",
              "  </tbody>\n",
              "</table>\n",
              "<p>2 rows × 521 columns</p>\n",
              "</div>"
            ],
            "text/plain": [
              "   Unnamed: 0               wos_ID  funding_yes  open_access_yes  \\\n",
              "1           1  wos:000921279800001            1                1   \n",
              "2           2  wos:000909001200001            1                1   \n",
              "\n",
              "                              Funding Name Preferred  europe and central asia  \\\n",
              "1  National Institutes of Health (NIH)(United Sta...                      NaN   \n",
              "2  Russian Science Foundation(Russian Science Fou...                      1.0   \n",
              "\n",
              "   north america  africa  sub-saharan africa  east asia and pacific  ...  \\\n",
              "1            2.0     NaN                 NaN                    NaN  ...   \n",
              "2            NaN     NaN                 NaN                    NaN  ...   \n",
              "\n",
              "   fulbright foundation - usa  world bank - multilateral  \\\n",
              "1                         NaN                        NaN   \n",
              "2                         NaN                        NaN   \n",
              "\n",
              "   china association for science and technology - china  \\\n",
              "1                                                NaN      \n",
              "2                                                NaN      \n",
              "\n",
              "   zhejiang university - china  \\\n",
              "1                          NaN   \n",
              "2                          NaN   \n",
              "\n",
              "                                        Funding Orgs  \\\n",
              "1  national institutes of health (nih) [u19ai1427...   \n",
              "2         russian science foundation;  [22-13-00036]   \n",
              "\n",
              "   Open Access Designations  Times Cited, All Databases  180 Day Usage Count  \\\n",
              "1                    hybrid                         NaN                  NaN   \n",
              "2      gold, green accepted                         NaN                  3.0   \n",
              "\n",
              "   Since 2013 Usage Count  Publication Year  \n",
              "1                     NaN            2023.0  \n",
              "2                     3.0            2023.0  \n",
              "\n",
              "[2 rows x 521 columns]"
            ]
          },
          "execution_count": 5,
          "metadata": {},
          "output_type": "execute_result"
        }
      ],
      "source": [
        "data = pd.read_csv('D:\\MARBURG VIRUS DISEASES\\TABLES/data_fund_region_country_and_org_clean_dummies_col_replace_grp.csv')#.drop(['Addresses'], axis=1)\n",
        "data = data.loc[data['funding_yes'] == 1]\n",
        "data.head(2)"
      ]
    },
    {
      "cell_type": "code",
      "execution_count": null,
      "id": "a4c50669-8420-4f39-b602-0ed9cb9c56db",
      "metadata": {
        "id": "a4c50669-8420-4f39-b602-0ed9cb9c56db",
        "outputId": "c9ec44c8-9339-4295-f444-c447ca0bf2c8"
      },
      "outputs": [
        {
          "data": {
            "text/plain": [
              "Unnamed: 0                 577\n",
              "wos_ID                     577\n",
              "funding_yes                577\n",
              "open_access_yes            577\n",
              "Funding Name Preferred     575\n",
              "europe and central asia    125\n",
              "north america              431\n",
              "africa                       2\n",
              "sub-saharan africa          20\n",
              "east asia and pacific       78\n",
              "dtype: int64"
            ]
          },
          "execution_count": 6,
          "metadata": {},
          "output_type": "execute_result"
        }
      ],
      "source": [
        "data.count().head(10)"
      ]
    },
    {
      "cell_type": "code",
      "execution_count": null,
      "id": "709bae1e-241d-48ad-9ae4-e2d4192dc710",
      "metadata": {
        "id": "709bae1e-241d-48ad-9ae4-e2d4192dc710"
      },
      "outputs": [],
      "source": []
    },
    {
      "cell_type": "code",
      "execution_count": null,
      "id": "247651d8-12b5-4a26-a8e5-3530859ead76",
      "metadata": {
        "id": "247651d8-12b5-4a26-a8e5-3530859ead76"
      },
      "outputs": [],
      "source": []
    },
    {
      "cell_type": "markdown",
      "id": "4d379b8d-cc23-454b-b34b-4ae708eab2cb",
      "metadata": {
        "tags": [],
        "id": "4d379b8d-cc23-454b-b34b-4ae708eab2cb"
      },
      "source": [
        "# The visibility of Marburg Virus Diseases publications (impact)"
      ]
    },
    {
      "cell_type": "markdown",
      "id": "f7ff89c9-4e12-4b92-961a-3ccdf613c149",
      "metadata": {
        "tags": [],
        "id": "f7ff89c9-4e12-4b92-961a-3ccdf613c149"
      },
      "source": [
        "## 'Times Cited, All Databases'"
      ]
    },
    {
      "cell_type": "markdown",
      "id": "db102919-b01b-4e80-a1ee-c509ad967827",
      "metadata": {
        "tags": [],
        "id": "db102919-b01b-4e80-a1ee-c509ad967827"
      },
      "source": [
        "### proportion all"
      ]
    },
    {
      "cell_type": "code",
      "execution_count": null,
      "id": "ff02577a-912d-4bbb-8b76-b082d1ee7c9d",
      "metadata": {
        "id": "ff02577a-912d-4bbb-8b76-b082d1ee7c9d",
        "outputId": "1ca4d826-13aa-4cf0-ec78-244e8c773478"
      },
      "outputs": [
        {
          "data": {
            "text/html": [
              "<div>\n",
              "<style scoped>\n",
              "    .dataframe tbody tr th:only-of-type {\n",
              "        vertical-align: middle;\n",
              "    }\n",
              "\n",
              "    .dataframe tbody tr th {\n",
              "        vertical-align: top;\n",
              "    }\n",
              "\n",
              "    .dataframe thead th {\n",
              "        text-align: right;\n",
              "    }\n",
              "</style>\n",
              "<table border=\"1\" class=\"dataframe\">\n",
              "  <thead>\n",
              "    <tr style=\"text-align: right;\">\n",
              "      <th></th>\n",
              "      <th>tca_sum</th>\n",
              "      <th>tca_mean</th>\n",
              "      <th>tca_count</th>\n",
              "    </tr>\n",
              "    <tr>\n",
              "      <th>countries</th>\n",
              "      <th></th>\n",
              "      <th></th>\n",
              "      <th></th>\n",
              "    </tr>\n",
              "  </thead>\n",
              "  <tbody>\n",
              "    <tr>\n",
              "      <th>Unnamed: 0</th>\n",
              "      <td>22280.0</td>\n",
              "      <td>40.731261</td>\n",
              "      <td>547.0</td>\n",
              "    </tr>\n",
              "    <tr>\n",
              "      <th>wos_ID</th>\n",
              "      <td>22280.0</td>\n",
              "      <td>40.731261</td>\n",
              "      <td>547.0</td>\n",
              "    </tr>\n",
              "    <tr>\n",
              "      <th>funding_yes</th>\n",
              "      <td>22280.0</td>\n",
              "      <td>40.731261</td>\n",
              "      <td>547.0</td>\n",
              "    </tr>\n",
              "    <tr>\n",
              "      <th>open_access_yes</th>\n",
              "      <td>22280.0</td>\n",
              "      <td>40.731261</td>\n",
              "      <td>547.0</td>\n",
              "    </tr>\n",
              "    <tr>\n",
              "      <th>Funding Name Preferred</th>\n",
              "      <td>22264.0</td>\n",
              "      <td>40.851376</td>\n",
              "      <td>545.0</td>\n",
              "    </tr>\n",
              "    <tr>\n",
              "      <th>...</th>\n",
              "      <td>...</td>\n",
              "      <td>...</td>\n",
              "      <td>...</td>\n",
              "    </tr>\n",
              "    <tr>\n",
              "      <th>Open Access Designations</th>\n",
              "      <td>20894.0</td>\n",
              "      <td>43.620042</td>\n",
              "      <td>479.0</td>\n",
              "    </tr>\n",
              "    <tr>\n",
              "      <th>Times Cited, All Databases</th>\n",
              "      <td>22280.0</td>\n",
              "      <td>40.731261</td>\n",
              "      <td>547.0</td>\n",
              "    </tr>\n",
              "    <tr>\n",
              "      <th>180 Day Usage Count</th>\n",
              "      <td>10068.0</td>\n",
              "      <td>47.046729</td>\n",
              "      <td>214.0</td>\n",
              "    </tr>\n",
              "    <tr>\n",
              "      <th>Since 2013 Usage Count</th>\n",
              "      <td>22232.0</td>\n",
              "      <td>41.477612</td>\n",
              "      <td>536.0</td>\n",
              "    </tr>\n",
              "    <tr>\n",
              "      <th>Publication Year</th>\n",
              "      <td>22277.0</td>\n",
              "      <td>40.800366</td>\n",
              "      <td>546.0</td>\n",
              "    </tr>\n",
              "  </tbody>\n",
              "</table>\n",
              "<p>521 rows × 3 columns</p>\n",
              "</div>"
            ],
            "text/plain": [
              "                            tca_sum   tca_mean  tca_count\n",
              "countries                                                \n",
              "Unnamed: 0                  22280.0  40.731261      547.0\n",
              "wos_ID                      22280.0  40.731261      547.0\n",
              "funding_yes                 22280.0  40.731261      547.0\n",
              "open_access_yes             22280.0  40.731261      547.0\n",
              "Funding Name Preferred      22264.0  40.851376      545.0\n",
              "...                             ...        ...        ...\n",
              "Open Access Designations    20894.0  43.620042      479.0\n",
              "Times Cited, All Databases  22280.0  40.731261      547.0\n",
              "180 Day Usage Count         10068.0  47.046729      214.0\n",
              "Since 2013 Usage Count      22232.0  41.477612      536.0\n",
              "Publication Year            22277.0  40.800366      546.0\n",
              "\n",
              "[521 rows x 3 columns]"
            ]
          },
          "execution_count": 8,
          "metadata": {},
          "output_type": "execute_result"
        }
      ],
      "source": [
        "dataT = data.T\n",
        "\n",
        "dataT['countries'] = dataT.index\n",
        "\n",
        "tca_std_list = []\n",
        "tca_median_list = []\n",
        "tca_mean_list = []\n",
        "tca_sum_list = []\n",
        "for country in data.columns:\n",
        "    tca_sum_list.append(data.dropna(subset=[country])['Times Cited, All Databases'].sum())\n",
        "    tca_mean_list.append(data.dropna(subset=[country])['Times Cited, All Databases'].mean())\n",
        "\n",
        "# rename countries names on columns\n",
        "countries = list(dataT.index)\n",
        "tca_sum  = tca_sum_list\n",
        "tca_mean = tca_mean_list\n",
        "\n",
        "dataT_sum = pd.DataFrame({'countries': countries, 'tca_sum': tca_sum})\n",
        "dataT_mean = pd.DataFrame({'countries': countries, 'tca_mean': tca_mean_list})\n",
        "\n",
        "# ********\n",
        "dataT_concat = dataT.reset_index().merge(dataT_sum, on = 'countries', how='left')\n",
        "dataT_concat = dataT_concat.merge(dataT_mean, on = 'countries', how='left')\n",
        "\n",
        "dataT_concat['tca_count'] = dataT_concat['tca_sum']/dataT_concat['tca_mean']\n",
        "\n",
        "#####\n",
        "dataT_concat_all_tca = dataT_concat[['countries','tca_sum','tca_mean','tca_count']].set_index('countries')\n",
        "\n",
        "# save data\n",
        "dataT_concat_all_tca.to_csv(f'../TABLES/region_countries_org_tca_sum_mean_count.csv')\n",
        "dataT_concat_all_tca"
      ]
    },
    {
      "cell_type": "code",
      "execution_count": null,
      "id": "b2c86905-f0e5-40d1-a533-683605e04615",
      "metadata": {
        "id": "b2c86905-f0e5-40d1-a533-683605e04615"
      },
      "outputs": [],
      "source": [
        "len(tca_sum)"
      ]
    },
    {
      "cell_type": "code",
      "execution_count": null,
      "id": "0d2d728f-2114-4658-aca9-ebd6e7a783c1",
      "metadata": {
        "id": "0d2d728f-2114-4658-aca9-ebd6e7a783c1"
      },
      "outputs": [],
      "source": [
        "len(tca_mean)"
      ]
    },
    {
      "cell_type": "code",
      "execution_count": null,
      "id": "19fbc46f-4d25-4583-b350-ee52d261556c",
      "metadata": {
        "id": "19fbc46f-4d25-4583-b350-ee52d261556c"
      },
      "outputs": [],
      "source": [
        "vvvv"
      ]
    },
    {
      "cell_type": "markdown",
      "id": "ad79bbae-7a52-4d6e-b106-7b6a4a2c6bea",
      "metadata": {
        "tags": [],
        "id": "ad79bbae-7a52-4d6e-b106-7b6a4a2c6bea"
      },
      "source": [
        "### proportion fund research"
      ]
    },
    {
      "cell_type": "code",
      "execution_count": null,
      "id": "632533f2-741a-4dca-aad9-bd8d586107cc",
      "metadata": {
        "id": "632533f2-741a-4dca-aad9-bd8d586107cc"
      },
      "outputs": [],
      "source": [
        "data_fund = data.loc[data['funding_yes'] == 1]\n",
        "data_fund.head(2)"
      ]
    },
    {
      "cell_type": "code",
      "execution_count": null,
      "id": "6e05c6bc-b169-4ecd-81b2-336ae29953f0",
      "metadata": {
        "id": "6e05c6bc-b169-4ecd-81b2-336ae29953f0"
      },
      "outputs": [],
      "source": []
    },
    {
      "cell_type": "code",
      "execution_count": null,
      "id": "d740e860-852b-4a3b-953e-1a0de5d8be43",
      "metadata": {
        "id": "d740e860-852b-4a3b-953e-1a0de5d8be43"
      },
      "outputs": [],
      "source": [
        "dataT = data_fund.T\n",
        "\n",
        "dataT['countries'] = dataT.index\n",
        "\n",
        "tca_std_list = []\n",
        "tca_median_list = []\n",
        "tca_mean_list = []\n",
        "tca_sum_list = []\n",
        "for country in data.columns:\n",
        "    tca_sum_list.append(data_fund.dropna(subset=[country])['Times Cited, All Databases'].sum())\n",
        "    tca_mean_list.append(data_fund.dropna(subset=[country])['Times Cited, All Databases'].mean())\n",
        "\n",
        "# rename countries names on columns\n",
        "countries = list(dataT.index)\n",
        "tca_sum  = tca_sum_list\n",
        "tca_mean = tca_mean_list\n",
        "\n",
        "dataT_sum = pd.DataFrame({'countries': countries, 'fund_tca_sum': tca_sum})\n",
        "dataT_mean = pd.DataFrame({'countries': countries, 'fund_tca_mean': tca_mean_list})\n",
        "\n",
        "# ********\n",
        "dataT_concat = dataT.reset_index().merge(dataT_sum, on = 'countries', how='left')\n",
        "dataT_concat = dataT_concat.merge(dataT_mean, on = 'countries', how='left')\n",
        "\n",
        "dataT_concat['fund_tca_count'] = dataT_concat['fund_tca_sum']/dataT_concat['fund_tca_mean']\n",
        "\n",
        "#####*****************\n",
        "dataT_concat_fund_tca = dataT_concat[['countries','fund_tca_sum','fund_tca_mean','fund_tca_count']].set_index('countries')\n",
        "\n",
        "# save data\n",
        "# dataT_concat_fund.to_csv(f'../TABLES/countries_fund_tca_sum_mean_count.csv')\n",
        "dataT_concat_fund_tca"
      ]
    },
    {
      "cell_type": "code",
      "execution_count": null,
      "id": "10ac841d-81dc-49a5-b345-5b3f6a0c0c14",
      "metadata": {
        "id": "10ac841d-81dc-49a5-b345-5b3f6a0c0c14"
      },
      "outputs": [],
      "source": []
    },
    {
      "cell_type": "markdown",
      "id": "97516bad-d422-4a5b-8ea4-3b509a0b9f9e",
      "metadata": {
        "tags": [],
        "id": "97516bad-d422-4a5b-8ea4-3b509a0b9f9e"
      },
      "source": [
        "### proportion no fund research"
      ]
    },
    {
      "cell_type": "code",
      "execution_count": null,
      "id": "c6d284d9-c452-4bf1-96d2-acdbac70786d",
      "metadata": {
        "id": "c6d284d9-c452-4bf1-96d2-acdbac70786d"
      },
      "outputs": [],
      "source": [
        "data_no_fund = data.loc[data['funding_yes'] == 0]\n",
        "data_no_fund.head(2)"
      ]
    },
    {
      "cell_type": "code",
      "execution_count": null,
      "id": "96d7999e-3023-4503-804e-c23acb5df698",
      "metadata": {
        "id": "96d7999e-3023-4503-804e-c23acb5df698"
      },
      "outputs": [],
      "source": []
    },
    {
      "cell_type": "code",
      "execution_count": null,
      "id": "5d409a8f-cf43-4409-8aaf-896cadf3fc48",
      "metadata": {
        "id": "5d409a8f-cf43-4409-8aaf-896cadf3fc48"
      },
      "outputs": [],
      "source": [
        "dataT = data_no_fund.T\n",
        "\n",
        "dataT['countries'] = dataT.index\n",
        "\n",
        "tca_std_list = []\n",
        "tca_median_list = []\n",
        "tca_mean_list = []\n",
        "tca_sum_list = []\n",
        "for country in data.columns:\n",
        "    tca_sum_list.append(data_no_fund.dropna(subset=[country])['Times Cited, All Databases'].sum())\n",
        "    tca_mean_list.append(data_no_fund.dropna(subset=[country])['Times Cited, All Databases'].mean())\n",
        "\n",
        "# rename countries names on columns\n",
        "countries = list(dataT.index)\n",
        "tca_sum  = tca_sum_list\n",
        "tca_mean = tca_mean_list\n",
        "\n",
        "dataT_sum = pd.DataFrame({'countries': countries, 'no_fund_tca_sum': tca_sum})\n",
        "dataT_mean = pd.DataFrame({'countries': countries, 'no_fund_tca_mean': tca_mean_list})\n",
        "\n",
        "# ********\n",
        "dataT_concat = dataT.reset_index().merge(dataT_sum, on = 'countries', how='left')\n",
        "dataT_concat = dataT_concat.merge(dataT_mean, on = 'countries', how='left')\n",
        "\n",
        "dataT_concat['no_fund_tca_count'] = dataT_concat['no_fund_tca_sum']/dataT_concat['no_fund_tca_mean']\n",
        "\n",
        "#####\n",
        "\n",
        "dataT_concat_no_fund_tca = dataT_concat[['countries','no_fund_tca_sum','no_fund_tca_mean','no_fund_tca_count']].set_index('countries')\n",
        "\n",
        "# save data\n",
        "# dataT_concat_no_fund.to_csv(f'../TABLES/countries_no_fund_tca_sum_mean.csv')\n",
        "dataT_concat_no_fund_tca"
      ]
    },
    {
      "cell_type": "code",
      "execution_count": null,
      "id": "1a0a817c-29dd-47f7-9944-1d2b7078777b",
      "metadata": {
        "id": "1a0a817c-29dd-47f7-9944-1d2b7078777b"
      },
      "outputs": [],
      "source": []
    },
    {
      "cell_type": "markdown",
      "id": "ecb285cc-34a2-4982-94c8-09ef079cc216",
      "metadata": {
        "id": "ecb285cc-34a2-4982-94c8-09ef079cc216"
      },
      "source": [
        "### concat and save data"
      ]
    },
    {
      "cell_type": "code",
      "execution_count": null,
      "id": "40d1a265-24fa-4e1c-8a51-bba4cacaa6c5",
      "metadata": {
        "tags": [],
        "id": "40d1a265-24fa-4e1c-8a51-bba4cacaa6c5"
      },
      "outputs": [],
      "source": [
        "# concatenate dataframes on index\n",
        "concat_data_pub_tca_list = pd.concat([dataT_concat_all_tca,\n",
        "                                    dataT_concat_fund_tca,\n",
        "                                    dataT_concat_no_fund_tca],\n",
        "                                    axis=1)\n",
        "# save data\n",
        "concat_data_pub_tca_list.to_csv(f'../TABLES/concat_data_pub_tca_list.csv')\n",
        "concat_data_pub_tca_list"
      ]
    },
    {
      "cell_type": "code",
      "execution_count": null,
      "id": "a746dfc5-bdfa-4d08-ae1c-299bc8838b92",
      "metadata": {
        "id": "a746dfc5-bdfa-4d08-ae1c-299bc8838b92"
      },
      "outputs": [],
      "source": []
    },
    {
      "cell_type": "markdown",
      "id": "91e87c7a-082c-47a2-87b1-7b94869878c3",
      "metadata": {
        "id": "91e87c7a-082c-47a2-87b1-7b94869878c3"
      },
      "source": [
        "### significance"
      ]
    },
    {
      "cell_type": "code",
      "execution_count": null,
      "id": "11f1a031-c34d-4fa7-8ae8-213259d3a9eb",
      "metadata": {
        "id": "11f1a031-c34d-4fa7-8ae8-213259d3a9eb"
      },
      "outputs": [],
      "source": [
        "df_fund = data[['funding_yes','Times Cited, All Databases']]\n",
        "df_fund"
      ]
    },
    {
      "cell_type": "code",
      "execution_count": null,
      "id": "20cd3aad-1817-4017-9099-b33c0be2f1ce",
      "metadata": {
        "id": "20cd3aad-1817-4017-9099-b33c0be2f1ce"
      },
      "outputs": [],
      "source": [
        "df_fund.count()"
      ]
    },
    {
      "cell_type": "code",
      "execution_count": null,
      "id": "8dc85ba5-350f-48d2-8611-657167ed17d4",
      "metadata": {
        "id": "8dc85ba5-350f-48d2-8611-657167ed17d4"
      },
      "outputs": [],
      "source": [
        "df_fund.reset_index().groupby(['funding_yes']).count()"
      ]
    },
    {
      "cell_type": "code",
      "execution_count": null,
      "id": "42409494-d282-47e7-84c4-06df3cdbf419",
      "metadata": {
        "id": "42409494-d282-47e7-84c4-06df3cdbf419"
      },
      "outputs": [],
      "source": [
        "df_fund = df_fund.dropna()\n",
        "df_fund"
      ]
    },
    {
      "cell_type": "code",
      "execution_count": null,
      "id": "fc25acc0-8745-4168-adc1-c9e3345e6059",
      "metadata": {
        "id": "fc25acc0-8745-4168-adc1-c9e3345e6059"
      },
      "outputs": [],
      "source": [
        "df_fund.reset_index().groupby(['funding_yes']).count()"
      ]
    },
    {
      "cell_type": "code",
      "execution_count": null,
      "id": "0aabf65b-f31c-4df3-a0aa-8c37586fa414",
      "metadata": {
        "id": "0aabf65b-f31c-4df3-a0aa-8c37586fa414"
      },
      "outputs": [],
      "source": [
        "df_fund.describe()"
      ]
    },
    {
      "cell_type": "code",
      "execution_count": null,
      "id": "f9581155-a4ad-4910-bf19-ea430c8c3f48",
      "metadata": {
        "id": "f9581155-a4ad-4910-bf19-ea430c8c3f48"
      },
      "outputs": [],
      "source": [
        "df_fund.loc[df_fund['funding_yes'] == 0].describe()"
      ]
    },
    {
      "cell_type": "code",
      "execution_count": null,
      "id": "ded91093-10bd-422a-a930-e23271e0da1e",
      "metadata": {
        "id": "ded91093-10bd-422a-a930-e23271e0da1e"
      },
      "outputs": [],
      "source": [
        "df_fund.loc[df_fund['funding_yes'] == 1].describe()"
      ]
    },
    {
      "cell_type": "code",
      "execution_count": null,
      "id": "7b690822-7505-4a0e-b9ec-a6dfd654860b",
      "metadata": {
        "id": "7b690822-7505-4a0e-b9ec-a6dfd654860b"
      },
      "outputs": [],
      "source": [
        "#------------"
      ]
    },
    {
      "cell_type": "code",
      "execution_count": null,
      "id": "6a616dd9-d403-432f-b9c7-0bdded5ebb1c",
      "metadata": {
        "id": "6a616dd9-d403-432f-b9c7-0bdded5ebb1c"
      },
      "outputs": [],
      "source": [
        "fund_TCA = df_fund.loc[df_fund['funding_yes'] == 1]['Times Cited, All Databases'].to_list()\n",
        "fund_TCA[:15]"
      ]
    },
    {
      "cell_type": "code",
      "execution_count": null,
      "id": "9ec63adb-c338-41e7-adf0-b73b58d29bba",
      "metadata": {
        "id": "9ec63adb-c338-41e7-adf0-b73b58d29bba"
      },
      "outputs": [],
      "source": [
        "no_fund_TCA = df_fund.loc[df_fund['funding_yes'] == 0]['Times Cited, All Databases'].to_list()"
      ]
    },
    {
      "cell_type": "code",
      "execution_count": null,
      "id": "24d58c93-7f06-4d0f-97df-6d26655915dd",
      "metadata": {
        "id": "24d58c93-7f06-4d0f-97df-6d26655915dd"
      },
      "outputs": [],
      "source": []
    },
    {
      "cell_type": "code",
      "execution_count": null,
      "id": "9e3387c5-63da-47a7-941d-f5f8e9f9d711",
      "metadata": {
        "id": "9e3387c5-63da-47a7-941d-f5f8e9f9d711"
      },
      "outputs": [],
      "source": [
        "test_sig(fund_TCA, no_fund_TCA)"
      ]
    },
    {
      "cell_type": "code",
      "execution_count": null,
      "id": "249174e3-397b-49aa-b262-c114cf8b1275",
      "metadata": {
        "id": "249174e3-397b-49aa-b262-c114cf8b1275"
      },
      "outputs": [],
      "source": []
    },
    {
      "cell_type": "raw",
      "id": "4a3c33dd-edbe-4bc0-b625-92a6808ce1e8",
      "metadata": {
        "id": "4a3c33dd-edbe-4bc0-b625-92a6808ce1e8"
      },
      "source": [
        "https://plotly.com/python/box-plots/"
      ]
    },
    {
      "cell_type": "code",
      "execution_count": null,
      "id": "6405c727-a878-4496-adce-52e2a12be29c",
      "metadata": {
        "id": "6405c727-a878-4496-adce-52e2a12be29c"
      },
      "outputs": [],
      "source": [
        "import plotly.express as px\n",
        "fig = px.box(df_fund, x=\"funding_yes\", y=\"Times Cited, All Databases\", color=\"funding_yes\")\n",
        "# setting the y-axis range from 0 to 50\n",
        "fig.update_layout(yaxis_range=[-2,100])\n",
        "fig.update_layout(font_size=20)\n",
        "\n",
        "fig.show()"
      ]
    },
    {
      "cell_type": "code",
      "execution_count": null,
      "id": "436b08ad-03fd-48e2-bb67-4742aecd5ce6",
      "metadata": {
        "id": "436b08ad-03fd-48e2-bb67-4742aecd5ce6"
      },
      "outputs": [],
      "source": []
    },
    {
      "cell_type": "code",
      "execution_count": null,
      "id": "0a86415e-70d5-4cd1-a06d-d3f87826966e",
      "metadata": {
        "id": "0a86415e-70d5-4cd1-a06d-d3f87826966e"
      },
      "outputs": [],
      "source": []
    },
    {
      "cell_type": "markdown",
      "id": "96ed7d81-8645-41d0-a95b-9750ab80b48b",
      "metadata": {
        "tags": [],
        "id": "96ed7d81-8645-41d0-a95b-9750ab80b48b"
      },
      "source": [
        "## '180 Day Usage Count'"
      ]
    },
    {
      "cell_type": "markdown",
      "id": "9d32781c-3c9a-4317-a55b-edc5424f4fb9",
      "metadata": {
        "tags": [],
        "id": "9d32781c-3c9a-4317-a55b-edc5424f4fb9"
      },
      "source": [
        "### proportion all"
      ]
    },
    {
      "cell_type": "code",
      "execution_count": null,
      "id": "2f2e2c9a-4f89-42f7-9b15-e6a39a1920ec",
      "metadata": {
        "id": "2f2e2c9a-4f89-42f7-9b15-e6a39a1920ec"
      },
      "outputs": [],
      "source": [
        "dataT = data.T\n",
        "\n",
        "dataT['countries'] = dataT.index\n",
        "\n",
        "last_180_Day_Usage_Count_std_list = []\n",
        "last_180_Day_Usage_Count_median_list = []\n",
        "last_180_Day_Usage_Count_mean_list = []\n",
        "last_180_Day_Usage_Count_sum_list = []\n",
        "for country in data.columns:\n",
        "    last_180_Day_Usage_Count_sum_list.append(data.dropna(subset=[country])['180 Day Usage Count'].sum())\n",
        "    last_180_Day_Usage_Count_mean_list.append(data.dropna(subset=[country])['180 Day Usage Count'].mean())\n",
        "\n",
        "# rename countries names on columns\n",
        "countries = list(dataT.index)\n",
        "last_180_Day_Usage_Count_sum  = last_180_Day_Usage_Count_sum_list\n",
        "last_180_Day_Usage_Count_mean = last_180_Day_Usage_Count_mean_list\n",
        "\n",
        "dataT_sum = pd.DataFrame({'countries': countries, 'all_180_Day_Usage_Count_sum': last_180_Day_Usage_Count_sum})\n",
        "dataT_mean = pd.DataFrame({'countries': countries, 'all_180_Day_Usage_Count_mean': last_180_Day_Usage_Count_mean_list})\n",
        "\n",
        "# ********\n",
        "dataT_concat = dataT.reset_index().merge(dataT_sum, on = 'countries', how='left')\n",
        "dataT_concat = dataT_concat.merge(dataT_mean, on = 'countries', how='left')\n",
        "\n",
        "dataT_concat['all_180_Day_Usage_Count_count'] = dataT_concat['all_180_Day_Usage_Count_sum']/dataT_concat['all_180_Day_Usage_Count_mean']\n",
        "\n",
        "#####\n",
        "\n",
        "\n",
        "dataT_concat_all_180_day = dataT_concat[['countries','all_180_Day_Usage_Count_sum','all_180_Day_Usage_Count_mean']].set_index('countries')\n",
        "\n",
        "# save data\n",
        "# dataT_concat_all.to_csv(f'../TABLES/countries_all_180_Day_Usage_Count_sum_mean.csv')\n",
        "dataT_concat_all_180_day"
      ]
    },
    {
      "cell_type": "code",
      "execution_count": null,
      "id": "19e7a8ae-0f27-44b2-a834-baf9dc9d1d37",
      "metadata": {
        "id": "19e7a8ae-0f27-44b2-a834-baf9dc9d1d37"
      },
      "outputs": [],
      "source": [
        "len(last_180_Day_Usage_Count_sum)"
      ]
    },
    {
      "cell_type": "code",
      "execution_count": null,
      "id": "6c087d7f-780d-4147-aef9-c4fd686eff83",
      "metadata": {
        "id": "6c087d7f-780d-4147-aef9-c4fd686eff83"
      },
      "outputs": [],
      "source": [
        "len(last_180_Day_Usage_Count_mean)"
      ]
    },
    {
      "cell_type": "code",
      "execution_count": null,
      "id": "c2d6343c-9427-48c0-b3f7-530a6824b421",
      "metadata": {
        "id": "c2d6343c-9427-48c0-b3f7-530a6824b421"
      },
      "outputs": [],
      "source": []
    },
    {
      "cell_type": "markdown",
      "id": "7f339819-d4c6-4ad4-9910-cced0fea5465",
      "metadata": {
        "id": "7f339819-d4c6-4ad4-9910-cced0fea5465"
      },
      "source": [
        "### proportion fund research"
      ]
    },
    {
      "cell_type": "code",
      "execution_count": null,
      "id": "3afc94f3-6f79-43d0-a41d-661e8f4df5d1",
      "metadata": {
        "id": "3afc94f3-6f79-43d0-a41d-661e8f4df5d1"
      },
      "outputs": [],
      "source": [
        "data_fund = data.loc[data['funding_yes'] == 1]\n",
        "data_fund.shape"
      ]
    },
    {
      "cell_type": "code",
      "execution_count": null,
      "id": "e339a5a2-cd4b-410c-9f0d-f4e3d51ce539",
      "metadata": {
        "id": "e339a5a2-cd4b-410c-9f0d-f4e3d51ce539"
      },
      "outputs": [],
      "source": []
    },
    {
      "cell_type": "code",
      "execution_count": null,
      "id": "0d273259-8776-4548-acf5-26d03ce75c86",
      "metadata": {
        "id": "0d273259-8776-4548-acf5-26d03ce75c86"
      },
      "outputs": [],
      "source": [
        "dataT = data_fund.T\n",
        "\n",
        "dataT['countries'] = dataT.index\n",
        "\n",
        "last_180_Day_Usage_Count_std_list = []\n",
        "last_180_Day_Usage_Count_median_list = []\n",
        "last_180_Day_Usage_Count_mean_list = []\n",
        "last_180_Day_Usage_Count_sum_list = []\n",
        "for country in data.columns:\n",
        "    last_180_Day_Usage_Count_sum_list.append(data_fund.dropna(subset=[country])['180 Day Usage Count'].sum())\n",
        "    last_180_Day_Usage_Count_mean_list.append(data_fund.dropna(subset=[country])['180 Day Usage Count'].mean())\n",
        "\n",
        "# rename countries names on columns\n",
        "countries = list(dataT.index)\n",
        "last_180_Day_Usage_Count_sum  = last_180_Day_Usage_Count_sum_list\n",
        "last_180_Day_Usage_Count_mean = last_180_Day_Usage_Count_mean_list\n",
        "\n",
        "dataT_sum = pd.DataFrame({'countries': countries, 'fund_180_Day_Usage_Count_sum': last_180_Day_Usage_Count_sum})\n",
        "dataT_mean = pd.DataFrame({'countries': countries, 'fund_180_Day_Usage_Count_mean': last_180_Day_Usage_Count_mean_list})\n",
        "\n",
        "# ********\n",
        "dataT_concat = dataT.reset_index().merge(dataT_sum, on = 'countries', how='left')\n",
        "dataT_concat = dataT_concat.merge(dataT_mean, on = 'countries', how='left')\n",
        "\n",
        "dataT_concat['fund_180_Day_Usage_Count_count'] = dataT_concat['fund_180_Day_Usage_Count_sum']/dataT_concat['fund_180_Day_Usage_Count_mean']\n",
        "\n",
        "#####\n",
        "\n",
        "\n",
        "dataT_concat_fund_180_day = dataT_concat[['countries','fund_180_Day_Usage_Count_sum','fund_180_Day_Usage_Count_mean','fund_180_Day_Usage_Count_count']].set_index('countries')\n",
        "\n",
        "# save data\n",
        "# dataT_concat_fund.to_csv(f'../TABLES/countries_fund_last_180_Day_Usage_Count_sum_mean.csv')\n",
        "dataT_concat_fund_180_day"
      ]
    },
    {
      "cell_type": "code",
      "execution_count": null,
      "id": "c5d2d1e2-8280-4dda-8465-6156545a6346",
      "metadata": {
        "id": "c5d2d1e2-8280-4dda-8465-6156545a6346"
      },
      "outputs": [],
      "source": []
    },
    {
      "cell_type": "markdown",
      "id": "3dac3023-f79b-4339-a9b6-0f87470a8559",
      "metadata": {
        "id": "3dac3023-f79b-4339-a9b6-0f87470a8559"
      },
      "source": [
        "### proportion no fund research"
      ]
    },
    {
      "cell_type": "code",
      "execution_count": null,
      "id": "b528f2b7-9926-44d4-9eed-49e901d5f584",
      "metadata": {
        "id": "b528f2b7-9926-44d4-9eed-49e901d5f584"
      },
      "outputs": [],
      "source": [
        "data_no_fund = data.loc[data['funding_yes'] == 0]\n",
        "data_no_fund"
      ]
    },
    {
      "cell_type": "code",
      "execution_count": null,
      "id": "d7feaba7-0a5c-4a8b-b055-e3e1e9bbd4d2",
      "metadata": {
        "id": "d7feaba7-0a5c-4a8b-b055-e3e1e9bbd4d2"
      },
      "outputs": [],
      "source": []
    },
    {
      "cell_type": "code",
      "execution_count": null,
      "id": "049cf2ae-e79d-46bf-80cf-f7279b2e2375",
      "metadata": {
        "id": "049cf2ae-e79d-46bf-80cf-f7279b2e2375"
      },
      "outputs": [],
      "source": [
        "dataT = data_no_fund.T\n",
        "\n",
        "dataT['countries'] = dataT.index\n",
        "\n",
        "last_180_Day_Usage_Count_std_list = []\n",
        "last_180_Day_Usage_Count_median_list = []\n",
        "last_180_Day_Usage_Count_mean_list = []\n",
        "last_180_Day_Usage_Count_sum_list = []\n",
        "for country in data.columns:\n",
        "    last_180_Day_Usage_Count_sum_list.append(data_no_fund.dropna(subset=[country])['180 Day Usage Count'].sum())\n",
        "    last_180_Day_Usage_Count_mean_list.append(data_no_fund.dropna(subset=[country])['180 Day Usage Count'].mean())\n",
        "\n",
        "# rename countries names on columns\n",
        "countries = list(dataT.index)\n",
        "last_180_Day_Usage_Count_sum  = last_180_Day_Usage_Count_sum_list\n",
        "# tca_std = tca_std_list\n",
        "# tca_median = tca_median_list\n",
        "last_180_Day_Usage_Count_mean = last_180_Day_Usage_Count_mean_list\n",
        "\n",
        "dataT_sum = pd.DataFrame({'countries': countries, 'no_fund_180_Day_Usage_Count_sum': last_180_Day_Usage_Count_sum})\n",
        "dataT_mean = pd.DataFrame({'countries': countries, 'no_fund_180_Day_Usage_Count_mean': last_180_Day_Usage_Count_mean_list})\n",
        "\n",
        "# ********\n",
        "dataT_concat = dataT.reset_index().merge(dataT_sum, on = 'countries', how='left')\n",
        "dataT_concat = dataT_concat.merge(dataT_mean, on = 'countries', how='left')\n",
        "\n",
        "dataT_concat['no_fund_180_Day_Usage_Count_count'] = dataT_concat['no_fund_180_Day_Usage_Count_sum']/dataT_concat['no_fund_180_Day_Usage_Count_mean']\n",
        "\n",
        "#####\n",
        "\n",
        "\n",
        "dataT_concat_no_fund_180_day = dataT_concat[['countries','no_fund_180_Day_Usage_Count_sum','no_fund_180_Day_Usage_Count_mean','no_fund_180_Day_Usage_Count_count']].set_index('countries')\n",
        "\n",
        "# save data\n",
        "# dataT_concat_no_fund.to_csv(f'../TABLES/countries_no_fund_last_180_Day_Usage_Count_sum_mean_count.csv')\n",
        "dataT_concat_no_fund_180_day"
      ]
    },
    {
      "cell_type": "code",
      "execution_count": null,
      "id": "aaf575bf-eb89-4092-9746-6a4385f2024f",
      "metadata": {
        "id": "aaf575bf-eb89-4092-9746-6a4385f2024f"
      },
      "outputs": [],
      "source": []
    },
    {
      "cell_type": "markdown",
      "id": "2919ad6b-0781-4ff7-83c5-d4e9d33baf84",
      "metadata": {
        "id": "2919ad6b-0781-4ff7-83c5-d4e9d33baf84"
      },
      "source": [
        "### concat and save data"
      ]
    },
    {
      "cell_type": "code",
      "execution_count": null,
      "id": "f48916d0-ba35-4b6a-bd94-2559a57e926c",
      "metadata": {
        "tags": [],
        "id": "f48916d0-ba35-4b6a-bd94-2559a57e926c"
      },
      "outputs": [],
      "source": [
        "# concatenate dataframes on index\n",
        "concat_data_pub_180_day_list = pd.concat([dataT_concat_all_180_day,\n",
        "                                    dataT_concat_fund_180_day,\n",
        "                                    dataT_concat_no_fund_180_day],\n",
        "                                    axis=1)\n",
        "# save data\n",
        "concat_data_pub_180_day_list.to_csv(f'../TABLES/concat_data_pub_180_day_usage_list.csv')\n",
        "concat_data_pub_180_day_list"
      ]
    },
    {
      "cell_type": "code",
      "execution_count": null,
      "id": "6e68835e-66bb-4e82-ab4f-579069a87b29",
      "metadata": {
        "id": "6e68835e-66bb-4e82-ab4f-579069a87b29"
      },
      "outputs": [],
      "source": []
    },
    {
      "cell_type": "code",
      "execution_count": null,
      "id": "d4e1b0f3-3bfc-4b90-b893-5b0bd816a27e",
      "metadata": {
        "id": "d4e1b0f3-3bfc-4b90-b893-5b0bd816a27e"
      },
      "outputs": [],
      "source": []
    },
    {
      "cell_type": "markdown",
      "id": "d7f0d07a-7054-496a-b2b8-7aa426029b27",
      "metadata": {
        "id": "d7f0d07a-7054-496a-b2b8-7aa426029b27"
      },
      "source": [
        "### significance"
      ]
    },
    {
      "cell_type": "code",
      "execution_count": null,
      "id": "b118b25b-9a83-41df-99c5-b344e98511e0",
      "metadata": {
        "id": "b118b25b-9a83-41df-99c5-b344e98511e0"
      },
      "outputs": [],
      "source": [
        "df_fund = data[['funding_yes','180 Day Usage Count']]\n",
        "df_fund"
      ]
    },
    {
      "cell_type": "code",
      "execution_count": null,
      "id": "26f84644-a89d-40b9-9224-61199e09141d",
      "metadata": {
        "id": "26f84644-a89d-40b9-9224-61199e09141d"
      },
      "outputs": [],
      "source": [
        "df_fund.count()"
      ]
    },
    {
      "cell_type": "code",
      "execution_count": null,
      "id": "70401c9b-e82e-4522-96c6-d56284f92fbc",
      "metadata": {
        "id": "70401c9b-e82e-4522-96c6-d56284f92fbc"
      },
      "outputs": [],
      "source": [
        "df_fund.reset_index().groupby(['funding_yes']).count()"
      ]
    },
    {
      "cell_type": "code",
      "execution_count": null,
      "id": "b2396449-9116-425d-a538-ade9b27c41e2",
      "metadata": {
        "id": "b2396449-9116-425d-a538-ade9b27c41e2"
      },
      "outputs": [],
      "source": [
        "df_fund = df_fund.dropna()\n",
        "df_fund"
      ]
    },
    {
      "cell_type": "code",
      "execution_count": null,
      "id": "e94a24ab-ee48-48cb-bd16-a563b7bf00d6",
      "metadata": {
        "id": "e94a24ab-ee48-48cb-bd16-a563b7bf00d6"
      },
      "outputs": [],
      "source": [
        "df_fund.reset_index().groupby(['funding_yes']).count()"
      ]
    },
    {
      "cell_type": "code",
      "execution_count": null,
      "id": "3003428e-5ebf-4610-b30c-0a79057bd353",
      "metadata": {
        "id": "3003428e-5ebf-4610-b30c-0a79057bd353"
      },
      "outputs": [],
      "source": [
        "df_fund.describe()"
      ]
    },
    {
      "cell_type": "code",
      "execution_count": null,
      "id": "22986f1a-5d39-4ef6-a1de-9552b6082278",
      "metadata": {
        "id": "22986f1a-5d39-4ef6-a1de-9552b6082278"
      },
      "outputs": [],
      "source": [
        "df_fund.loc[df_fund['funding_yes'] == 0].describe()"
      ]
    },
    {
      "cell_type": "code",
      "execution_count": null,
      "id": "af6c75d1-921e-42c2-90ef-9b0b8293be07",
      "metadata": {
        "id": "af6c75d1-921e-42c2-90ef-9b0b8293be07"
      },
      "outputs": [],
      "source": [
        "df_fund.loc[df_fund['funding_yes'] == 1].describe()"
      ]
    },
    {
      "cell_type": "code",
      "execution_count": null,
      "id": "4b0a1fa4-8c5d-4c8e-b7c8-4faf574a7128",
      "metadata": {
        "id": "4b0a1fa4-8c5d-4c8e-b7c8-4faf574a7128"
      },
      "outputs": [],
      "source": [
        "#------------"
      ]
    },
    {
      "cell_type": "code",
      "execution_count": null,
      "id": "cc637ddd-1d9c-49e0-9b80-da884ecd5d9e",
      "metadata": {
        "id": "cc637ddd-1d9c-49e0-9b80-da884ecd5d9e"
      },
      "outputs": [],
      "source": [
        "fund_TCA = df_fund.loc[df_fund['funding_yes'] == 1]['180 Day Usage Count'].to_list()\n",
        "fund_TCA[:15]"
      ]
    },
    {
      "cell_type": "code",
      "execution_count": null,
      "id": "f76aff87-c9c7-4258-9b28-acea4da57141",
      "metadata": {
        "id": "f76aff87-c9c7-4258-9b28-acea4da57141"
      },
      "outputs": [],
      "source": [
        "no_fund_TCA = df_fund.loc[df_fund['funding_yes'] == 0]['180 Day Usage Count'].to_list()"
      ]
    },
    {
      "cell_type": "code",
      "execution_count": null,
      "id": "54ccd4bf-4e72-4d36-8c44-a9eb61cf0c15",
      "metadata": {
        "id": "54ccd4bf-4e72-4d36-8c44-a9eb61cf0c15"
      },
      "outputs": [],
      "source": []
    },
    {
      "cell_type": "code",
      "execution_count": null,
      "id": "d4a92cf7-ca7c-4777-94a3-99f586ba0467",
      "metadata": {
        "id": "d4a92cf7-ca7c-4777-94a3-99f586ba0467"
      },
      "outputs": [],
      "source": [
        "test_sig(fund_TCA, no_fund_TCA)"
      ]
    },
    {
      "cell_type": "code",
      "execution_count": null,
      "id": "1312d01b-8970-44c2-b993-fbbb0ec6f7df",
      "metadata": {
        "id": "1312d01b-8970-44c2-b993-fbbb0ec6f7df"
      },
      "outputs": [],
      "source": []
    },
    {
      "cell_type": "raw",
      "id": "cfbfbbf0-cedd-451f-acbb-0455b4cfbbce",
      "metadata": {
        "id": "cfbfbbf0-cedd-451f-acbb-0455b4cfbbce"
      },
      "source": [
        "https://plotly.com/python/box-plots/"
      ]
    },
    {
      "cell_type": "code",
      "execution_count": null,
      "id": "cd3c6bd0-79ff-4f55-b21f-7c49075942fd",
      "metadata": {
        "id": "cd3c6bd0-79ff-4f55-b21f-7c49075942fd"
      },
      "outputs": [],
      "source": [
        "import plotly.express as px\n",
        "fig = px.box(df_fund, x=\"funding_yes\", y=\"180 Day Usage Count\", color=\"funding_yes\")\n",
        "# setting the y-axis range from 0 to 50\n",
        "fig.update_layout(yaxis_range=[-2,100])\n",
        "fig.update_layout(font_size=20)\n",
        "\n",
        "fig.show()"
      ]
    },
    {
      "cell_type": "code",
      "execution_count": null,
      "id": "f2622e95-c6eb-41d8-b9d7-8b88eeb5ae34",
      "metadata": {
        "id": "f2622e95-c6eb-41d8-b9d7-8b88eeb5ae34"
      },
      "outputs": [],
      "source": []
    },
    {
      "cell_type": "code",
      "execution_count": null,
      "id": "4e1df3dc-3e8b-42bc-b4f1-2cdb910b41bf",
      "metadata": {
        "id": "4e1df3dc-3e8b-42bc-b4f1-2cdb910b41bf"
      },
      "outputs": [],
      "source": []
    },
    {
      "cell_type": "markdown",
      "id": "d23a342a-e840-4363-8904-16bead016dfd",
      "metadata": {
        "id": "d23a342a-e840-4363-8904-16bead016dfd"
      },
      "source": [
        "## 'Since 2013 Usage Count'"
      ]
    },
    {
      "cell_type": "markdown",
      "id": "c2f8cb49-890b-42f5-bc78-93de6c65efcf",
      "metadata": {
        "id": "c2f8cb49-890b-42f5-bc78-93de6c65efcf"
      },
      "source": [
        "### proportion all"
      ]
    },
    {
      "cell_type": "code",
      "execution_count": null,
      "id": "d7bf70b3-869b-4182-aa09-4cb2a8fc3716",
      "metadata": {
        "id": "d7bf70b3-869b-4182-aa09-4cb2a8fc3716"
      },
      "outputs": [],
      "source": [
        "dataT = data.T\n",
        "\n",
        "dataT['countries'] = dataT.index\n",
        "\n",
        "Since_2013_Usage_Coun_std_list = []\n",
        "Since_2013_Usage_Coun_median_list = []\n",
        "Since_2013_Usage_Coun_mean_list = []\n",
        "Since_2013_Usage_Coun_sum_list = []\n",
        "for country in data.columns:\n",
        "    Since_2013_Usage_Coun_sum_list.append(data.dropna(subset=[country])['Since 2013 Usage Count'].sum())\n",
        "    Since_2013_Usage_Coun_mean_list.append(data.dropna(subset=[country])['Since 2013 Usage Count'].mean())\n",
        "\n",
        "# rename countries names on columns\n",
        "countries = list(dataT.index)\n",
        "Since_2013_Usage_Coun_sum  = Since_2013_Usage_Coun_sum_list\n",
        "Since_2013_Usage_Coun_mean = Since_2013_Usage_Coun_mean_list\n",
        "\n",
        "dataT_sum = pd.DataFrame({'countries': countries, 'all_since_2013_Usage_Coun_sum': Since_2013_Usage_Coun_sum})\n",
        "dataT_mean = pd.DataFrame({'countries': countries, 'all_since_2013_Usage_Coun_mean': Since_2013_Usage_Coun_mean_list})\n",
        "\n",
        "# ********\n",
        "dataT_concat = dataT.reset_index().merge(dataT_sum, on = 'countries', how='left')\n",
        "dataT_concat = dataT_concat.merge(dataT_mean, on = 'countries', how='left')\n",
        "\n",
        "dataT_concat['all_since_2013_Usage_Coun_count'] = dataT_concat['all_since_2013_Usage_Coun_sum']/dataT_concat['all_since_2013_Usage_Coun_mean']\n",
        "\n",
        "#####\n",
        "\n",
        "\n",
        "dataT_concat_all_since2013usage = dataT_concat[['countries','all_since_2013_Usage_Coun_sum','all_since_2013_Usage_Coun_mean','all_since_2013_Usage_Coun_count']].set_index('countries')\n",
        "\n",
        "# save data\n",
        "# dataT_concat_all.to_csv(f'../TABLES/countries_Since_2013_Usage_Count_sum_mean.csv')\n",
        "dataT_concat_all_since2013usage"
      ]
    },
    {
      "cell_type": "code",
      "execution_count": null,
      "id": "192b2b11-b16f-44c9-8fed-fe7d62ed99e8",
      "metadata": {
        "id": "192b2b11-b16f-44c9-8fed-fe7d62ed99e8"
      },
      "outputs": [],
      "source": [
        "len(Since_2013_Usage_Coun_sum)"
      ]
    },
    {
      "cell_type": "code",
      "execution_count": null,
      "id": "9c109348-3615-4d2b-bbb2-76af605a396b",
      "metadata": {
        "id": "9c109348-3615-4d2b-bbb2-76af605a396b"
      },
      "outputs": [],
      "source": [
        "len(Since_2013_Usage_Coun_mean)"
      ]
    },
    {
      "cell_type": "code",
      "execution_count": null,
      "id": "ea70bba0-6205-4261-b0e7-9b1f2e1ef6ab",
      "metadata": {
        "id": "ea70bba0-6205-4261-b0e7-9b1f2e1ef6ab"
      },
      "outputs": [],
      "source": []
    },
    {
      "cell_type": "markdown",
      "id": "167f3c1e-dc5b-4444-8495-3d76eb3f13fd",
      "metadata": {
        "id": "167f3c1e-dc5b-4444-8495-3d76eb3f13fd"
      },
      "source": [
        "### proportion fund research"
      ]
    },
    {
      "cell_type": "code",
      "execution_count": null,
      "id": "6278bb65-38d3-451e-86f8-a4c1245d1b42",
      "metadata": {
        "id": "6278bb65-38d3-451e-86f8-a4c1245d1b42"
      },
      "outputs": [],
      "source": [
        "data_fund = data.loc[data['funding_yes'] == 1]\n",
        "data_fund.shape"
      ]
    },
    {
      "cell_type": "code",
      "execution_count": null,
      "id": "2cf4cea8-e415-4570-a07c-05955217207c",
      "metadata": {
        "id": "2cf4cea8-e415-4570-a07c-05955217207c"
      },
      "outputs": [],
      "source": []
    },
    {
      "cell_type": "code",
      "execution_count": null,
      "id": "42ccbbbd-d99b-45a8-a5c1-34fd3c8780af",
      "metadata": {
        "id": "42ccbbbd-d99b-45a8-a5c1-34fd3c8780af"
      },
      "outputs": [],
      "source": [
        "dataT = data_fund.T\n",
        "\n",
        "dataT['countries'] = dataT.index\n",
        "\n",
        "Since_2013_Usage_Coun_std_list = []\n",
        "Since_2013_Usage_Coun_median_list = []\n",
        "Since_2013_Usage_Coun_mean_list = []\n",
        "Since_2013_Usage_Coun_sum_list = []\n",
        "for country in data.columns:\n",
        "    Since_2013_Usage_Coun_sum_list.append(data_fund.dropna(subset=[country])['Since 2013 Usage Count'].sum())\n",
        "    Since_2013_Usage_Coun_mean_list.append(data_fund.dropna(subset=[country])['Since 2013 Usage Count'].mean())\n",
        "\n",
        "# rename countries names on columns\n",
        "countries = list(dataT.index)\n",
        "Since_2013_Usage_Coun_sum  = Since_2013_Usage_Coun_sum_list\n",
        "Since_2013_Usage_Coun_mean = Since_2013_Usage_Coun_mean_list\n",
        "\n",
        "dataT_sum = pd.DataFrame({'countries': countries, 'fund_since_2013_Usage_Coun_sum': Since_2013_Usage_Coun_sum})\n",
        "dataT_mean = pd.DataFrame({'countries': countries, 'fund_since_2013_Usage_Coun_mean': Since_2013_Usage_Coun_mean_list})\n",
        "\n",
        "# ********\n",
        "dataT_concat = dataT.reset_index().merge(dataT_sum, on = 'countries', how='left')\n",
        "dataT_concat = dataT_concat.merge(dataT_mean, on = 'countries', how='left')\n",
        "\n",
        "dataT_concat['fund_since_2013_Usage_Coun_count'] = dataT_concat['fund_since_2013_Usage_Coun_sum']/dataT_concat['fund_since_2013_Usage_Coun_mean']\n",
        "\n",
        "#####\n",
        "\n",
        "\n",
        "dataT_concat_fund_since2013usage = dataT_concat[['countries','fund_since_2013_Usage_Coun_sum','fund_since_2013_Usage_Coun_mean','fund_since_2013_Usage_Coun_count']].set_index('countries')\n",
        "\n",
        "# save data\n",
        "# dataT_concat_fund.to_csv(f'../TABLES/countries_fund_Since_2013_Usage_Count_sum_mean.csv')\n",
        "dataT_concat_fund_since2013usage"
      ]
    },
    {
      "cell_type": "code",
      "execution_count": null,
      "id": "c9a0425d-c006-46ce-8b7c-7f6ecd0566de",
      "metadata": {
        "id": "c9a0425d-c006-46ce-8b7c-7f6ecd0566de"
      },
      "outputs": [],
      "source": []
    },
    {
      "cell_type": "markdown",
      "id": "0d83e39d-8063-4564-8a37-2687402de18b",
      "metadata": {
        "id": "0d83e39d-8063-4564-8a37-2687402de18b"
      },
      "source": [
        "### proportion no fund research"
      ]
    },
    {
      "cell_type": "code",
      "execution_count": null,
      "id": "7c5d686b-dbf1-4763-9bf8-99a51eced457",
      "metadata": {
        "id": "7c5d686b-dbf1-4763-9bf8-99a51eced457"
      },
      "outputs": [],
      "source": [
        "data_no_fund = data.loc[data['funding_yes'] == 0]\n",
        "data_no_fund.shape"
      ]
    },
    {
      "cell_type": "code",
      "execution_count": null,
      "id": "e562f4b9-01e2-48df-9c4b-529293e3fd62",
      "metadata": {
        "id": "e562f4b9-01e2-48df-9c4b-529293e3fd62"
      },
      "outputs": [],
      "source": []
    },
    {
      "cell_type": "code",
      "execution_count": null,
      "id": "71ce3e65-25b1-4e28-a6ac-4b30bdc12e32",
      "metadata": {
        "id": "71ce3e65-25b1-4e28-a6ac-4b30bdc12e32"
      },
      "outputs": [],
      "source": [
        "dataT = data_no_fund.T\n",
        "\n",
        "dataT['countries'] = dataT.index\n",
        "\n",
        "Since_2013_Usage_Coun_std_list = []\n",
        "Since_2013_Usage_Coun_median_list = []\n",
        "Since_2013_Usage_Coun_mean_list = []\n",
        "Since_2013_Usage_Coun_sum_list = []\n",
        "for country in data.columns:\n",
        "    Since_2013_Usage_Coun_sum_list.append(data_no_fund.dropna(subset=[country])['Since 2013 Usage Count'].sum())\n",
        "    Since_2013_Usage_Coun_mean_list.append(data_no_fund.dropna(subset=[country])['Since 2013 Usage Count'].mean())\n",
        "\n",
        "# rename countries names on columns\n",
        "countries = list(dataT.index)\n",
        "Since_2013_Usage_Coun_sum  = Since_2013_Usage_Coun_sum_list\n",
        "Since_2013_Usage_Coun_mean = Since_2013_Usage_Coun_mean_list\n",
        "\n",
        "dataT_sum = pd.DataFrame({'countries': countries, 'no_fund_since_2013_Usage_Coun_sum': Since_2013_Usage_Coun_sum})\n",
        "dataT_mean = pd.DataFrame({'countries': countries, 'no_fund_since_2013_Usage_Coun_mean': Since_2013_Usage_Coun_mean_list})\n",
        "\n",
        "# ********\n",
        "dataT_concat = dataT.reset_index().merge(dataT_sum, on = 'countries', how='left')\n",
        "dataT_concat = dataT_concat.merge(dataT_mean, on = 'countries', how='left')\n",
        "\n",
        "dataT_concat['no_fund_since_2013_Usage_Coun_count'] = dataT_concat['no_fund_since_2013_Usage_Coun_sum']/dataT_concat['no_fund_since_2013_Usage_Coun_mean']\n",
        "\n",
        "#####\n",
        "\n",
        "\n",
        "dataT_concat_no_fund_since2013usage = dataT_concat[['countries','no_fund_since_2013_Usage_Coun_sum','no_fund_since_2013_Usage_Coun_mean','no_fund_since_2013_Usage_Coun_count']].set_index('countries')\n",
        "\n",
        "# save data\n",
        "# dataT_concat_no_fund.to_csv(f'../TABLES/countries_no_fund_Since_2013_Usage_Count_sum_mean.csv')\n",
        "dataT_concat_no_fund_since2013usage"
      ]
    },
    {
      "cell_type": "code",
      "execution_count": null,
      "id": "ccd9fce8-050a-4d4b-9d6c-e19c443b5895",
      "metadata": {
        "id": "ccd9fce8-050a-4d4b-9d6c-e19c443b5895"
      },
      "outputs": [],
      "source": []
    },
    {
      "cell_type": "markdown",
      "id": "0d13c8fe-7a28-47eb-b25f-74acbf737800",
      "metadata": {
        "id": "0d13c8fe-7a28-47eb-b25f-74acbf737800"
      },
      "source": [
        "### concat and save data"
      ]
    },
    {
      "cell_type": "code",
      "execution_count": null,
      "id": "fedf1321-afec-4880-907f-ad91b0f691be",
      "metadata": {
        "tags": [],
        "id": "fedf1321-afec-4880-907f-ad91b0f691be"
      },
      "outputs": [],
      "source": [
        "# concatenate dataframes on index\n",
        "concat_data_pub_tca_list = pd.concat([dataT_concat_all_since2013usage,\n",
        "                                    dataT_concat_fund_since2013usage,\n",
        "                                    dataT_concat_no_fund_since2013usage],\n",
        "                                    axis=1)\n",
        "# save data\n",
        "concat_data_pub_tca_list.to_csv(f'../TABLES/concat_data_pub_since2013usage_list.csv')\n",
        "concat_data_pub_tca_list"
      ]
    },
    {
      "cell_type": "code",
      "execution_count": null,
      "id": "3cd40615-1bb2-4923-988e-f21d95bbd9a3",
      "metadata": {
        "id": "3cd40615-1bb2-4923-988e-f21d95bbd9a3"
      },
      "outputs": [],
      "source": []
    },
    {
      "cell_type": "markdown",
      "id": "8e9b2e5c-c949-4e68-9a96-b5f78437bda1",
      "metadata": {
        "id": "8e9b2e5c-c949-4e68-9a96-b5f78437bda1"
      },
      "source": [
        "### significance"
      ]
    },
    {
      "cell_type": "code",
      "execution_count": null,
      "id": "ea5a50c0-faae-499e-b4a4-633a20c65cfa",
      "metadata": {
        "id": "ea5a50c0-faae-499e-b4a4-633a20c65cfa"
      },
      "outputs": [],
      "source": [
        "df_fund = data[['funding_yes','Since 2013 Usage Count']]\n",
        "df_fund"
      ]
    },
    {
      "cell_type": "code",
      "execution_count": null,
      "id": "b401fa23-052a-44ba-a162-02b16343d856",
      "metadata": {
        "id": "b401fa23-052a-44ba-a162-02b16343d856"
      },
      "outputs": [],
      "source": [
        "df_fund.count()"
      ]
    },
    {
      "cell_type": "code",
      "execution_count": null,
      "id": "e58fb5f9-3960-4c49-8f1b-3aad54768f10",
      "metadata": {
        "id": "e58fb5f9-3960-4c49-8f1b-3aad54768f10"
      },
      "outputs": [],
      "source": [
        "df_fund.reset_index().groupby(['funding_yes']).count()"
      ]
    },
    {
      "cell_type": "code",
      "execution_count": null,
      "id": "c8c235cc-d0fd-469c-b66c-b83c3f27e947",
      "metadata": {
        "id": "c8c235cc-d0fd-469c-b66c-b83c3f27e947"
      },
      "outputs": [],
      "source": [
        "df_fund = df_fund.dropna()\n",
        "df_fund"
      ]
    },
    {
      "cell_type": "code",
      "execution_count": null,
      "id": "32eb3cbb-8f31-42ad-be1e-0e2e7c95a409",
      "metadata": {
        "id": "32eb3cbb-8f31-42ad-be1e-0e2e7c95a409"
      },
      "outputs": [],
      "source": [
        "df_fund.reset_index().groupby(['funding_yes']).count()"
      ]
    },
    {
      "cell_type": "code",
      "execution_count": null,
      "id": "c7a3b719-7258-4bae-a231-63e4248abb64",
      "metadata": {
        "id": "c7a3b719-7258-4bae-a231-63e4248abb64"
      },
      "outputs": [],
      "source": [
        "df_fund.describe()"
      ]
    },
    {
      "cell_type": "code",
      "execution_count": null,
      "id": "3cca72eb-e588-4038-9f3b-2ba5cfd348d7",
      "metadata": {
        "id": "3cca72eb-e588-4038-9f3b-2ba5cfd348d7"
      },
      "outputs": [],
      "source": [
        "df_fund.loc[df_fund['funding_yes'] == 0].describe()"
      ]
    },
    {
      "cell_type": "code",
      "execution_count": null,
      "id": "3e54b980-ac37-4ba6-8cfe-3419699077fc",
      "metadata": {
        "id": "3e54b980-ac37-4ba6-8cfe-3419699077fc"
      },
      "outputs": [],
      "source": [
        "df_fund.loc[df_fund['funding_yes'] == 1].describe()"
      ]
    },
    {
      "cell_type": "code",
      "execution_count": null,
      "id": "839ac1a2-1b9d-4399-b02d-994991bb51f6",
      "metadata": {
        "id": "839ac1a2-1b9d-4399-b02d-994991bb51f6"
      },
      "outputs": [],
      "source": [
        "#------------"
      ]
    },
    {
      "cell_type": "code",
      "execution_count": null,
      "id": "bafcfde8-3eac-4d76-a72b-255264cca5f4",
      "metadata": {
        "id": "bafcfde8-3eac-4d76-a72b-255264cca5f4"
      },
      "outputs": [],
      "source": [
        "fund_TCA = df_fund.loc[df_fund['funding_yes'] == 1]['Since 2013 Usage Count'].to_list()\n",
        "fund_TCA[:15]"
      ]
    },
    {
      "cell_type": "code",
      "execution_count": null,
      "id": "f29b4cf7-647c-4d6c-980b-dc66ca7e78ca",
      "metadata": {
        "id": "f29b4cf7-647c-4d6c-980b-dc66ca7e78ca"
      },
      "outputs": [],
      "source": [
        "no_fund_TCA = df_fund.loc[df_fund['funding_yes'] == 0]['Since 2013 Usage Count'].to_list()"
      ]
    },
    {
      "cell_type": "code",
      "execution_count": null,
      "id": "c546ef9d-2349-4d79-9719-9c42c1ec5a0c",
      "metadata": {
        "id": "c546ef9d-2349-4d79-9719-9c42c1ec5a0c"
      },
      "outputs": [],
      "source": []
    },
    {
      "cell_type": "code",
      "execution_count": null,
      "id": "2e8bd8b8-3e9d-4004-bab4-c514581e9b58",
      "metadata": {
        "id": "2e8bd8b8-3e9d-4004-bab4-c514581e9b58"
      },
      "outputs": [],
      "source": [
        "test_sig(fund_TCA, no_fund_TCA)"
      ]
    },
    {
      "cell_type": "code",
      "execution_count": null,
      "id": "bb4b4988-e94a-4501-8011-0b781b966e91",
      "metadata": {
        "id": "bb4b4988-e94a-4501-8011-0b781b966e91"
      },
      "outputs": [],
      "source": []
    },
    {
      "cell_type": "raw",
      "id": "8eeb539c-523a-4628-b786-cfd6662298fd",
      "metadata": {
        "id": "8eeb539c-523a-4628-b786-cfd6662298fd"
      },
      "source": [
        "https://plotly.com/python/box-plots/"
      ]
    },
    {
      "cell_type": "code",
      "execution_count": null,
      "id": "3c84e620-1005-4ca8-a7e8-c89f1cd64b7c",
      "metadata": {
        "id": "3c84e620-1005-4ca8-a7e8-c89f1cd64b7c"
      },
      "outputs": [],
      "source": [
        "import plotly.express as px\n",
        "fig = px.box(df_fund, x=\"funding_yes\", y=\"Since 2013 Usage Count\", color=\"funding_yes\")\n",
        "# setting the y-axis range from 0 to 50\n",
        "fig.update_layout(yaxis_range=[-2,100])\n",
        "fig.update_layout(font_size=20)\n",
        "\n",
        "fig.show()"
      ]
    },
    {
      "cell_type": "code",
      "execution_count": null,
      "id": "af219d26-f7dc-44f6-bac2-b7347edab548",
      "metadata": {
        "id": "af219d26-f7dc-44f6-bac2-b7347edab548"
      },
      "outputs": [],
      "source": []
    },
    {
      "cell_type": "code",
      "execution_count": null,
      "id": "1eacbb47-e21e-4abf-b295-5a66c06f5b94",
      "metadata": {
        "id": "1eacbb47-e21e-4abf-b295-5a66c06f5b94"
      },
      "outputs": [],
      "source": []
    },
    {
      "cell_type": "code",
      "execution_count": null,
      "id": "286291e5-244e-4c2e-b954-2d44b1600795",
      "metadata": {
        "id": "286291e5-244e-4c2e-b954-2d44b1600795"
      },
      "outputs": [],
      "source": []
    },
    {
      "cell_type": "code",
      "execution_count": null,
      "id": "e51ba256-5c5c-473e-b7c8-40b59c71a561",
      "metadata": {
        "id": "e51ba256-5c5c-473e-b7c8-40b59c71a561"
      },
      "outputs": [],
      "source": []
    }
  ],
  "metadata": {
    "kernelspec": {
      "display_name": "Python 3 (ipykernel)",
      "language": "python",
      "name": "python3"
    },
    "language_info": {
      "codemirror_mode": {
        "name": "ipython",
        "version": 3
      },
      "file_extension": ".py",
      "mimetype": "text/x-python",
      "name": "python",
      "nbconvert_exporter": "python",
      "pygments_lexer": "ipython3",
      "version": "3.8.8"
    },
    "colab": {
      "provenance": [],
      "include_colab_link": true
    }
  },
  "nbformat": 4,
  "nbformat_minor": 5
}